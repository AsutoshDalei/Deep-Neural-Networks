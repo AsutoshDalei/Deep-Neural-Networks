{
 "cells": [
  {
   "cell_type": "code",
   "execution_count": 12,
   "metadata": {},
   "outputs": [],
   "source": [
    "import numpy as np\n",
    "import tensorflow as tf\n",
    "import pandas as pd"
   ]
  },
  {
   "cell_type": "code",
   "execution_count": 131,
   "metadata": {
    "scrolled": true
   },
   "outputs": [
    {
     "data": {
      "text/html": [
       "<div>\n",
       "<style scoped>\n",
       "    .dataframe tbody tr th:only-of-type {\n",
       "        vertical-align: middle;\n",
       "    }\n",
       "\n",
       "    .dataframe tbody tr th {\n",
       "        vertical-align: top;\n",
       "    }\n",
       "\n",
       "    .dataframe thead th {\n",
       "        text-align: right;\n",
       "    }\n",
       "</style>\n",
       "<table border=\"1\" class=\"dataframe\">\n",
       "  <thead>\n",
       "    <tr style=\"text-align: right;\">\n",
       "      <th></th>\n",
       "      <th>age;sex;height;weight;qrs_duration;p-r_interval;q-t_interval;t_interval;p_interval;qrs;T;P;QRST;J;heart_rate;q_wave;r_wave;s_wave;R'_wave;S'_wave;AA;AB;AC;AD;AE;AF;AG;AH;AI;AJ;AK;AL;AM;AN;AO;AP;AR;AS;AT;AU;AV;AY;AZ;AB';BB;BC;BD;BE;BF;BG;BH;BI;BJ;BK;BL;BM;BN;BO;BP;BR;BS;BT;BU;BV;BY;BZ;CA;CB;CC;CD;CE;Cf;CG;CH;CI;CJ;CK;CL;CM;CN;CO;CP;CR;CS;CT;CU;CV;CY;CZ;DA;DB;DC;DD;DE;DF;DG;DH;DI;DJ;DK;DL;DM;DN;DO;DP;DR;DS;DT;DU;DV;DY;DZ;EA;EB;EC;ED;EF;EG;EH;EI;EJ;EK;EL;EM;EN;EO;EP;ER;ES;ET;EU;EV;EY;EZ;FA;FB;FC;FD;FE;FF;FG;FH;FI;FJ;FK;FL;FM;FN;FO;FP;FR;FS;FT;FU;FV;FY;FZ;GA;GB;GC;GD;GE;GF;GG;GH;GI;GJ;GK;GL;GM;GN;GO;GP;GR;GS;GT;GU;GV;GY;GZ;HA;HB;HC;HD;HE;HF;HG;HH;HI;HJ;HK;HL;HM;HN;HO;HP;HR;HS;HT;HU;HV;HY;HZ;IA;IB;IC;ID;IE;IF;IG;IH;II;IJ;IK;IL;IM;IN;IO;IP;IR;IS;IT;IU;IV;IY;IZ;JA;JB;JC;JD;JE;JF;JG;JH;JI;JJ;JK;JL;JM;JN;JO;JP;JR;JS;JT;JU;JV;JY;JZ;KA;KB;KC;KD;KE;KF;KG;KH;KI;KJ;KK;KL;KM;KN;KO;KP;KR;KS;KT;KU;KV;KY;KZ;LA;LB;LC;LD;LE;LF;LG;diagnosis</th>\n",
       "    </tr>\n",
       "  </thead>\n",
       "  <tbody>\n",
       "    <tr>\n",
       "      <th>0</th>\n",
       "      <td>75;0;190;80;91;193;371;174;121;-16;13;64;-2;?;...</td>\n",
       "    </tr>\n",
       "    <tr>\n",
       "      <th>1</th>\n",
       "      <td>56;1;165;64;81;174;401;149;39;25;37;-17;31;?;5...</td>\n",
       "    </tr>\n",
       "    <tr>\n",
       "      <th>2</th>\n",
       "      <td>54;0;172;95;138;163;386;185;102;96;34;70;66;23...</td>\n",
       "    </tr>\n",
       "    <tr>\n",
       "      <th>3</th>\n",
       "      <td>55;0;175;94;100;202;380;179;143;28;11;-5;20;?;...</td>\n",
       "    </tr>\n",
       "    <tr>\n",
       "      <th>4</th>\n",
       "      <td>75;0;190;80;88;181;360;177;103;-16;13;61;3;?;?...</td>\n",
       "    </tr>\n",
       "  </tbody>\n",
       "</table>\n",
       "</div>"
      ],
      "text/plain": [
       "  age;sex;height;weight;qrs_duration;p-r_interval;q-t_interval;t_interval;p_interval;qrs;T;P;QRST;J;heart_rate;q_wave;r_wave;s_wave;R'_wave;S'_wave;AA;AB;AC;AD;AE;AF;AG;AH;AI;AJ;AK;AL;AM;AN;AO;AP;AR;AS;AT;AU;AV;AY;AZ;AB';BB;BC;BD;BE;BF;BG;BH;BI;BJ;BK;BL;BM;BN;BO;BP;BR;BS;BT;BU;BV;BY;BZ;CA;CB;CC;CD;CE;Cf;CG;CH;CI;CJ;CK;CL;CM;CN;CO;CP;CR;CS;CT;CU;CV;CY;CZ;DA;DB;DC;DD;DE;DF;DG;DH;DI;DJ;DK;DL;DM;DN;DO;DP;DR;DS;DT;DU;DV;DY;DZ;EA;EB;EC;ED;EF;EG;EH;EI;EJ;EK;EL;EM;EN;EO;EP;ER;ES;ET;EU;EV;EY;EZ;FA;FB;FC;FD;FE;FF;FG;FH;FI;FJ;FK;FL;FM;FN;FO;FP;FR;FS;FT;FU;FV;FY;FZ;GA;GB;GC;GD;GE;GF;GG;GH;GI;GJ;GK;GL;GM;GN;GO;GP;GR;GS;GT;GU;GV;GY;GZ;HA;HB;HC;HD;HE;HF;HG;HH;HI;HJ;HK;HL;HM;HN;HO;HP;HR;HS;HT;HU;HV;HY;HZ;IA;IB;IC;ID;IE;IF;IG;IH;II;IJ;IK;IL;IM;IN;IO;IP;IR;IS;IT;IU;IV;IY;IZ;JA;JB;JC;JD;JE;JF;JG;JH;JI;JJ;JK;JL;JM;JN;JO;JP;JR;JS;JT;JU;JV;JY;JZ;KA;KB;KC;KD;KE;KF;KG;KH;KI;KJ;KK;KL;KM;KN;KO;KP;KR;KS;KT;KU;KV;KY;KZ;LA;LB;LC;LD;LE;LF;LG;diagnosis\n",
       "0  75;0;190;80;91;193;371;174;121;-16;13;64;-2;?;...                                                                                                                                                                                                                                                                                                                                                                                                                                                                                                                                                                                                                                                                                                                                                                                                                                                                                                                   \n",
       "1  56;1;165;64;81;174;401;149;39;25;37;-17;31;?;5...                                                                                                                                                                                                                                                                                                                                                                                                                                                                                                                                                                                                                                                                                                                                                                                                                                                                                                                   \n",
       "2  54;0;172;95;138;163;386;185;102;96;34;70;66;23...                                                                                                                                                                                                                                                                                                                                                                                                                                                                                                                                                                                                                                                                                                                                                                                                                                                                                                                   \n",
       "3  55;0;175;94;100;202;380;179;143;28;11;-5;20;?;...                                                                                                                                                                                                                                                                                                                                                                                                                                                                                                                                                                                                                                                                                                                                                                                                                                                                                                                   \n",
       "4  75;0;190;80;88;181;360;177;103;-16;13;61;3;?;?...                                                                                                                                                                                                                                                                                                                                                                                                                                                                                                                                                                                                                                                                                                                                                                                                                                                                                                                   "
      ]
     },
     "execution_count": 131,
     "metadata": {},
     "output_type": "execute_result"
    }
   ],
   "source": [
    "df=pd.read_csv(r'C:\\Users\\asuto\\Desktop\\Work\\Datasets\\Cardiac Arrhythmia Database\\data_arrhythmia.csv')\n",
    "#df2=pd.read_csv(r'‪C:\\Users\\asuto\\Downloads\\arrhythmia.csv')\n",
    "initialcolumns=df.columns[0].split(';')\n",
    "df.head(5)"
   ]
  },
  {
   "cell_type": "code",
   "execution_count": 132,
   "metadata": {},
   "outputs": [
    {
     "data": {
      "text/plain": [
       "'75;0;190;80;91;193;371;174;121;-16;13;64;-2;?;63;0;52;44;0;0;32;0;0;0;0;0;0;0;44;20;36;0;28;0;0;0;0;0;0;52;40;0;0;0;60;0;0;0;0;0;0;52;0;0;0;0;0;0;0;0;0;0;0;0;56;36;0;0;32;0;0;0;0;0;0;48;32;0;0;0;56;0;0;0;0;0;0;80;0;0;0;0;0;0;0;0;0;0;0;0;40;52;0;0;28;0;0;0;0;0;0;0;48;48;0;0;32;0;0;0;0;0;0;0;52;52;0;0;36;0;0;0;0;0;0;0;52;48;0;0;32;0;0;0;0;0;0;0;56;44;0;0;32;0;0;0;0;0;0;-0.2;0;6.1;-1;0;0;0.6;2.1;13.6;30.8;0;0;1.7;-1;0.6;0;1.3;1.5;3.7;14.5;0.1;-5.2;1.4;0;0;0;0.8;-0.6;-10.7;-15.6;0.4;-3.9;0;0;0;0;-0.8;-1.7;-10.1;-22;0;0;5.7;-1;0;0;-0.1;1.2;14.1;22.5;0;-2.5;0.8;0;0;0;1;0.4;-4.8;-2.7;0.1;-6;0;0;0;0;-0.8;-0.6;-24;-29.7;0;0;2;-6.4;0;0;0.2;2.9;-12.6;15.2;-0.1;0;8.4;-10;0;0;0.6;5.9;-3.9;52.7;-0.3;0;15.2;-8.4;0;0;0.9;5.1;17.7;70.7;-0.4;0;13.5;-4;0;0;0.9;3.9;25.5;62.9;-0.3;0;9;-0.9;0;0;0.9;2.9;23.3;49.4;8'"
      ]
     },
     "execution_count": 132,
     "metadata": {},
     "output_type": "execute_result"
    }
   ],
   "source": [
    "df['age;sex;height;weight;qrs_duration;p-r_interval;q-t_interval;t_interval;p_interval;qrs;T;P;QRST;J;heart_rate;q_wave;r_wave;s_wave;R\\'_wave;S\\'_wave;AA;AB;AC;AD;AE;AF;AG;AH;AI;AJ;AK;AL;AM;AN;AO;AP;AR;AS;AT;AU;AV;AY;AZ;AB\\';BB;BC;BD;BE;BF;BG;BH;BI;BJ;BK;BL;BM;BN;BO;BP;BR;BS;BT;BU;BV;BY;BZ;CA;CB;CC;CD;CE;Cf;CG;CH;CI;CJ;CK;CL;CM;CN;CO;CP;CR;CS;CT;CU;CV;CY;CZ;DA;DB;DC;DD;DE;DF;DG;DH;DI;DJ;DK;DL;DM;DN;DO;DP;DR;DS;DT;DU;DV;DY;DZ;EA;EB;EC;ED;EF;EG;EH;EI;EJ;EK;EL;EM;EN;EO;EP;ER;ES;ET;EU;EV;EY;EZ;FA;FB;FC;FD;FE;FF;FG;FH;FI;FJ;FK;FL;FM;FN;FO;FP;FR;FS;FT;FU;FV;FY;FZ;GA;GB;GC;GD;GE;GF;GG;GH;GI;GJ;GK;GL;GM;GN;GO;GP;GR;GS;GT;GU;GV;GY;GZ;HA;HB;HC;HD;HE;HF;HG;HH;HI;HJ;HK;HL;HM;HN;HO;HP;HR;HS;HT;HU;HV;HY;HZ;IA;IB;IC;ID;IE;IF;IG;IH;II;IJ;IK;IL;IM;IN;IO;IP;IR;IS;IT;IU;IV;IY;IZ;JA;JB;JC;JD;JE;JF;JG;JH;JI;JJ;JK;JL;JM;JN;JO;JP;JR;JS;JT;JU;JV;JY;JZ;KA;KB;KC;KD;KE;KF;KG;KH;KI;KJ;KK;KL;KM;KN;KO;KP;KR;KS;KT;KU;KV;KY;KZ;LA;LB;LC;LD;LE;LF;LG;diagnosis'][0]"
   ]
  },
  {
   "cell_type": "code",
   "execution_count": 133,
   "metadata": {},
   "outputs": [
    {
     "data": {
      "text/plain": [
       "['age',\n",
       " 'sex',\n",
       " 'height',\n",
       " 'weight',\n",
       " 'qrs_duration',\n",
       " 'p-r_interval',\n",
       " 'q-t_interval',\n",
       " 't_interval',\n",
       " 'p_interval',\n",
       " 'qrs',\n",
       " 'T',\n",
       " 'P',\n",
       " 'QRST']"
      ]
     },
     "execution_count": 133,
     "metadata": {},
     "output_type": "execute_result"
    }
   ],
   "source": [
    "df.columns=['nav']\n",
    "#print(df.columns)\n",
    "initialcolumns[:13]"
   ]
  },
  {
   "cell_type": "code",
   "execution_count": 134,
   "metadata": {},
   "outputs": [],
   "source": [
    "#l=df['nav'][0].split(';')\n",
    "#l[:13]"
   ]
  },
  {
   "cell_type": "code",
   "execution_count": 135,
   "metadata": {},
   "outputs": [],
   "source": [
    "def clean(data):\n",
    "    return(data.split(';')[:13])\n",
    "\n",
    "reqdata=list(map(clean,df['nav']))"
   ]
  },
  {
   "cell_type": "code",
   "execution_count": 136,
   "metadata": {},
   "outputs": [
    {
     "data": {
      "text/html": [
       "<div>\n",
       "<style scoped>\n",
       "    .dataframe tbody tr th:only-of-type {\n",
       "        vertical-align: middle;\n",
       "    }\n",
       "\n",
       "    .dataframe tbody tr th {\n",
       "        vertical-align: top;\n",
       "    }\n",
       "\n",
       "    .dataframe thead th {\n",
       "        text-align: right;\n",
       "    }\n",
       "</style>\n",
       "<table border=\"1\" class=\"dataframe\">\n",
       "  <thead>\n",
       "    <tr style=\"text-align: right;\">\n",
       "      <th></th>\n",
       "      <th>age</th>\n",
       "      <th>sex</th>\n",
       "      <th>height</th>\n",
       "      <th>weight</th>\n",
       "      <th>qrs_duration</th>\n",
       "      <th>p-r_interval</th>\n",
       "      <th>q-t_interval</th>\n",
       "      <th>t_interval</th>\n",
       "      <th>p_interval</th>\n",
       "      <th>qrs</th>\n",
       "      <th>T</th>\n",
       "      <th>P</th>\n",
       "      <th>QRST</th>\n",
       "    </tr>\n",
       "  </thead>\n",
       "  <tbody>\n",
       "    <tr>\n",
       "      <th>0</th>\n",
       "      <td>75.0</td>\n",
       "      <td>0.0</td>\n",
       "      <td>190.0</td>\n",
       "      <td>80.0</td>\n",
       "      <td>91.0</td>\n",
       "      <td>193.0</td>\n",
       "      <td>371.0</td>\n",
       "      <td>174.0</td>\n",
       "      <td>121.0</td>\n",
       "      <td>-16.0</td>\n",
       "      <td>13.0</td>\n",
       "      <td>64.0</td>\n",
       "      <td>-2.0</td>\n",
       "    </tr>\n",
       "    <tr>\n",
       "      <th>1</th>\n",
       "      <td>56.0</td>\n",
       "      <td>1.0</td>\n",
       "      <td>165.0</td>\n",
       "      <td>64.0</td>\n",
       "      <td>81.0</td>\n",
       "      <td>174.0</td>\n",
       "      <td>401.0</td>\n",
       "      <td>149.0</td>\n",
       "      <td>39.0</td>\n",
       "      <td>25.0</td>\n",
       "      <td>37.0</td>\n",
       "      <td>-17.0</td>\n",
       "      <td>31.0</td>\n",
       "    </tr>\n",
       "    <tr>\n",
       "      <th>2</th>\n",
       "      <td>54.0</td>\n",
       "      <td>0.0</td>\n",
       "      <td>172.0</td>\n",
       "      <td>95.0</td>\n",
       "      <td>138.0</td>\n",
       "      <td>163.0</td>\n",
       "      <td>386.0</td>\n",
       "      <td>185.0</td>\n",
       "      <td>102.0</td>\n",
       "      <td>96.0</td>\n",
       "      <td>34.0</td>\n",
       "      <td>70.0</td>\n",
       "      <td>66.0</td>\n",
       "    </tr>\n",
       "    <tr>\n",
       "      <th>3</th>\n",
       "      <td>55.0</td>\n",
       "      <td>0.0</td>\n",
       "      <td>175.0</td>\n",
       "      <td>94.0</td>\n",
       "      <td>100.0</td>\n",
       "      <td>202.0</td>\n",
       "      <td>380.0</td>\n",
       "      <td>179.0</td>\n",
       "      <td>143.0</td>\n",
       "      <td>28.0</td>\n",
       "      <td>11.0</td>\n",
       "      <td>-5.0</td>\n",
       "      <td>20.0</td>\n",
       "    </tr>\n",
       "    <tr>\n",
       "      <th>4</th>\n",
       "      <td>75.0</td>\n",
       "      <td>0.0</td>\n",
       "      <td>190.0</td>\n",
       "      <td>80.0</td>\n",
       "      <td>88.0</td>\n",
       "      <td>181.0</td>\n",
       "      <td>360.0</td>\n",
       "      <td>177.0</td>\n",
       "      <td>103.0</td>\n",
       "      <td>-16.0</td>\n",
       "      <td>13.0</td>\n",
       "      <td>61.0</td>\n",
       "      <td>3.0</td>\n",
       "    </tr>\n",
       "  </tbody>\n",
       "</table>\n",
       "</div>"
      ],
      "text/plain": [
       "    age  sex  height  weight  qrs_duration  p-r_interval  q-t_interval  \\\n",
       "0  75.0  0.0   190.0    80.0          91.0         193.0         371.0   \n",
       "1  56.0  1.0   165.0    64.0          81.0         174.0         401.0   \n",
       "2  54.0  0.0   172.0    95.0         138.0         163.0         386.0   \n",
       "3  55.0  0.0   175.0    94.0         100.0         202.0         380.0   \n",
       "4  75.0  0.0   190.0    80.0          88.0         181.0         360.0   \n",
       "\n",
       "   t_interval  p_interval   qrs     T     P  QRST  \n",
       "0       174.0       121.0 -16.0  13.0  64.0  -2.0  \n",
       "1       149.0        39.0  25.0  37.0 -17.0  31.0  \n",
       "2       185.0       102.0  96.0  34.0  70.0  66.0  \n",
       "3       179.0       143.0  28.0  11.0  -5.0  20.0  \n",
       "4       177.0       103.0 -16.0  13.0  61.0   3.0  "
      ]
     },
     "execution_count": 136,
     "metadata": {},
     "output_type": "execute_result"
    }
   ],
   "source": [
    "lis1=[]\n",
    "for i in range(13):\n",
    "    x=[]\n",
    "    for j in reqdata:\n",
    "        if j[i] != '?':\n",
    "            x.append(float(j[i]))\n",
    "        else:\n",
    "            j[i]=sum(x)/len(x)\n",
    "            x.append(float(j[i]))\n",
    "    lis1.append(x)\n",
    "    \n",
    "df1=pd.DataFrame({})\n",
    "for i in range(13):\n",
    "    df1[initialcolumns[i]]=lis1[i]\n",
    "df1.head()"
   ]
  },
  {
   "cell_type": "code",
   "execution_count": null,
   "metadata": {},
   "outputs": [],
   "source": []
  },
  {
   "cell_type": "code",
   "execution_count": null,
   "metadata": {},
   "outputs": [],
   "source": []
  },
  {
   "cell_type": "code",
   "execution_count": null,
   "metadata": {},
   "outputs": [],
   "source": []
  },
  {
   "cell_type": "code",
   "execution_count": null,
   "metadata": {},
   "outputs": [],
   "source": [
    "\n"
   ]
  },
  {
   "cell_type": "code",
   "execution_count": null,
   "metadata": {},
   "outputs": [],
   "source": []
  },
  {
   "cell_type": "code",
   "execution_count": null,
   "metadata": {},
   "outputs": [],
   "source": []
  },
  {
   "cell_type": "code",
   "execution_count": null,
   "metadata": {},
   "outputs": [],
   "source": []
  },
  {
   "cell_type": "code",
   "execution_count": null,
   "metadata": {},
   "outputs": [],
   "source": []
  }
 ],
 "metadata": {
  "kernelspec": {
   "display_name": "Python 3",
   "language": "python",
   "name": "python3"
  },
  "language_info": {
   "codemirror_mode": {
    "name": "ipython",
    "version": 3
   },
   "file_extension": ".py",
   "mimetype": "text/x-python",
   "name": "python",
   "nbconvert_exporter": "python",
   "pygments_lexer": "ipython3",
   "version": "3.7.9"
  }
 },
 "nbformat": 4,
 "nbformat_minor": 4
}
