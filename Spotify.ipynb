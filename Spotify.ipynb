{
  "nbformat": 4,
  "nbformat_minor": 0,
  "metadata": {
    "colab": {
      "name": "Spotify.ipynb",
      "provenance": [],
      "collapsed_sections": [],
      "authorship_tag": "ABX9TyP8RbsTm2ltH6Xc94FeRRi2",
      "include_colab_link": true
    },
    "kernelspec": {
      "name": "python3",
      "display_name": "Python 3"
    }
  },
  "cells": [
    {
      "cell_type": "markdown",
      "metadata": {
        "id": "view-in-github",
        "colab_type": "text"
      },
      "source": [
        "<a href=\"https://colab.research.google.com/github/AsutoshDalei/Deep-Neural-Networks/blob/master/Spotify.ipynb\" target=\"_parent\"><img src=\"https://colab.research.google.com/assets/colab-badge.svg\" alt=\"Open In Colab\"/></a>"
      ]
    },
    {
      "cell_type": "markdown",
      "metadata": {
        "id": "YfTTRAxMUyB3",
        "colab_type": "text"
      },
      "source": [
        "# **Spotify's dataset**\n",
        "We attempt to develop a model capable of *classifying* if a song would seem appealing based on 13 features of each song and the person's history of songs he liked and disliked previously."
      ]
    },
    {
      "cell_type": "markdown",
      "metadata": {
        "id": "M77G05TEO8wz",
        "colab_type": "text"
      },
      "source": [
        "Importing the required packages."
      ]
    },
    {
      "cell_type": "code",
      "metadata": {
        "id": "HWea8OLLfL65",
        "colab_type": "code",
        "colab": {}
      },
      "source": [
        "import numpy as np\n",
        "from sklearn import preprocessing \n",
        "import tensorflow as tf\n",
        "import pandas as pd\n",
        "from sklearn.utils import shuffle\n",
        "import matplotlib.pyplot as plt"
      ],
      "execution_count": 0,
      "outputs": []
    },
    {
      "cell_type": "markdown",
      "metadata": {
        "id": "vqxql-B5P6l0",
        "colab_type": "text"
      },
      "source": [
        "Uploading the dataset onto Google Colab"
      ]
    },
    {
      "cell_type": "code",
      "metadata": {
        "id": "DZe6xsIMfXT9",
        "colab_type": "code",
        "outputId": "53c200dc-251e-4a58-8780-96ef2f26fc5a",
        "colab": {
          "resources": {
            "http://localhost:8080/nbextensions/google.colab/files.js": {
              "data": "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",
              "ok": true,
              "headers": [
                [
                  "content-type",
                  "application/javascript"
                ]
              ],
              "status": 200,
              "status_text": ""
            }
          },
          "base_uri": "https://localhost:8080/",
          "height": 75
        }
      },
      "source": [
        "from google.colab import files\n",
        "import io\n",
        "\n",
        "uploaded = files.upload()"
      ],
      "execution_count": 35,
      "outputs": [
        {
          "output_type": "display_data",
          "data": {
            "text/html": [
              "\n",
              "     <input type=\"file\" id=\"files-b1f7ff8e-9900-4b02-bde9-ab08c3d1cab7\" name=\"files[]\" multiple disabled />\n",
              "     <output id=\"result-b1f7ff8e-9900-4b02-bde9-ab08c3d1cab7\">\n",
              "      Upload widget is only available when the cell has been executed in the\n",
              "      current browser session. Please rerun this cell to enable.\n",
              "      </output>\n",
              "      <script src=\"/nbextensions/google.colab/files.js\"></script> "
            ],
            "text/plain": [
              "<IPython.core.display.HTML object>"
            ]
          },
          "metadata": {
            "tags": []
          }
        },
        {
          "output_type": "stream",
          "text": [
            "Saving spodata.csv to spodata (3).csv\n"
          ],
          "name": "stdout"
        }
      ]
    },
    {
      "cell_type": "markdown",
      "metadata": {
        "id": "cZ9G4B5cPKLz",
        "colab_type": "text"
      },
      "source": [
        "We obtain the column position of 'target', and slice the dataset into inputs and outputs respecticely. We do not consider the parameters of song_title and artist, since song title are unique for each sample and artists column is highly dispersed with 1343 unique instances"
      ]
    },
    {
      "cell_type": "code",
      "metadata": {
        "id": "PdA7BdBYfne0",
        "colab_type": "code",
        "outputId": "d8abd8d4-c0d1-4495-9f90-25b9c3af5854",
        "colab": {
          "base_uri": "https://localhost:8080/",
          "height": 309
        }
      },
      "source": [
        "df= pd.read_csv(io.BytesIO(uploaded['spodata.csv']))\n",
        "df.head()"
      ],
      "execution_count": 36,
      "outputs": [
        {
          "output_type": "execute_result",
          "data": {
            "text/html": [
              "<div>\n",
              "<style scoped>\n",
              "    .dataframe tbody tr th:only-of-type {\n",
              "        vertical-align: middle;\n",
              "    }\n",
              "\n",
              "    .dataframe tbody tr th {\n",
              "        vertical-align: top;\n",
              "    }\n",
              "\n",
              "    .dataframe thead th {\n",
              "        text-align: right;\n",
              "    }\n",
              "</style>\n",
              "<table border=\"1\" class=\"dataframe\">\n",
              "  <thead>\n",
              "    <tr style=\"text-align: right;\">\n",
              "      <th></th>\n",
              "      <th>Unnamed: 0</th>\n",
              "      <th>acousticness</th>\n",
              "      <th>danceability</th>\n",
              "      <th>duration_ms</th>\n",
              "      <th>energy</th>\n",
              "      <th>instrumentalness</th>\n",
              "      <th>key</th>\n",
              "      <th>liveness</th>\n",
              "      <th>loudness</th>\n",
              "      <th>mode</th>\n",
              "      <th>speechiness</th>\n",
              "      <th>tempo</th>\n",
              "      <th>time_signature</th>\n",
              "      <th>valence</th>\n",
              "      <th>target</th>\n",
              "      <th>song_title</th>\n",
              "      <th>artist</th>\n",
              "    </tr>\n",
              "  </thead>\n",
              "  <tbody>\n",
              "    <tr>\n",
              "      <th>0</th>\n",
              "      <td>0</td>\n",
              "      <td>0.0102</td>\n",
              "      <td>0.833</td>\n",
              "      <td>204600</td>\n",
              "      <td>0.434</td>\n",
              "      <td>0.021900</td>\n",
              "      <td>2</td>\n",
              "      <td>0.1650</td>\n",
              "      <td>-8.795</td>\n",
              "      <td>1</td>\n",
              "      <td>0.4310</td>\n",
              "      <td>150.062</td>\n",
              "      <td>4.0</td>\n",
              "      <td>0.286</td>\n",
              "      <td>1</td>\n",
              "      <td>Mask Off</td>\n",
              "      <td>Future</td>\n",
              "    </tr>\n",
              "    <tr>\n",
              "      <th>1</th>\n",
              "      <td>1</td>\n",
              "      <td>0.1990</td>\n",
              "      <td>0.743</td>\n",
              "      <td>326933</td>\n",
              "      <td>0.359</td>\n",
              "      <td>0.006110</td>\n",
              "      <td>1</td>\n",
              "      <td>0.1370</td>\n",
              "      <td>-10.401</td>\n",
              "      <td>1</td>\n",
              "      <td>0.0794</td>\n",
              "      <td>160.083</td>\n",
              "      <td>4.0</td>\n",
              "      <td>0.588</td>\n",
              "      <td>1</td>\n",
              "      <td>Redbone</td>\n",
              "      <td>Childish Gambino</td>\n",
              "    </tr>\n",
              "    <tr>\n",
              "      <th>2</th>\n",
              "      <td>2</td>\n",
              "      <td>0.0344</td>\n",
              "      <td>0.838</td>\n",
              "      <td>185707</td>\n",
              "      <td>0.412</td>\n",
              "      <td>0.000234</td>\n",
              "      <td>2</td>\n",
              "      <td>0.1590</td>\n",
              "      <td>-7.148</td>\n",
              "      <td>1</td>\n",
              "      <td>0.2890</td>\n",
              "      <td>75.044</td>\n",
              "      <td>4.0</td>\n",
              "      <td>0.173</td>\n",
              "      <td>1</td>\n",
              "      <td>Xanny Family</td>\n",
              "      <td>Future</td>\n",
              "    </tr>\n",
              "    <tr>\n",
              "      <th>3</th>\n",
              "      <td>3</td>\n",
              "      <td>0.6040</td>\n",
              "      <td>0.494</td>\n",
              "      <td>199413</td>\n",
              "      <td>0.338</td>\n",
              "      <td>0.510000</td>\n",
              "      <td>5</td>\n",
              "      <td>0.0922</td>\n",
              "      <td>-15.236</td>\n",
              "      <td>1</td>\n",
              "      <td>0.0261</td>\n",
              "      <td>86.468</td>\n",
              "      <td>4.0</td>\n",
              "      <td>0.230</td>\n",
              "      <td>1</td>\n",
              "      <td>Master Of None</td>\n",
              "      <td>Beach House</td>\n",
              "    </tr>\n",
              "    <tr>\n",
              "      <th>4</th>\n",
              "      <td>4</td>\n",
              "      <td>0.1800</td>\n",
              "      <td>0.678</td>\n",
              "      <td>392893</td>\n",
              "      <td>0.561</td>\n",
              "      <td>0.512000</td>\n",
              "      <td>5</td>\n",
              "      <td>0.4390</td>\n",
              "      <td>-11.648</td>\n",
              "      <td>0</td>\n",
              "      <td>0.0694</td>\n",
              "      <td>174.004</td>\n",
              "      <td>4.0</td>\n",
              "      <td>0.904</td>\n",
              "      <td>1</td>\n",
              "      <td>Parallel Lines</td>\n",
              "      <td>Junior Boys</td>\n",
              "    </tr>\n",
              "  </tbody>\n",
              "</table>\n",
              "</div>"
            ],
            "text/plain": [
              "   Unnamed: 0  acousticness  ...      song_title            artist\n",
              "0           0        0.0102  ...        Mask Off            Future\n",
              "1           1        0.1990  ...         Redbone  Childish Gambino\n",
              "2           2        0.0344  ...    Xanny Family            Future\n",
              "3           3        0.6040  ...  Master Of None       Beach House\n",
              "4           4        0.1800  ...  Parallel Lines       Junior Boys\n",
              "\n",
              "[5 rows x 17 columns]"
            ]
          },
          "metadata": {
            "tags": []
          },
          "execution_count": 36
        }
      ]
    },
    {
      "cell_type": "code",
      "metadata": {
        "id": "qfyPo4lORQgV",
        "colab_type": "code",
        "outputId": "c82a152b-de15-4e44-efb4-e5459c6eb3d0",
        "colab": {
          "base_uri": "https://localhost:8080/",
          "height": 225
        }
      },
      "source": [
        "df['artist'].value_counts()"
      ],
      "execution_count": 38,
      "outputs": [
        {
          "output_type": "execute_result",
          "data": {
            "text/plain": [
              "Drake                                                                                 16\n",
              "Rick Ross                                                                             13\n",
              "Disclosure                                                                            12\n",
              "Backstreet Boys                                                                       10\n",
              "WALK THE MOON                                                                         10\n",
              "                                                                                      ..\n",
              "Stanley Turrentine                                                                     1\n",
              "Le Youth                                                                               1\n",
              "Charles Mingus                                                                         1\n",
              "Jan Lundgren Trio                                                                      1\n",
              "David Guetta - Sébastian Ingrosso - Joachim Garraud - Chris Willis - Steve Angello     1\n",
              "Name: artist, Length: 1343, dtype: int64"
            ]
          },
          "metadata": {
            "tags": []
          },
          "execution_count": 38
        }
      ]
    },
    {
      "cell_type": "code",
      "metadata": {
        "id": "NZKJ845LPg7a",
        "colab_type": "code",
        "colab": {}
      },
      "source": [
        "a=df.columns.get_loc('target')\n",
        "ipall=df.iloc[:,1:a]\n",
        "tarall=df.iloc[:,a]\n",
        "#ipall=df.drop(['Unnamed: 0','song_title','target','artist'],axis=1)"
      ],
      "execution_count": 0,
      "outputs": []
    },
    {
      "cell_type": "markdown",
      "metadata": {
        "id": "0W76DIeLRldB",
        "colab_type": "text"
      },
      "source": [
        "If you do wish to consider the column Artist, we have to preprocess them, since they are categorical data. This can be done by One Hot Encoding by get_dummies or LabelEncoder."
      ]
    },
    {
      "cell_type": "code",
      "metadata": {
        "id": "8z1vVxw8kSPw",
        "colab_type": "code",
        "colab": {}
      },
      "source": [
        "#ipall=pd.get_dummies(ipall,columns=['artist'],prefix=['artist'])\n",
        "#enc=preprocessing.LabelEncoder()\n",
        "#ipall['artist1']=enc.fit_transform(ipall['artist'])"
      ],
      "execution_count": 0,
      "outputs": []
    },
    {
      "cell_type": "markdown",
      "metadata": {
        "id": "wyRv6ul9SBip",
        "colab_type": "text"
      },
      "source": [
        "We currently wont be focussing on the column 'artist', and hence wont be preprocessing"
      ]
    },
    {
      "cell_type": "code",
      "metadata": {
        "id": "jfGwptzHkSJN",
        "colab_type": "code",
        "outputId": "4d85f81d-65ee-4a12-8f0f-e692ad5c25a7",
        "colab": {
          "base_uri": "https://localhost:8080/",
          "height": 202
        }
      },
      "source": [
        "ipall.head()\n",
        "#ipall.info()"
      ],
      "execution_count": 41,
      "outputs": [
        {
          "output_type": "execute_result",
          "data": {
            "text/html": [
              "<div>\n",
              "<style scoped>\n",
              "    .dataframe tbody tr th:only-of-type {\n",
              "        vertical-align: middle;\n",
              "    }\n",
              "\n",
              "    .dataframe tbody tr th {\n",
              "        vertical-align: top;\n",
              "    }\n",
              "\n",
              "    .dataframe thead th {\n",
              "        text-align: right;\n",
              "    }\n",
              "</style>\n",
              "<table border=\"1\" class=\"dataframe\">\n",
              "  <thead>\n",
              "    <tr style=\"text-align: right;\">\n",
              "      <th></th>\n",
              "      <th>acousticness</th>\n",
              "      <th>danceability</th>\n",
              "      <th>duration_ms</th>\n",
              "      <th>energy</th>\n",
              "      <th>instrumentalness</th>\n",
              "      <th>key</th>\n",
              "      <th>liveness</th>\n",
              "      <th>loudness</th>\n",
              "      <th>mode</th>\n",
              "      <th>speechiness</th>\n",
              "      <th>tempo</th>\n",
              "      <th>time_signature</th>\n",
              "      <th>valence</th>\n",
              "    </tr>\n",
              "  </thead>\n",
              "  <tbody>\n",
              "    <tr>\n",
              "      <th>0</th>\n",
              "      <td>0.0102</td>\n",
              "      <td>0.833</td>\n",
              "      <td>204600</td>\n",
              "      <td>0.434</td>\n",
              "      <td>0.021900</td>\n",
              "      <td>2</td>\n",
              "      <td>0.1650</td>\n",
              "      <td>-8.795</td>\n",
              "      <td>1</td>\n",
              "      <td>0.4310</td>\n",
              "      <td>150.062</td>\n",
              "      <td>4.0</td>\n",
              "      <td>0.286</td>\n",
              "    </tr>\n",
              "    <tr>\n",
              "      <th>1</th>\n",
              "      <td>0.1990</td>\n",
              "      <td>0.743</td>\n",
              "      <td>326933</td>\n",
              "      <td>0.359</td>\n",
              "      <td>0.006110</td>\n",
              "      <td>1</td>\n",
              "      <td>0.1370</td>\n",
              "      <td>-10.401</td>\n",
              "      <td>1</td>\n",
              "      <td>0.0794</td>\n",
              "      <td>160.083</td>\n",
              "      <td>4.0</td>\n",
              "      <td>0.588</td>\n",
              "    </tr>\n",
              "    <tr>\n",
              "      <th>2</th>\n",
              "      <td>0.0344</td>\n",
              "      <td>0.838</td>\n",
              "      <td>185707</td>\n",
              "      <td>0.412</td>\n",
              "      <td>0.000234</td>\n",
              "      <td>2</td>\n",
              "      <td>0.1590</td>\n",
              "      <td>-7.148</td>\n",
              "      <td>1</td>\n",
              "      <td>0.2890</td>\n",
              "      <td>75.044</td>\n",
              "      <td>4.0</td>\n",
              "      <td>0.173</td>\n",
              "    </tr>\n",
              "    <tr>\n",
              "      <th>3</th>\n",
              "      <td>0.6040</td>\n",
              "      <td>0.494</td>\n",
              "      <td>199413</td>\n",
              "      <td>0.338</td>\n",
              "      <td>0.510000</td>\n",
              "      <td>5</td>\n",
              "      <td>0.0922</td>\n",
              "      <td>-15.236</td>\n",
              "      <td>1</td>\n",
              "      <td>0.0261</td>\n",
              "      <td>86.468</td>\n",
              "      <td>4.0</td>\n",
              "      <td>0.230</td>\n",
              "    </tr>\n",
              "    <tr>\n",
              "      <th>4</th>\n",
              "      <td>0.1800</td>\n",
              "      <td>0.678</td>\n",
              "      <td>392893</td>\n",
              "      <td>0.561</td>\n",
              "      <td>0.512000</td>\n",
              "      <td>5</td>\n",
              "      <td>0.4390</td>\n",
              "      <td>-11.648</td>\n",
              "      <td>0</td>\n",
              "      <td>0.0694</td>\n",
              "      <td>174.004</td>\n",
              "      <td>4.0</td>\n",
              "      <td>0.904</td>\n",
              "    </tr>\n",
              "  </tbody>\n",
              "</table>\n",
              "</div>"
            ],
            "text/plain": [
              "   acousticness  danceability  duration_ms  ...    tempo  time_signature  valence\n",
              "0        0.0102         0.833       204600  ...  150.062             4.0    0.286\n",
              "1        0.1990         0.743       326933  ...  160.083             4.0    0.588\n",
              "2        0.0344         0.838       185707  ...   75.044             4.0    0.173\n",
              "3        0.6040         0.494       199413  ...   86.468             4.0    0.230\n",
              "4        0.1800         0.678       392893  ...  174.004             4.0    0.904\n",
              "\n",
              "[5 rows x 13 columns]"
            ]
          },
          "metadata": {
            "tags": []
          },
          "execution_count": 41
        }
      ]
    },
    {
      "cell_type": "markdown",
      "metadata": {
        "id": "Zu_9r2_QTcUa",
        "colab_type": "text"
      },
      "source": [
        "Scaling and shuffling the input and targets. Scaling is done by minmax_scaler, but any other scaler may be also used. "
      ]
    },
    {
      "cell_type": "code",
      "metadata": {
        "id": "yZYwDMmZEek8",
        "colab_type": "code",
        "colab": {}
      },
      "source": [
        "scaledip=shuffle(preprocessing.minmax_scale(ipall,(0,1)))\n",
        "scaledtar=shuffle(preprocessing.minmax_scale(tarall,(0,1)))"
      ],
      "execution_count": 0,
      "outputs": []
    },
    {
      "cell_type": "markdown",
      "metadata": {
        "id": "HC71x8mtTr2W",
        "colab_type": "text"
      },
      "source": [
        "Obtaining the number of test, train and validation samples to be considered.\n",
        "We then divide the input and target data into train, validation and test data accordingly"
      ]
    },
    {
      "cell_type": "code",
      "metadata": {
        "id": "vKsU2kD7jotE",
        "colab_type": "code",
        "colab": {}
      },
      "source": [
        "samples=scaledip.shape[0]\n",
        "trainsam=int(samples*0.7)\n",
        "valsam=int(samples*0.15)"
      ],
      "execution_count": 0,
      "outputs": []
    },
    {
      "cell_type": "code",
      "metadata": {
        "id": "Q4fRm6q11obJ",
        "colab_type": "code",
        "colab": {}
      },
      "source": [
        "trainip=scaledip[:trainsam]\n",
        "traintar=scaledtar[:trainsam]\n",
        "\n",
        "valip=scaledip[trainsam:trainsam+valsam]\n",
        "valtar=scaledtar[trainsam:trainsam+valsam]\n",
        "\n",
        "testip=scaledip[trainsam+valsam:]\n",
        "testtar=scaledtar[trainsam+valsam:]"
      ],
      "execution_count": 0,
      "outputs": []
    },
    {
      "cell_type": "markdown",
      "metadata": {
        "id": "_gGGs29JUWoo",
        "colab_type": "text"
      },
      "source": [
        "Here, we save our obtained data into tensorfriedly .npz format, and access then later."
      ]
    },
    {
      "cell_type": "code",
      "metadata": {
        "id": "f4ucnLcx1ouM",
        "colab_type": "code",
        "colab": {}
      },
      "source": [
        "np.savez('traindat',ip=trainip,op=traintar)\n",
        "np.savez('valdat',ip=valip,op=valtar)\n",
        "np.savez('testdat',ip=testip,op=testtar)\n",
        "\n",
        "nptr=np.load('traindat.npz')\n",
        "npval=np.load('valdat.npz')\n",
        "npte=np.load('testdat.npz')\n"
      ],
      "execution_count": 0,
      "outputs": []
    },
    {
      "cell_type": "code",
      "metadata": {
        "id": "zDMDHfQw1ow0",
        "colab_type": "code",
        "colab": {}
      },
      "source": [
        "trip,trop=nptr['ip'].astype(np.float),nptr['op'].astype(np.int)\n",
        "valip,valop=npval['ip'].astype(np.float),npval['op'].astype(np.int)\n",
        "teip,teop=npte['ip'].astype(np.float),npte['op'].astype(np.int)"
      ],
      "execution_count": 0,
      "outputs": []
    },
    {
      "cell_type": "markdown",
      "metadata": {
        "id": "KfyEAcW0VwXA",
        "colab_type": "text"
      },
      "source": [
        "Developing the model. This can be modified on our choice to obtain better results."
      ]
    },
    {
      "cell_type": "code",
      "metadata": {
        "id": "dPAGygBQ1o0P",
        "colab_type": "code",
        "colab": {}
      },
      "source": [
        "model=tf.keras.Sequential([\n",
        "                           tf.keras.layers.Dense(50,activation='tanh'),\n",
        "                           tf.keras.layers.Dense(50,activation='tanh'),\n",
        "                           tf.keras.layers.Dense(25,activation='relu'),\n",
        "                           tf.keras.layers.Dense(2,activation='softmax')\n",
        "                          ])\n"
      ],
      "execution_count": 0,
      "outputs": []
    },
    {
      "cell_type": "markdown",
      "metadata": {
        "id": "M6ACDz22WDuc",
        "colab_type": "text"
      },
      "source": [
        "We compile the fit our model with the input data. \n",
        "We have a choice to initiate a callback, called early stopping, which would terminate training once the validation loss starts increasing. The number of times we *let the validation loss to increase*, can be modified by *patience*"
      ]
    },
    {
      "cell_type": "code",
      "metadata": {
        "id": "e4-q6Xzv8Mcu",
        "colab_type": "code",
        "outputId": "7c8abde7-096c-42c4-e992-8ae0b769754d",
        "colab": {
          "base_uri": "https://localhost:8080/",
          "height": 1000
        }
      },
      "source": [
        "model.compile(optimizer='adam',loss='sparse_categorical_crossentropy', metrics=['accuracy'])\n",
        "model.fit(x=trip,y=trop,validation_data=(valip,valop),epochs=100)\n",
        "\n",
        "cbk=tf.keras.callbacks.EarlyStopping(patience=4)\n",
        "model.fit(x=trip,y=trop,validation_data=(valip,valop),epochs=100,callbacks=cbk)"
      ],
      "execution_count": 54,
      "outputs": [
        {
          "output_type": "stream",
          "text": [
            "Epoch 1/100\n",
            "45/45 [==============================] - 0s 4ms/step - loss: 0.6994 - accuracy: 0.5174 - val_loss: 0.7089 - val_accuracy: 0.4834\n",
            "Epoch 2/100\n",
            "45/45 [==============================] - 0s 2ms/step - loss: 0.6986 - accuracy: 0.5004 - val_loss: 0.6948 - val_accuracy: 0.5397\n",
            "Epoch 3/100\n",
            "45/45 [==============================] - 0s 2ms/step - loss: 0.6925 - accuracy: 0.5117 - val_loss: 0.6991 - val_accuracy: 0.5000\n",
            "Epoch 4/100\n",
            "45/45 [==============================] - 0s 2ms/step - loss: 0.6907 - accuracy: 0.5372 - val_loss: 0.6905 - val_accuracy: 0.5265\n",
            "Epoch 5/100\n",
            "45/45 [==============================] - 0s 2ms/step - loss: 0.6909 - accuracy: 0.5287 - val_loss: 0.6911 - val_accuracy: 0.5430\n",
            "Epoch 6/100\n",
            "45/45 [==============================] - 0s 2ms/step - loss: 0.6907 - accuracy: 0.5308 - val_loss: 0.6940 - val_accuracy: 0.5298\n",
            "Epoch 7/100\n",
            "45/45 [==============================] - 0s 2ms/step - loss: 0.6908 - accuracy: 0.5167 - val_loss: 0.6942 - val_accuracy: 0.5364\n",
            "Epoch 8/100\n",
            "45/45 [==============================] - 0s 3ms/step - loss: 0.6885 - accuracy: 0.5422 - val_loss: 0.6925 - val_accuracy: 0.5430\n",
            "Epoch 9/100\n",
            "45/45 [==============================] - 0s 2ms/step - loss: 0.6875 - accuracy: 0.5358 - val_loss: 0.6929 - val_accuracy: 0.5298\n",
            "Epoch 10/100\n",
            "45/45 [==============================] - 0s 2ms/step - loss: 0.6878 - accuracy: 0.5365 - val_loss: 0.6971 - val_accuracy: 0.5066\n",
            "Epoch 11/100\n",
            "45/45 [==============================] - 0s 2ms/step - loss: 0.6855 - accuracy: 0.5485 - val_loss: 0.6947 - val_accuracy: 0.5199\n",
            "Epoch 12/100\n",
            "45/45 [==============================] - 0s 2ms/step - loss: 0.6870 - accuracy: 0.5337 - val_loss: 0.6987 - val_accuracy: 0.4967\n",
            "Epoch 13/100\n",
            "45/45 [==============================] - 0s 2ms/step - loss: 0.6877 - accuracy: 0.5443 - val_loss: 0.6971 - val_accuracy: 0.5000\n",
            "Epoch 14/100\n",
            "45/45 [==============================] - 0s 2ms/step - loss: 0.6856 - accuracy: 0.5315 - val_loss: 0.6951 - val_accuracy: 0.5099\n",
            "Epoch 15/100\n",
            "45/45 [==============================] - 0s 2ms/step - loss: 0.6836 - accuracy: 0.5351 - val_loss: 0.6963 - val_accuracy: 0.5166\n",
            "Epoch 16/100\n",
            "45/45 [==============================] - 0s 2ms/step - loss: 0.6821 - accuracy: 0.5549 - val_loss: 0.6975 - val_accuracy: 0.5066\n",
            "Epoch 17/100\n",
            "45/45 [==============================] - 0s 2ms/step - loss: 0.6863 - accuracy: 0.5400 - val_loss: 0.7011 - val_accuracy: 0.4901\n",
            "Epoch 18/100\n",
            "45/45 [==============================] - 0s 2ms/step - loss: 0.6842 - accuracy: 0.5464 - val_loss: 0.6991 - val_accuracy: 0.5033\n",
            "Epoch 19/100\n",
            "45/45 [==============================] - 0s 2ms/step - loss: 0.6846 - accuracy: 0.5400 - val_loss: 0.6999 - val_accuracy: 0.4801\n",
            "Epoch 20/100\n",
            "45/45 [==============================] - 0s 2ms/step - loss: 0.6839 - accuracy: 0.5294 - val_loss: 0.6991 - val_accuracy: 0.5298\n",
            "Epoch 21/100\n",
            "45/45 [==============================] - 0s 3ms/step - loss: 0.6854 - accuracy: 0.5542 - val_loss: 0.6981 - val_accuracy: 0.5000\n",
            "Epoch 22/100\n",
            "45/45 [==============================] - 0s 2ms/step - loss: 0.6773 - accuracy: 0.5663 - val_loss: 0.6972 - val_accuracy: 0.5000\n",
            "Epoch 23/100\n",
            "45/45 [==============================] - 0s 2ms/step - loss: 0.6801 - accuracy: 0.5656 - val_loss: 0.7001 - val_accuracy: 0.5099\n",
            "Epoch 24/100\n",
            "45/45 [==============================] - 0s 2ms/step - loss: 0.6806 - accuracy: 0.5634 - val_loss: 0.6993 - val_accuracy: 0.4934\n",
            "Epoch 25/100\n",
            "45/45 [==============================] - 0s 2ms/step - loss: 0.6801 - accuracy: 0.5585 - val_loss: 0.7051 - val_accuracy: 0.4967\n",
            "Epoch 26/100\n",
            "45/45 [==============================] - 0s 2ms/step - loss: 0.6789 - accuracy: 0.5698 - val_loss: 0.6998 - val_accuracy: 0.5132\n",
            "Epoch 27/100\n",
            "45/45 [==============================] - 0s 2ms/step - loss: 0.6783 - accuracy: 0.5762 - val_loss: 0.6995 - val_accuracy: 0.5033\n",
            "Epoch 28/100\n",
            "45/45 [==============================] - 0s 2ms/step - loss: 0.6775 - accuracy: 0.5641 - val_loss: 0.7129 - val_accuracy: 0.5033\n",
            "Epoch 29/100\n",
            "45/45 [==============================] - 0s 2ms/step - loss: 0.6813 - accuracy: 0.5634 - val_loss: 0.7037 - val_accuracy: 0.4801\n",
            "Epoch 30/100\n",
            "45/45 [==============================] - 0s 2ms/step - loss: 0.6776 - accuracy: 0.5634 - val_loss: 0.7028 - val_accuracy: 0.4934\n",
            "Epoch 31/100\n",
            "45/45 [==============================] - 0s 2ms/step - loss: 0.6774 - accuracy: 0.5656 - val_loss: 0.7062 - val_accuracy: 0.4702\n",
            "Epoch 32/100\n",
            "45/45 [==============================] - 0s 2ms/step - loss: 0.6734 - accuracy: 0.5726 - val_loss: 0.7058 - val_accuracy: 0.4901\n",
            "Epoch 33/100\n",
            "45/45 [==============================] - 0s 2ms/step - loss: 0.6735 - accuracy: 0.5868 - val_loss: 0.7074 - val_accuracy: 0.4934\n",
            "Epoch 34/100\n",
            "45/45 [==============================] - 0s 2ms/step - loss: 0.6711 - accuracy: 0.5712 - val_loss: 0.7061 - val_accuracy: 0.5132\n",
            "Epoch 35/100\n",
            "45/45 [==============================] - 0s 2ms/step - loss: 0.6731 - accuracy: 0.5783 - val_loss: 0.7000 - val_accuracy: 0.5265\n",
            "Epoch 36/100\n",
            "45/45 [==============================] - 0s 2ms/step - loss: 0.6745 - accuracy: 0.5620 - val_loss: 0.7102 - val_accuracy: 0.4702\n",
            "Epoch 37/100\n",
            "45/45 [==============================] - 0s 2ms/step - loss: 0.6713 - accuracy: 0.5712 - val_loss: 0.6993 - val_accuracy: 0.5099\n",
            "Epoch 38/100\n",
            "45/45 [==============================] - 0s 2ms/step - loss: 0.6705 - accuracy: 0.5826 - val_loss: 0.7053 - val_accuracy: 0.5033\n",
            "Epoch 39/100\n",
            "45/45 [==============================] - 0s 2ms/step - loss: 0.6703 - accuracy: 0.5776 - val_loss: 0.7199 - val_accuracy: 0.4735\n",
            "Epoch 40/100\n",
            "45/45 [==============================] - 0s 2ms/step - loss: 0.6687 - accuracy: 0.5897 - val_loss: 0.7051 - val_accuracy: 0.5033\n",
            "Epoch 41/100\n",
            "45/45 [==============================] - 0s 2ms/step - loss: 0.6681 - accuracy: 0.5854 - val_loss: 0.7052 - val_accuracy: 0.5132\n",
            "Epoch 42/100\n",
            "45/45 [==============================] - 0s 2ms/step - loss: 0.6659 - accuracy: 0.5897 - val_loss: 0.7090 - val_accuracy: 0.4934\n",
            "Epoch 43/100\n",
            "45/45 [==============================] - 0s 2ms/step - loss: 0.6658 - accuracy: 0.5826 - val_loss: 0.7137 - val_accuracy: 0.4768\n",
            "Epoch 44/100\n",
            "45/45 [==============================] - 0s 2ms/step - loss: 0.6681 - accuracy: 0.5918 - val_loss: 0.7167 - val_accuracy: 0.4801\n",
            "Epoch 45/100\n",
            "45/45 [==============================] - 0s 2ms/step - loss: 0.6734 - accuracy: 0.5769 - val_loss: 0.7103 - val_accuracy: 0.5033\n",
            "Epoch 46/100\n",
            "45/45 [==============================] - 0s 2ms/step - loss: 0.6660 - accuracy: 0.5897 - val_loss: 0.7152 - val_accuracy: 0.4967\n",
            "Epoch 47/100\n",
            "45/45 [==============================] - 0s 2ms/step - loss: 0.6649 - accuracy: 0.5967 - val_loss: 0.7151 - val_accuracy: 0.4901\n",
            "Epoch 48/100\n",
            "45/45 [==============================] - 0s 2ms/step - loss: 0.6620 - accuracy: 0.5833 - val_loss: 0.7161 - val_accuracy: 0.4934\n",
            "Epoch 49/100\n",
            "45/45 [==============================] - 0s 2ms/step - loss: 0.6608 - accuracy: 0.5996 - val_loss: 0.7144 - val_accuracy: 0.5000\n",
            "Epoch 50/100\n",
            "45/45 [==============================] - 0s 2ms/step - loss: 0.6614 - accuracy: 0.5889 - val_loss: 0.7158 - val_accuracy: 0.4735\n",
            "Epoch 51/100\n",
            "45/45 [==============================] - 0s 2ms/step - loss: 0.6618 - accuracy: 0.5904 - val_loss: 0.7213 - val_accuracy: 0.5033\n",
            "Epoch 52/100\n",
            "45/45 [==============================] - 0s 2ms/step - loss: 0.6638 - accuracy: 0.5840 - val_loss: 0.7230 - val_accuracy: 0.4868\n",
            "Epoch 53/100\n",
            "45/45 [==============================] - 0s 2ms/step - loss: 0.6600 - accuracy: 0.6017 - val_loss: 0.7196 - val_accuracy: 0.4967\n",
            "Epoch 54/100\n",
            "45/45 [==============================] - 0s 2ms/step - loss: 0.6595 - accuracy: 0.5897 - val_loss: 0.7222 - val_accuracy: 0.4702\n",
            "Epoch 55/100\n",
            "45/45 [==============================] - 0s 2ms/step - loss: 0.6588 - accuracy: 0.5946 - val_loss: 0.7230 - val_accuracy: 0.5066\n",
            "Epoch 56/100\n",
            "45/45 [==============================] - 0s 2ms/step - loss: 0.6579 - accuracy: 0.5861 - val_loss: 0.7239 - val_accuracy: 0.4834\n",
            "Epoch 57/100\n",
            "45/45 [==============================] - 0s 2ms/step - loss: 0.6626 - accuracy: 0.5889 - val_loss: 0.7302 - val_accuracy: 0.4702\n",
            "Epoch 58/100\n",
            "45/45 [==============================] - 0s 2ms/step - loss: 0.6614 - accuracy: 0.5868 - val_loss: 0.7282 - val_accuracy: 0.4702\n",
            "Epoch 59/100\n",
            "45/45 [==============================] - 0s 2ms/step - loss: 0.6595 - accuracy: 0.5840 - val_loss: 0.7217 - val_accuracy: 0.5033\n",
            "Epoch 60/100\n",
            "45/45 [==============================] - 0s 2ms/step - loss: 0.6539 - accuracy: 0.6109 - val_loss: 0.7201 - val_accuracy: 0.4834\n",
            "Epoch 61/100\n",
            "45/45 [==============================] - 0s 2ms/step - loss: 0.6538 - accuracy: 0.6017 - val_loss: 0.7328 - val_accuracy: 0.4636\n",
            "Epoch 62/100\n",
            "45/45 [==============================] - 0s 2ms/step - loss: 0.6556 - accuracy: 0.5996 - val_loss: 0.7235 - val_accuracy: 0.5099\n",
            "Epoch 63/100\n",
            "45/45 [==============================] - 0s 2ms/step - loss: 0.6559 - accuracy: 0.6024 - val_loss: 0.7244 - val_accuracy: 0.4768\n",
            "Epoch 64/100\n",
            "45/45 [==============================] - 0s 2ms/step - loss: 0.6582 - accuracy: 0.6052 - val_loss: 0.7319 - val_accuracy: 0.4702\n",
            "Epoch 65/100\n",
            "45/45 [==============================] - 0s 2ms/step - loss: 0.6534 - accuracy: 0.6074 - val_loss: 0.7289 - val_accuracy: 0.4901\n",
            "Epoch 66/100\n",
            "45/45 [==============================] - 0s 2ms/step - loss: 0.6578 - accuracy: 0.6081 - val_loss: 0.7266 - val_accuracy: 0.4967\n",
            "Epoch 67/100\n",
            "45/45 [==============================] - 0s 2ms/step - loss: 0.6521 - accuracy: 0.6145 - val_loss: 0.7264 - val_accuracy: 0.4868\n",
            "Epoch 68/100\n",
            "45/45 [==============================] - 0s 2ms/step - loss: 0.6512 - accuracy: 0.6060 - val_loss: 0.7293 - val_accuracy: 0.4768\n",
            "Epoch 69/100\n",
            "45/45 [==============================] - 0s 2ms/step - loss: 0.6504 - accuracy: 0.6187 - val_loss: 0.7267 - val_accuracy: 0.4735\n",
            "Epoch 70/100\n",
            "45/45 [==============================] - 0s 2ms/step - loss: 0.6464 - accuracy: 0.6109 - val_loss: 0.7295 - val_accuracy: 0.4868\n",
            "Epoch 71/100\n",
            "45/45 [==============================] - 0s 2ms/step - loss: 0.6515 - accuracy: 0.6095 - val_loss: 0.7227 - val_accuracy: 0.4801\n",
            "Epoch 72/100\n",
            "45/45 [==============================] - 0s 2ms/step - loss: 0.6551 - accuracy: 0.5996 - val_loss: 0.7215 - val_accuracy: 0.4603\n",
            "Epoch 73/100\n",
            "45/45 [==============================] - 0s 2ms/step - loss: 0.6513 - accuracy: 0.6180 - val_loss: 0.7325 - val_accuracy: 0.4570\n",
            "Epoch 74/100\n",
            "45/45 [==============================] - 0s 3ms/step - loss: 0.6591 - accuracy: 0.6173 - val_loss: 0.7299 - val_accuracy: 0.4934\n",
            "Epoch 75/100\n",
            "45/45 [==============================] - 0s 2ms/step - loss: 0.6478 - accuracy: 0.6060 - val_loss: 0.7277 - val_accuracy: 0.4868\n",
            "Epoch 76/100\n",
            "45/45 [==============================] - 0s 2ms/step - loss: 0.6445 - accuracy: 0.6187 - val_loss: 0.7348 - val_accuracy: 0.4669\n",
            "Epoch 77/100\n",
            "45/45 [==============================] - 0s 2ms/step - loss: 0.6410 - accuracy: 0.6258 - val_loss: 0.7400 - val_accuracy: 0.4570\n",
            "Epoch 78/100\n",
            "45/45 [==============================] - 0s 2ms/step - loss: 0.6411 - accuracy: 0.6201 - val_loss: 0.7404 - val_accuracy: 0.4702\n",
            "Epoch 79/100\n",
            "45/45 [==============================] - 0s 2ms/step - loss: 0.6396 - accuracy: 0.6293 - val_loss: 0.7388 - val_accuracy: 0.5033\n",
            "Epoch 80/100\n",
            "45/45 [==============================] - 0s 2ms/step - loss: 0.6401 - accuracy: 0.6251 - val_loss: 0.7399 - val_accuracy: 0.4768\n",
            "Epoch 81/100\n",
            "45/45 [==============================] - 0s 2ms/step - loss: 0.6375 - accuracy: 0.6378 - val_loss: 0.7418 - val_accuracy: 0.4735\n",
            "Epoch 82/100\n",
            "45/45 [==============================] - 0s 2ms/step - loss: 0.6406 - accuracy: 0.6279 - val_loss: 0.7389 - val_accuracy: 0.4404\n",
            "Epoch 83/100\n",
            "45/45 [==============================] - 0s 2ms/step - loss: 0.6373 - accuracy: 0.6265 - val_loss: 0.7434 - val_accuracy: 0.4801\n",
            "Epoch 84/100\n",
            "45/45 [==============================] - 0s 2ms/step - loss: 0.6442 - accuracy: 0.6215 - val_loss: 0.7401 - val_accuracy: 0.4603\n",
            "Epoch 85/100\n",
            "45/45 [==============================] - 0s 2ms/step - loss: 0.6434 - accuracy: 0.6159 - val_loss: 0.7395 - val_accuracy: 0.4768\n",
            "Epoch 86/100\n",
            "45/45 [==============================] - 0s 2ms/step - loss: 0.6369 - accuracy: 0.6251 - val_loss: 0.7433 - val_accuracy: 0.4536\n",
            "Epoch 87/100\n",
            "45/45 [==============================] - 0s 2ms/step - loss: 0.6385 - accuracy: 0.6258 - val_loss: 0.7407 - val_accuracy: 0.4636\n",
            "Epoch 88/100\n",
            "45/45 [==============================] - 0s 2ms/step - loss: 0.6352 - accuracy: 0.6265 - val_loss: 0.7456 - val_accuracy: 0.4934\n",
            "Epoch 89/100\n",
            "45/45 [==============================] - 0s 2ms/step - loss: 0.6301 - accuracy: 0.6343 - val_loss: 0.7564 - val_accuracy: 0.4636\n",
            "Epoch 90/100\n",
            "45/45 [==============================] - 0s 2ms/step - loss: 0.6387 - accuracy: 0.6201 - val_loss: 0.7442 - val_accuracy: 0.4834\n",
            "Epoch 91/100\n",
            "45/45 [==============================] - 0s 2ms/step - loss: 0.6352 - accuracy: 0.6279 - val_loss: 0.7573 - val_accuracy: 0.4636\n",
            "Epoch 92/100\n",
            "45/45 [==============================] - 0s 2ms/step - loss: 0.6362 - accuracy: 0.6258 - val_loss: 0.7531 - val_accuracy: 0.4702\n",
            "Epoch 93/100\n",
            "45/45 [==============================] - 0s 2ms/step - loss: 0.6372 - accuracy: 0.6293 - val_loss: 0.7564 - val_accuracy: 0.4536\n",
            "Epoch 94/100\n",
            "45/45 [==============================] - 0s 2ms/step - loss: 0.6310 - accuracy: 0.6471 - val_loss: 0.7531 - val_accuracy: 0.4470\n",
            "Epoch 95/100\n",
            "45/45 [==============================] - 0s 2ms/step - loss: 0.6331 - accuracy: 0.6350 - val_loss: 0.7487 - val_accuracy: 0.5000\n",
            "Epoch 96/100\n",
            "45/45 [==============================] - 0s 2ms/step - loss: 0.6313 - accuracy: 0.6449 - val_loss: 0.7544 - val_accuracy: 0.4669\n",
            "Epoch 97/100\n",
            "45/45 [==============================] - 0s 2ms/step - loss: 0.6298 - accuracy: 0.6386 - val_loss: 0.7492 - val_accuracy: 0.4702\n",
            "Epoch 98/100\n",
            "45/45 [==============================] - 0s 2ms/step - loss: 0.6404 - accuracy: 0.6386 - val_loss: 0.7592 - val_accuracy: 0.4901\n",
            "Epoch 99/100\n",
            "45/45 [==============================] - 0s 2ms/step - loss: 0.6317 - accuracy: 0.6534 - val_loss: 0.7585 - val_accuracy: 0.4603\n",
            "Epoch 100/100\n",
            "45/45 [==============================] - 0s 2ms/step - loss: 0.6367 - accuracy: 0.6251 - val_loss: 0.7564 - val_accuracy: 0.4702\n",
            "Epoch 1/100\n",
            "45/45 [==============================] - 0s 2ms/step - loss: 0.6249 - accuracy: 0.6293 - val_loss: 0.7570 - val_accuracy: 0.4603\n",
            "Epoch 2/100\n",
            "45/45 [==============================] - 0s 2ms/step - loss: 0.6274 - accuracy: 0.6329 - val_loss: 0.7564 - val_accuracy: 0.4603\n",
            "Epoch 3/100\n",
            "45/45 [==============================] - 0s 2ms/step - loss: 0.6287 - accuracy: 0.6527 - val_loss: 0.7520 - val_accuracy: 0.4669\n",
            "Epoch 4/100\n",
            "45/45 [==============================] - 0s 2ms/step - loss: 0.6239 - accuracy: 0.6485 - val_loss: 0.7654 - val_accuracy: 0.4768\n",
            "Epoch 5/100\n",
            "45/45 [==============================] - 0s 2ms/step - loss: 0.6232 - accuracy: 0.6527 - val_loss: 0.7602 - val_accuracy: 0.4702\n",
            "Epoch 6/100\n",
            "45/45 [==============================] - 0s 2ms/step - loss: 0.6227 - accuracy: 0.6471 - val_loss: 0.7670 - val_accuracy: 0.4172\n",
            "Epoch 7/100\n",
            "45/45 [==============================] - 0s 2ms/step - loss: 0.6297 - accuracy: 0.6428 - val_loss: 0.7635 - val_accuracy: 0.4702\n"
          ],
          "name": "stdout"
        },
        {
          "output_type": "execute_result",
          "data": {
            "text/plain": [
              "<tensorflow.python.keras.callbacks.History at 0x7f984e675eb8>"
            ]
          },
          "metadata": {
            "tags": []
          },
          "execution_count": 54
        }
      ]
    },
    {
      "cell_type": "markdown",
      "metadata": {
        "id": "DAOg59CQXQiG",
        "colab_type": "text"
      },
      "source": [
        "We evaluate our model to see how well does it fdo with the test data"
      ]
    },
    {
      "cell_type": "code",
      "metadata": {
        "id": "lnB6OOmaFf1Y",
        "colab_type": "code",
        "outputId": "79da9207-2cef-4866-f27d-0967d981906e",
        "colab": {
          "base_uri": "https://localhost:8080/",
          "height": 52
        }
      },
      "source": [
        "model.evaluate(x=teip,y=teop)"
      ],
      "execution_count": 49,
      "outputs": [
        {
          "output_type": "stream",
          "text": [
            "10/10 [==============================] - 0s 1ms/step - loss: 0.7558 - accuracy: 0.4704\n"
          ],
          "name": "stdout"
        },
        {
          "output_type": "execute_result",
          "data": {
            "text/plain": [
              "[0.7558482885360718, 0.47039473056793213]"
            ]
          },
          "metadata": {
            "tags": []
          },
          "execution_count": 49
        }
      ]
    },
    {
      "cell_type": "markdown",
      "metadata": {
        "id": "q7Rtno6cXp-G",
        "colab_type": "text"
      },
      "source": [
        "We can also provide in a sample data of our own to obtain a result, once we are satisfied with our model's performance. "
      ]
    },
    {
      "cell_type": "code",
      "metadata": {
        "id": "b3XyInz3nHuE",
        "colab_type": "code",
        "outputId": "14fc8285-6fd0-42a3-ab81-1759c9f1622b",
        "colab": {
          "base_uri": "https://localhost:8080/",
          "height": 35
        }
      },
      "source": [
        "trydata=np.array([0.0102,\t0.459,\t204600,\t0.434,\t0.021900,\t2,\t0.1650,\t-8.795,\t1\t,0.4310,\t150.062,\t4.0,\t0.286])\n",
        "print(model.predict(trydata.reshape(1,13),batch_size=1))"
      ],
      "execution_count": 52,
      "outputs": [
        {
          "output_type": "stream",
          "text": [
            "[[1.3804897e-04 9.9986196e-01]]\n"
          ],
          "name": "stdout"
        }
      ]
    },
    {
      "cell_type": "markdown",
      "metadata": {
        "id": "8dCW6Z31YOsu",
        "colab_type": "text"
      },
      "source": [
        "The above output indicates that the song's attributes show it to be having higher chances of being liked, than being disliked."
      ]
    },
    {
      "cell_type": "code",
      "metadata": {
        "id": "dKtFdW5tHwY9",
        "colab_type": "code",
        "colab": {}
      },
      "source": [
        ""
      ],
      "execution_count": 0,
      "outputs": []
    },
    {
      "cell_type": "code",
      "metadata": {
        "id": "w1aESnRxHweY",
        "colab_type": "code",
        "colab": {}
      },
      "source": [
        ""
      ],
      "execution_count": 0,
      "outputs": []
    },
    {
      "cell_type": "code",
      "metadata": {
        "id": "pAbp3JIgHwhv",
        "colab_type": "code",
        "colab": {}
      },
      "source": [
        ""
      ],
      "execution_count": 0,
      "outputs": []
    },
    {
      "cell_type": "code",
      "metadata": {
        "id": "kOdjED9rHwch",
        "colab_type": "code",
        "colab": {}
      },
      "source": [
        ""
      ],
      "execution_count": 0,
      "outputs": []
    }
  ]
}