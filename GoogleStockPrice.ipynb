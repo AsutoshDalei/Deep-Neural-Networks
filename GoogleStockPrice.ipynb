{
  "nbformat": 4,
  "nbformat_minor": 0,
  "metadata": {
    "kernelspec": {
      "display_name": "Python 3",
      "language": "python",
      "name": "python3"
    },
    "language_info": {
      "codemirror_mode": {
        "name": "ipython",
        "version": 3
      },
      "file_extension": ".py",
      "mimetype": "text/x-python",
      "name": "python",
      "nbconvert_exporter": "python",
      "pygments_lexer": "ipython3",
      "version": "3.7.0"
    },
    "colab": {
      "name": "GoogleStockPrice.ipynb",
      "provenance": [],
      "include_colab_link": true
    }
  },
  "cells": [
    {
      "cell_type": "markdown",
      "metadata": {
        "id": "view-in-github",
        "colab_type": "text"
      },
      "source": [
        "<a href=\"https://colab.research.google.com/github/AsutoshDalei/Deep-Neural-Networks/blob/master/GoogleStockPrice.ipynb\" target=\"_parent\"><img src=\"https://colab.research.google.com/assets/colab-badge.svg\" alt=\"Open In Colab\"/></a>"
      ]
    },
    {
      "cell_type": "markdown",
      "metadata": {
        "id": "tQxmngi9-qPI",
        "colab_type": "text"
      },
      "source": [
        "# Google's Stock Price Time Series Prediction\n",
        "### Aim: Visualize and understand the rise in opening stock price of Google from year 2004 to 2019. Predict the prices form 2019 to the present day"
      ]
    },
    {
      "cell_type": "markdown",
      "metadata": {
        "id": "em7INokP-qPJ",
        "colab_type": "text"
      },
      "source": [
        "Importing necessary packages and csv file into a dataframe"
      ]
    },
    {
      "cell_type": "code",
      "metadata": {
        "id": "CrIXLDK9-qPK",
        "colab_type": "code",
        "colab": {}
      },
      "source": [
        "import numpy as np\n",
        "import tensorflow as tf\n",
        "import pandas as pd\n",
        "import matplotlib.pyplot as plt\n",
        "import seaborn as sns\n",
        "%matplotlib inline\n",
        "from sklearn.preprocessing import MinMaxScaler\n",
        "from sklearn.utils import shuffle"
      ],
      "execution_count": 0,
      "outputs": []
    },
    {
      "cell_type": "code",
      "metadata": {
        "id": "MbBbS0UB-qPQ",
        "colab_type": "code",
        "colab": {},
        "outputId": "b4e3d85b-2ec3-440a-a4a3-829a9c82a140"
      },
      "source": [
        "df=pd.read_csv(r'C:\\Users\\ndale\\Downloads\\GOOG.csv',parse_dates=True,index_col='Date')\n",
        "df.head(5)"
      ],
      "execution_count": 0,
      "outputs": [
        {
          "output_type": "execute_result",
          "data": {
            "text/html": [
              "<div>\n",
              "<style scoped>\n",
              "    .dataframe tbody tr th:only-of-type {\n",
              "        vertical-align: middle;\n",
              "    }\n",
              "\n",
              "    .dataframe tbody tr th {\n",
              "        vertical-align: top;\n",
              "    }\n",
              "\n",
              "    .dataframe thead th {\n",
              "        text-align: right;\n",
              "    }\n",
              "</style>\n",
              "<table border=\"1\" class=\"dataframe\">\n",
              "  <thead>\n",
              "    <tr style=\"text-align: right;\">\n",
              "      <th></th>\n",
              "      <th>Open</th>\n",
              "      <th>High</th>\n",
              "      <th>Low</th>\n",
              "      <th>Close</th>\n",
              "      <th>Adj Close</th>\n",
              "      <th>Volume</th>\n",
              "    </tr>\n",
              "    <tr>\n",
              "      <th>Date</th>\n",
              "      <th></th>\n",
              "      <th></th>\n",
              "      <th></th>\n",
              "      <th></th>\n",
              "      <th></th>\n",
              "      <th></th>\n",
              "    </tr>\n",
              "  </thead>\n",
              "  <tbody>\n",
              "    <tr>\n",
              "      <th>2004-08-19</th>\n",
              "      <td>49.813286</td>\n",
              "      <td>51.835709</td>\n",
              "      <td>47.800831</td>\n",
              "      <td>49.982655</td>\n",
              "      <td>49.982655</td>\n",
              "      <td>44871300</td>\n",
              "    </tr>\n",
              "    <tr>\n",
              "      <th>2004-08-20</th>\n",
              "      <td>50.316402</td>\n",
              "      <td>54.336334</td>\n",
              "      <td>50.062355</td>\n",
              "      <td>53.952770</td>\n",
              "      <td>53.952770</td>\n",
              "      <td>22942800</td>\n",
              "    </tr>\n",
              "    <tr>\n",
              "      <th>2004-08-23</th>\n",
              "      <td>55.168217</td>\n",
              "      <td>56.528118</td>\n",
              "      <td>54.321388</td>\n",
              "      <td>54.495735</td>\n",
              "      <td>54.495735</td>\n",
              "      <td>18342800</td>\n",
              "    </tr>\n",
              "    <tr>\n",
              "      <th>2004-08-24</th>\n",
              "      <td>55.412300</td>\n",
              "      <td>55.591629</td>\n",
              "      <td>51.591621</td>\n",
              "      <td>52.239193</td>\n",
              "      <td>52.239193</td>\n",
              "      <td>15319700</td>\n",
              "    </tr>\n",
              "    <tr>\n",
              "      <th>2004-08-25</th>\n",
              "      <td>52.284027</td>\n",
              "      <td>53.798351</td>\n",
              "      <td>51.746044</td>\n",
              "      <td>52.802086</td>\n",
              "      <td>52.802086</td>\n",
              "      <td>9232100</td>\n",
              "    </tr>\n",
              "  </tbody>\n",
              "</table>\n",
              "</div>"
            ],
            "text/plain": [
              "                 Open       High        Low      Close  Adj Close    Volume\n",
              "Date                                                                       \n",
              "2004-08-19  49.813286  51.835709  47.800831  49.982655  49.982655  44871300\n",
              "2004-08-20  50.316402  54.336334  50.062355  53.952770  53.952770  22942800\n",
              "2004-08-23  55.168217  56.528118  54.321388  54.495735  54.495735  18342800\n",
              "2004-08-24  55.412300  55.591629  51.591621  52.239193  52.239193  15319700\n",
              "2004-08-25  52.284027  53.798351  51.746044  52.802086  52.802086   9232100"
            ]
          },
          "metadata": {
            "tags": []
          },
          "execution_count": 2
        }
      ]
    },
    {
      "cell_type": "markdown",
      "metadata": {
        "id": "jiPchOUR-qPW",
        "colab_type": "text"
      },
      "source": [
        "Defining train data from 2004 till 2019 and test data from 2019 till 2020"
      ]
    },
    {
      "cell_type": "code",
      "metadata": {
        "id": "fzPRD67D-qPX",
        "colab_type": "code",
        "colab": {},
        "outputId": "720c3e05-b534-4277-c107-028c540f71ed"
      },
      "source": [
        "traindata=(df.loc[:'2019-01-01',:]).drop('Adj Close',axis=1)\n",
        "testdata=(df.loc['2019-01-01':,:]).drop('Adj Close',axis=1)\n",
        "testdata.head()"
      ],
      "execution_count": 0,
      "outputs": [
        {
          "output_type": "execute_result",
          "data": {
            "text/html": [
              "<div>\n",
              "<style scoped>\n",
              "    .dataframe tbody tr th:only-of-type {\n",
              "        vertical-align: middle;\n",
              "    }\n",
              "\n",
              "    .dataframe tbody tr th {\n",
              "        vertical-align: top;\n",
              "    }\n",
              "\n",
              "    .dataframe thead th {\n",
              "        text-align: right;\n",
              "    }\n",
              "</style>\n",
              "<table border=\"1\" class=\"dataframe\">\n",
              "  <thead>\n",
              "    <tr style=\"text-align: right;\">\n",
              "      <th></th>\n",
              "      <th>Open</th>\n",
              "      <th>High</th>\n",
              "      <th>Low</th>\n",
              "      <th>Close</th>\n",
              "      <th>Volume</th>\n",
              "    </tr>\n",
              "    <tr>\n",
              "      <th>Date</th>\n",
              "      <th></th>\n",
              "      <th></th>\n",
              "      <th></th>\n",
              "      <th></th>\n",
              "      <th></th>\n",
              "    </tr>\n",
              "  </thead>\n",
              "  <tbody>\n",
              "    <tr>\n",
              "      <th>2019-01-02</th>\n",
              "      <td>1016.570007</td>\n",
              "      <td>1052.319946</td>\n",
              "      <td>1015.710022</td>\n",
              "      <td>1045.849976</td>\n",
              "      <td>1532600</td>\n",
              "    </tr>\n",
              "    <tr>\n",
              "      <th>2019-01-03</th>\n",
              "      <td>1041.000000</td>\n",
              "      <td>1056.979980</td>\n",
              "      <td>1014.070007</td>\n",
              "      <td>1016.059998</td>\n",
              "      <td>1841100</td>\n",
              "    </tr>\n",
              "    <tr>\n",
              "      <th>2019-01-04</th>\n",
              "      <td>1032.589966</td>\n",
              "      <td>1070.839966</td>\n",
              "      <td>1027.417969</td>\n",
              "      <td>1070.709961</td>\n",
              "      <td>2093900</td>\n",
              "    </tr>\n",
              "    <tr>\n",
              "      <th>2019-01-07</th>\n",
              "      <td>1071.500000</td>\n",
              "      <td>1074.000000</td>\n",
              "      <td>1054.760010</td>\n",
              "      <td>1068.390015</td>\n",
              "      <td>1981900</td>\n",
              "    </tr>\n",
              "    <tr>\n",
              "      <th>2019-01-08</th>\n",
              "      <td>1076.109985</td>\n",
              "      <td>1084.560059</td>\n",
              "      <td>1060.530029</td>\n",
              "      <td>1076.280029</td>\n",
              "      <td>1764900</td>\n",
              "    </tr>\n",
              "  </tbody>\n",
              "</table>\n",
              "</div>"
            ],
            "text/plain": [
              "                   Open         High          Low        Close   Volume\n",
              "Date                                                                   \n",
              "2019-01-02  1016.570007  1052.319946  1015.710022  1045.849976  1532600\n",
              "2019-01-03  1041.000000  1056.979980  1014.070007  1016.059998  1841100\n",
              "2019-01-04  1032.589966  1070.839966  1027.417969  1070.709961  2093900\n",
              "2019-01-07  1071.500000  1074.000000  1054.760010  1068.390015  1981900\n",
              "2019-01-08  1076.109985  1084.560059  1060.530029  1076.280029  1764900"
            ]
          },
          "metadata": {
            "tags": []
          },
          "execution_count": 5
        }
      ]
    },
    {
      "cell_type": "markdown",
      "metadata": {
        "id": "vB_KcuBA-qPc",
        "colab_type": "text"
      },
      "source": [
        "We scale the data and divide it into chunks of 60 days each, stored in xtrain.\n",
        "\n",
        "By this, we train the model for 60 days and predict the 61st day, which is stored in ytrain"
      ]
    },
    {
      "cell_type": "code",
      "metadata": {
        "id": "p6k66ER--qPc",
        "colab_type": "code",
        "colab": {},
        "outputId": "2a3840d5-bf90-421f-c22f-09e4d2fccdf7"
      },
      "source": [
        "sca=MinMaxScaler()\n",
        "scatraindata=sca.fit_transform(traindata)\n",
        "scatestdata=sca.fit_transform(testdata)\n",
        "scatraindata.shape"
      ],
      "execution_count": 0,
      "outputs": [
        {
          "output_type": "execute_result",
          "data": {
            "text/plain": [
              "(3617, 5)"
            ]
          },
          "metadata": {
            "tags": []
          },
          "execution_count": 6
        }
      ]
    },
    {
      "cell_type": "code",
      "metadata": {
        "id": "pd1Y_8mE-qPh",
        "colab_type": "code",
        "colab": {}
      },
      "source": [
        "xtrain=[]\n",
        "ytrain=[]\n",
        "for i in range(len(scatraindata)-60):\n",
        "    xtrain.append(scatraindata[i:i+60])\n",
        "    #ytrain.append(scatraindata[i+60,0]) #We are considerng only the opening stock price. \n",
        "    ytrain.append(scatraindata[i+60]) #We can consider all of them as well"
      ],
      "execution_count": 0,
      "outputs": []
    },
    {
      "cell_type": "markdown",
      "metadata": {
        "id": "rpKwpyzM-qPl",
        "colab_type": "text"
      },
      "source": [
        "Is is necessary for the data to be in a numpy array format"
      ]
    },
    {
      "cell_type": "code",
      "metadata": {
        "id": "erbtMVWg-qPm",
        "colab_type": "code",
        "colab": {}
      },
      "source": [
        "xtrain,ytrain=np.array(xtrain),np.array(ytrain)"
      ],
      "execution_count": 0,
      "outputs": []
    },
    {
      "cell_type": "code",
      "metadata": {
        "id": "S5DjXSJI-qPs",
        "colab_type": "code",
        "colab": {},
        "outputId": "bfb9378b-3fca-49cb-89b8-491a6a4138b6"
      },
      "source": [
        "ytrain.shape\n",
        "xtrain.shape"
      ],
      "execution_count": 0,
      "outputs": [
        {
          "output_type": "execute_result",
          "data": {
            "text/plain": [
              "(3557, 60, 5)"
            ]
          },
          "metadata": {
            "tags": []
          },
          "execution_count": 24
        }
      ]
    },
    {
      "cell_type": "markdown",
      "metadata": {
        "id": "fPvbyFQ2-qPw",
        "colab_type": "text"
      },
      "source": [
        "## Model\n",
        "\n",
        "This is a regression based model involving LSTM Recurrent Neural Networks for effective prediction of the future values\n"
      ]
    },
    {
      "cell_type": "code",
      "metadata": {
        "id": "3FNW7e5U-qPw",
        "colab_type": "code",
        "colab": {},
        "outputId": "3763dfc8-2dd1-41ac-c0a8-05e28805e92b"
      },
      "source": [
        "model=tf.keras.Sequential([\n",
        "    tf.keras.layers.LSTM(units=50,activation='relu',return_sequences=True,input_shape=(xtrain.shape[1],5)),\n",
        "    tf.keras.layers.Dropout(0.2), #Input Shape is (60,5)\n",
        "    \n",
        "    tf.keras.layers.LSTM(units=60,activation='relu',return_sequences=True),\n",
        "    tf.keras.layers.Dropout(0.2), #This means 30% of the neurons in the neural network will be dropped it. \n",
        "    #This gives a getter generalization\n",
        "    \n",
        "    tf.keras.layers.LSTM(units=80,activation='relu',return_sequences=True),\n",
        "    tf.keras.layers.Dropout(0.2),#Return Sequences indicate if we forward the input of the current layer \n",
        "    #to the next layer of not.\n",
        "    #By this the inputs to the first layer is forwarded to the next layer\n",
        "    \n",
        "    tf.keras.layers.LSTM(units=120,activation='relu'),\n",
        "    tf.keras.layers.Dropout(0.2),\n",
        "    \n",
        "    tf.keras.layers.Dense(units=5)\n",
        "                          ])\n",
        "model.summary()"
      ],
      "execution_count": 0,
      "outputs": [
        {
          "output_type": "stream",
          "text": [
            "Model: \"sequential_2\"\n",
            "_________________________________________________________________\n",
            "Layer (type)                 Output Shape              Param #   \n",
            "=================================================================\n",
            "lstm_8 (LSTM)                (None, 60, 50)            11200     \n",
            "_________________________________________________________________\n",
            "dropout_8 (Dropout)          (None, 60, 50)            0         \n",
            "_________________________________________________________________\n",
            "lstm_9 (LSTM)                (None, 60, 60)            26640     \n",
            "_________________________________________________________________\n",
            "dropout_9 (Dropout)          (None, 60, 60)            0         \n",
            "_________________________________________________________________\n",
            "lstm_10 (LSTM)               (None, 60, 80)            45120     \n",
            "_________________________________________________________________\n",
            "dropout_10 (Dropout)         (None, 60, 80)            0         \n",
            "_________________________________________________________________\n",
            "lstm_11 (LSTM)               (None, 120)               96480     \n",
            "_________________________________________________________________\n",
            "dropout_11 (Dropout)         (None, 120)               0         \n",
            "_________________________________________________________________\n",
            "dense_2 (Dense)              (None, 5)                 605       \n",
            "=================================================================\n",
            "Total params: 180,045\n",
            "Trainable params: 180,045\n",
            "Non-trainable params: 0\n",
            "_________________________________________________________________\n"
          ],
          "name": "stdout"
        }
      ]
    },
    {
      "cell_type": "code",
      "metadata": {
        "id": "FLoi5zfm-qP0",
        "colab_type": "code",
        "colab": {},
        "outputId": "13a53f97-29a0-40aa-ceb2-d1a02f081e41"
      },
      "source": [
        "model.compile(optimizer='adam',loss='mean_squared_error',metrics=['accuracy'])\n",
        "model.fit(xtrain,ytrain,epochs=10,batch_size=32)"
      ],
      "execution_count": 0,
      "outputs": [
        {
          "output_type": "stream",
          "text": [
            "Train on 3557 samples\n",
            "Epoch 1/10\n",
            "3557/3557 [==============================] - 23s 6ms/sample - loss: 0.0254 - accuracy: 0.2035\n",
            "Epoch 2/10\n",
            "3557/3557 [==============================] - 21s 6ms/sample - loss: 0.0037 - accuracy: 0.3405\n",
            "Epoch 3/10\n",
            "3557/3557 [==============================] - 23s 6ms/sample - loss: 0.0033 - accuracy: 0.3506\n",
            "Epoch 4/10\n",
            "3557/3557 [==============================] - 23s 6ms/sample - loss: 0.0029 - accuracy: 0.3582\n",
            "Epoch 5/10\n",
            "3557/3557 [==============================] - 23s 7ms/sample - loss: 0.0028 - accuracy: 0.3579\n",
            "Epoch 6/10\n",
            "3557/3557 [==============================] - 23s 7ms/sample - loss: 0.0024 - accuracy: 0.3708\n",
            "Epoch 7/10\n",
            "3557/3557 [==============================] - 24s 7ms/sample - loss: 0.0024 - accuracy: 0.3669\n",
            "Epoch 8/10\n",
            "3557/3557 [==============================] - 24s 7ms/sample - loss: 0.0022 - accuracy: 0.3742\n",
            "Epoch 9/10\n",
            "3557/3557 [==============================] - 24s 7ms/sample - loss: 0.0021 - accuracy: 0.3871\n",
            "Epoch 10/10\n",
            "3557/3557 [==============================] - 24s 7ms/sample - loss: 0.0021 - accuracy: 0.3587\n"
          ],
          "name": "stdout"
        },
        {
          "output_type": "execute_result",
          "data": {
            "text/plain": [
              "<tensorflow.python.keras.callbacks.History at 0x244aebaf198>"
            ]
          },
          "metadata": {
            "tags": []
          },
          "execution_count": 11
        }
      ]
    },
    {
      "cell_type": "markdown",
      "metadata": {
        "id": "IPwRgNuE-qP4",
        "colab_type": "text"
      },
      "source": [
        "Inorder to predict the 1st test value, we must have the values of the previous 60 days, i.e the last 60 days worth values form traindata. Hence we define a new dataframe combining the last 60 days worth values from train data and the entire test data"
      ]
    },
    {
      "cell_type": "code",
      "metadata": {
        "id": "QitLJ_nh-qP4",
        "colab_type": "code",
        "colab": {}
      },
      "source": [
        "past60days=traindata.tail(60)\n",
        "df1=past60days.append(testdata)\n",
        "scatest=MinMaxScaler()\n",
        "scadf1=scatest.fit_transform(df1)"
      ],
      "execution_count": 0,
      "outputs": []
    },
    {
      "cell_type": "markdown",
      "metadata": {
        "id": "AmjgOxgZ-qP8",
        "colab_type": "text"
      },
      "source": [
        "Performing the same 60 days data chunk formation for test data as well and predicting it."
      ]
    },
    {
      "cell_type": "code",
      "metadata": {
        "id": "U3PZCXf2-qP9",
        "colab_type": "code",
        "colab": {},
        "outputId": "b5386048-36fe-4d76-9335-26807d195fd5"
      },
      "source": [
        "xtest=[]\n",
        "ytest=[]\n",
        "for i in range(60,scadf1.shape[0]):\n",
        "    xtest.append(scadf1[i-60:i])\n",
        "    ytest.append(scadf1[i])\n",
        "xtest,ytest=np.array(xtest),np.array(ytest)\n",
        "xtest.shape"
      ],
      "execution_count": 0,
      "outputs": [
        {
          "output_type": "execute_result",
          "data": {
            "text/plain": [
              "(331, 60, 5)"
            ]
          },
          "metadata": {
            "tags": []
          },
          "execution_count": 13
        }
      ]
    },
    {
      "cell_type": "code",
      "metadata": {
        "id": "KVpJicJM-qQB",
        "colab_type": "code",
        "colab": {}
      },
      "source": [
        "ypred=model.predict(xtest)"
      ],
      "execution_count": 0,
      "outputs": []
    },
    {
      "cell_type": "code",
      "metadata": {
        "id": "A6WUsiIZ-qQE",
        "colab_type": "code",
        "colab": {}
      },
      "source": [
        "#scatest.scale_\n",
        "#isca=1/1.96656857e-03 #Scale on 'Open' column\n",
        "#ypred=sca.inverse_transform(ypred)\n",
        "#isca=1/sca.scale_[0]\n",
        "#ypred*=isca\n",
        "#ytest*=isca"
      ],
      "execution_count": 0,
      "outputs": []
    },
    {
      "cell_type": "markdown",
      "metadata": {
        "id": "8jJBRcY9-qQJ",
        "colab_type": "text"
      },
      "source": [
        "Inverse transforming our newly obtained prediction data and converting it into a pandas dataframe format"
      ]
    },
    {
      "cell_type": "code",
      "metadata": {
        "id": "UVyLmVPC-qQK",
        "colab_type": "code",
        "colab": {}
      },
      "source": [
        "ypredsca=scatest.inverse_transform(ypred)"
      ],
      "execution_count": 0,
      "outputs": []
    },
    {
      "cell_type": "code",
      "metadata": {
        "id": "FJsmCZgH-qQP",
        "colab_type": "code",
        "colab": {},
        "outputId": "2d4050e2-ad01-4a19-cd40-de4b0e714df6"
      },
      "source": [
        "ypreddf=pd.DataFrame(ypredsca)\n",
        "ypreddf.columns=testdata.columns\n",
        "ypreddf.index=testdata.index\n",
        "ypreddf.head()"
      ],
      "execution_count": 0,
      "outputs": [
        {
          "output_type": "execute_result",
          "data": {
            "text/html": [
              "<div>\n",
              "<style scoped>\n",
              "    .dataframe tbody tr th:only-of-type {\n",
              "        vertical-align: middle;\n",
              "    }\n",
              "\n",
              "    .dataframe tbody tr th {\n",
              "        vertical-align: top;\n",
              "    }\n",
              "\n",
              "    .dataframe thead th {\n",
              "        text-align: right;\n",
              "    }\n",
              "</style>\n",
              "<table border=\"1\" class=\"dataframe\">\n",
              "  <thead>\n",
              "    <tr style=\"text-align: right;\">\n",
              "      <th></th>\n",
              "      <th>Open</th>\n",
              "      <th>High</th>\n",
              "      <th>Low</th>\n",
              "      <th>Close</th>\n",
              "      <th>Volume</th>\n",
              "    </tr>\n",
              "    <tr>\n",
              "      <th>Date</th>\n",
              "      <th></th>\n",
              "      <th></th>\n",
              "      <th></th>\n",
              "      <th></th>\n",
              "      <th></th>\n",
              "    </tr>\n",
              "  </thead>\n",
              "  <tbody>\n",
              "    <tr>\n",
              "      <th>2019-01-02</th>\n",
              "      <td>1031.872437</td>\n",
              "      <td>1056.772827</td>\n",
              "      <td>1024.544800</td>\n",
              "      <td>1030.535889</td>\n",
              "      <td>1779678.375</td>\n",
              "    </tr>\n",
              "    <tr>\n",
              "      <th>2019-01-03</th>\n",
              "      <td>1030.506958</td>\n",
              "      <td>1055.461670</td>\n",
              "      <td>1023.175171</td>\n",
              "      <td>1029.295410</td>\n",
              "      <td>1788511.000</td>\n",
              "    </tr>\n",
              "    <tr>\n",
              "      <th>2019-01-04</th>\n",
              "      <td>1029.208130</td>\n",
              "      <td>1054.229736</td>\n",
              "      <td>1021.942139</td>\n",
              "      <td>1028.193359</td>\n",
              "      <td>1786694.375</td>\n",
              "    </tr>\n",
              "    <tr>\n",
              "      <th>2019-01-07</th>\n",
              "      <td>1028.041016</td>\n",
              "      <td>1053.141113</td>\n",
              "      <td>1020.902771</td>\n",
              "      <td>1027.267334</td>\n",
              "      <td>1775937.250</td>\n",
              "    </tr>\n",
              "    <tr>\n",
              "      <th>2019-01-08</th>\n",
              "      <td>1027.067017</td>\n",
              "      <td>1052.253296</td>\n",
              "      <td>1020.104187</td>\n",
              "      <td>1026.551880</td>\n",
              "      <td>1758244.250</td>\n",
              "    </tr>\n",
              "  </tbody>\n",
              "</table>\n",
              "</div>"
            ],
            "text/plain": [
              "                   Open         High          Low        Close       Volume\n",
              "Date                                                                       \n",
              "2019-01-02  1031.872437  1056.772827  1024.544800  1030.535889  1779678.375\n",
              "2019-01-03  1030.506958  1055.461670  1023.175171  1029.295410  1788511.000\n",
              "2019-01-04  1029.208130  1054.229736  1021.942139  1028.193359  1786694.375\n",
              "2019-01-07  1028.041016  1053.141113  1020.902771  1027.267334  1775937.250\n",
              "2019-01-08  1027.067017  1052.253296  1020.104187  1026.551880  1758244.250"
            ]
          },
          "metadata": {
            "tags": []
          },
          "execution_count": 17
        }
      ]
    },
    {
      "cell_type": "markdown",
      "metadata": {
        "id": "4bSNisSn-qQo",
        "colab_type": "text"
      },
      "source": [
        "## Visualization\n",
        "We now visualize our predicted values with the true values"
      ]
    },
    {
      "cell_type": "code",
      "metadata": {
        "scrolled": true,
        "id": "ZXANcrAE-qQp",
        "colab_type": "code",
        "colab": {},
        "outputId": "eed5911d-9dc6-485b-bae2-388c7ca5bc1b"
      },
      "source": [
        "plt.figure(figsize=(14,5))\n",
        "plt.plot(df.loc['2019-01-01':,:].Open,color='red',label='Real')\n",
        "plt.plot(ypreddf['Open'],color='blue',label='Predicted')\n",
        "#plt.title('Google Opening stock price')\n",
        "plt.xlabel('Time')\n",
        "plt.ylabel('Price')\n",
        "plt.legend()\n",
        "plt.show()\n"
      ],
      "execution_count": 0,
      "outputs": [
        {
          "output_type": "display_data",
          "data": {
            "image/png": "[encoded data removed]",
            "text/plain": [
              "<Figure size 1008x360 with 1 Axes>"
            ]
          },
          "metadata": {
            "tags": [],
            "needs_background": "light"
          }
        }
      ]
    },
    {
      "cell_type": "markdown",
      "metadata": {
        "id": "9-KHkMe2-qQt",
        "colab_type": "text"
      },
      "source": [
        "We see that our model has predicted the future values quiet fairly and can be said to be dependable."
      ]
    },
    {
      "cell_type": "code",
      "metadata": {
        "id": "CmtEgXB6-qQt",
        "colab_type": "code",
        "colab": {},
        "outputId": "705afd70-d845-474a-bf06-7dd17fd290b7"
      },
      "source": [
        "plt.figure(figsize=(14,5))\n",
        "plt.plot(df.Open, label='Real')\n",
        "plt.plot(ypreddf['Open'],label='Predicted')\n",
        "plt.legend()\n",
        "plt.show()"
      ],
      "execution_count": 0,
      "outputs": [
        {
          "output_type": "display_data",
          "data": {
            "image/png": "[encoded data removed]",
            "text/plain": [
              "<Figure size 1008x360 with 1 Axes>"
            ]
          },
          "metadata": {
            "tags": [],
            "needs_background": "light"
          }
        }
      ]
    },
    {
      "cell_type": "code",
      "metadata": {
        "id": "QQ-akEqq-qQx",
        "colab_type": "code",
        "colab": {}
      },
      "source": [
        ""
      ],
      "execution_count": 0,
      "outputs": []
    },
    {
      "cell_type": "code",
      "metadata": {
        "id": "rTb_kNOc-qQ0",
        "colab_type": "code",
        "colab": {}
      },
      "source": [
        ""
      ],
      "execution_count": 0,
      "outputs": []
    },
    {
      "cell_type": "code",
      "metadata": {
        "id": "HUNsnV3y-qQ3",
        "colab_type": "code",
        "colab": {}
      },
      "source": [
        ""
      ],
      "execution_count": 0,
      "outputs": []
    },
    {
      "cell_type": "code",
      "metadata": {
        "id": "Zfg5YxG0-qQ6",
        "colab_type": "code",
        "colab": {}
      },
      "source": [
        ""
      ],
      "execution_count": 0,
      "outputs": []
    }
  ]
}