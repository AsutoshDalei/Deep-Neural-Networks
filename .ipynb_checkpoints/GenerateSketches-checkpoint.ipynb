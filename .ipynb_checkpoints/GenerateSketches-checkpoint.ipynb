{
 "cells": [
  {
   "cell_type": "markdown",
   "metadata": {
    "colab_type": "text",
    "id": "view-in-github"
   },
   "source": [
    "<a href=\"https://colab.research.google.com/github/AsutoshDalei/Deep-Neural-Networks/blob/master/GenerateSketches.ipynb\" target=\"_parent\"><img src=\"https://colab.research.google.com/assets/colab-badge.svg\" alt=\"Open In Colab\"/></a>"
   ]
  },
  {
   "cell_type": "code",
   "execution_count": 1,
   "metadata": {
    "id": "guFvUuoFSrGT"
   },
   "outputs": [],
   "source": [
    "# !pip3 install torchinfo --quiet"
   ]
  },
  {
   "cell_type": "markdown",
   "metadata": {
    "id": "8js_OIIAqKxx"
   },
   "source": [
    "# Generate Sketches\n",
    "\n",
    "Humans have used sketching to depict our visual world since prehistoric times. Even today, sketching is possibly the only rendering technique readily available to all humans. This paper is the first large scale exploration of human sketches. We analyze the distribution of non-expert sketches of everyday objects such as 'teapot' or 'car'. We ask humans to sketch objects of a given category and gather 20,000 unique sketches evenly distributed over 250 object categories.\n",
    "\n",
    "https://cybertron.cg.tu-berlin.de/eitz/projects/classifysketch/"
   ]
  },
  {
   "cell_type": "code",
   "execution_count": 2,
   "metadata": {
    "id": "wkEh-AHwrsvf"
   },
   "outputs": [],
   "source": [
    "import os\n",
    "\n",
    "import pandas as pd\n",
    "import numpy as np\n",
    "import matplotlib.pyplot as plt\n",
    "%matplotlib inline\n",
    "import seaborn as sns\n",
    "from sklearn.model_selection import train_test_split\n",
    "\n",
    "import torch\n",
    "import torch.nn as nn\n",
    "from torch.utils.data import Dataset, DataLoader\n",
    "from torchinfo import summary\n",
    "from torchvision.transforms import v2\n",
    "from torchvision.io import read_image"
   ]
  },
  {
   "cell_type": "markdown",
   "metadata": {
    "id": "7vJbrE_xreGy"
   },
   "source": [
    "## Data Collection\n",
    "Fetcing and unzipping"
   ]
  },
  {
   "cell_type": "code",
   "execution_count": 3,
   "metadata": {
    "id": "6Ixm2K-MqfpY"
   },
   "outputs": [],
   "source": [
    "# !wget https://cybertron.cg.tu-berlin.de/eitz/projects/classifysketch/sketches_png.zip\n",
    "# !unzip /content/sketches_png.zip"
   ]
  },
  {
   "cell_type": "code",
   "execution_count": 4,
   "metadata": {
    "colab": {
     "base_uri": "https://localhost:8080/"
    },
    "id": "wmvOm1nHqibi",
    "outputId": "ee3ed425-b5d6-49eb-a648-1d292d46a783"
   },
   "outputs": [
    {
     "name": "stdout",
     "output_type": "stream",
     "text": [
      "filelist.txt is a file\n",
      "Number of objects sketched: 250\n",
      "Average number of images per object: 80.0\n"
     ]
    }
   ],
   "source": [
    "dataPath = \"/content/png\"\n",
    "dataPath = r\"C:\\Users\\asuto\\Desktop\\Work\\sketches_png\\png\"\n",
    "\n",
    "numImgs,sktName = [],[]\n",
    "\n",
    "hmap = {\"fileName\":[],'object':[]}\n",
    "\n",
    "for ele in os.listdir(dataPath):\n",
    "  if os.path.isdir(f\"{dataPath}/{ele}\"):\n",
    "    # print(f\"{ele} is a dir\")\n",
    "    numClassImg = len(os.listdir(f\"{dataPath}/{ele}\"))\n",
    "    numImgs.append(numClassImg)\n",
    "    sktName.append(ele)\n",
    "\n",
    "    hmap['fileName'].extend(os.listdir(f\"{dataPath}/{ele}\"))\n",
    "    hmap['object'].extend([ele]*len(os.listdir(f\"{dataPath}/{ele}\")))\n",
    "    # hmap['path'].extend()\n",
    "\n",
    "  else:\n",
    "    print(f\"{ele} is a file\")\n",
    "\n",
    "print(f\"Number of objects sketched: {len(numImgs)}\")\n",
    "\n",
    "print(f\"Average number of images per object: {sum(numImgs)/len(numImgs)}\")"
   ]
  },
  {
   "cell_type": "code",
   "execution_count": 5,
   "metadata": {
    "colab": {
     "base_uri": "https://localhost:8080/",
     "height": 242
    },
    "id": "xAGeyO8XMqUp",
    "outputId": "401251e4-e4a7-4b2b-a6f1-ce1a12e0cabd"
   },
   "outputs": [
    {
     "name": "stdout",
     "output_type": "stream",
     "text": [
      "CPU times: total: 141 ms\n",
      "Wall time: 165 ms\n"
     ]
    },
    {
     "data": {
      "text/html": [
       "<div>\n",
       "<style scoped>\n",
       "    .dataframe tbody tr th:only-of-type {\n",
       "        vertical-align: middle;\n",
       "    }\n",
       "\n",
       "    .dataframe tbody tr th {\n",
       "        vertical-align: top;\n",
       "    }\n",
       "\n",
       "    .dataframe thead th {\n",
       "        text-align: right;\n",
       "    }\n",
       "</style>\n",
       "<table border=\"1\" class=\"dataframe\">\n",
       "  <thead>\n",
       "    <tr style=\"text-align: right;\">\n",
       "      <th></th>\n",
       "      <th>fileName</th>\n",
       "      <th>object</th>\n",
       "      <th>path</th>\n",
       "    </tr>\n",
       "  </thead>\n",
       "  <tbody>\n",
       "    <tr>\n",
       "      <th>0</th>\n",
       "      <td>1.png</td>\n",
       "      <td>airplane</td>\n",
       "      <td>C:\\Users\\asuto\\Desktop\\Work\\sketches_png\\png/a...</td>\n",
       "    </tr>\n",
       "    <tr>\n",
       "      <th>1</th>\n",
       "      <td>10.png</td>\n",
       "      <td>airplane</td>\n",
       "      <td>C:\\Users\\asuto\\Desktop\\Work\\sketches_png\\png/a...</td>\n",
       "    </tr>\n",
       "    <tr>\n",
       "      <th>2</th>\n",
       "      <td>11.png</td>\n",
       "      <td>airplane</td>\n",
       "      <td>C:\\Users\\asuto\\Desktop\\Work\\sketches_png\\png/a...</td>\n",
       "    </tr>\n",
       "    <tr>\n",
       "      <th>3</th>\n",
       "      <td>12.png</td>\n",
       "      <td>airplane</td>\n",
       "      <td>C:\\Users\\asuto\\Desktop\\Work\\sketches_png\\png/a...</td>\n",
       "    </tr>\n",
       "    <tr>\n",
       "      <th>4</th>\n",
       "      <td>13.png</td>\n",
       "      <td>airplane</td>\n",
       "      <td>C:\\Users\\asuto\\Desktop\\Work\\sketches_png\\png/a...</td>\n",
       "    </tr>\n",
       "  </tbody>\n",
       "</table>\n",
       "</div>"
      ],
      "text/plain": [
       "  fileName    object                                               path\n",
       "0    1.png  airplane  C:\\Users\\asuto\\Desktop\\Work\\sketches_png\\png/a...\n",
       "1   10.png  airplane  C:\\Users\\asuto\\Desktop\\Work\\sketches_png\\png/a...\n",
       "2   11.png  airplane  C:\\Users\\asuto\\Desktop\\Work\\sketches_png\\png/a...\n",
       "3   12.png  airplane  C:\\Users\\asuto\\Desktop\\Work\\sketches_png\\png/a...\n",
       "4   13.png  airplane  C:\\Users\\asuto\\Desktop\\Work\\sketches_png\\png/a..."
      ]
     },
     "execution_count": 5,
     "metadata": {},
     "output_type": "execute_result"
    }
   ],
   "source": [
    "%%time\n",
    "data = pd.DataFrame(hmap)\n",
    "data = data.assign(path = data.apply(lambda row: f\"{dataPath}/{row['object']}/{row['fileName']}\",axis=1))\n",
    "data.head()"
   ]
  },
  {
   "cell_type": "markdown",
   "metadata": {
    "id": "hDICMdMIwVQj"
   },
   "source": [
    "---\n",
    "### Viewing Sketches"
   ]
  },
  {
   "cell_type": "code",
   "execution_count": 6,
   "metadata": {
    "colab": {
     "base_uri": "https://localhost:8080/",
     "height": 548
    },
    "id": "3HPVRICzqidl",
    "outputId": "31314165-0732-4e3a-dfe1-5a3b9d1c5e0f"
   },
   "outputs": [
    {
     "data": {
      "image/png": "[encoded data removed]",
      "text/plain": [
       "<Figure size 600x700 with 1 Axes>"
      ]
     },
     "metadata": {},
     "output_type": "display_data"
    }
   ],
   "source": [
    "sample = data.sample(1)\n",
    "\n",
    "def showSketch_init(sample):\n",
    "  plt.figure(figsize=(6,7),dpi=100)\n",
    "  img = plt.imread(sample['path'].item())\n",
    "  imgplot = plt.imshow(img, cmap=\"gray\")\n",
    "  plt.title(f\"Sample of {sample['object'].item()}\")\n",
    "  plt.show()\n",
    "\n",
    "showSketch_init(sample)"
   ]
  },
  {
   "cell_type": "code",
   "execution_count": 7,
   "metadata": {
    "colab": {
     "base_uri": "https://localhost:8080/"
    },
    "id": "rcfZfWWXtP8Z",
    "outputId": "00d347f6-7dbe-4118-f2dd-31e57a1221d7"
   },
   "outputs": [
    {
     "name": "stdout",
     "output_type": "stream",
     "text": [
      "(1111, 1111)\n"
     ]
    },
    {
     "data": {
      "text/plain": [
       "array([[1., 1., 1., ..., 1., 1., 1.],\n",
       "       [1., 1., 1., ..., 1., 1., 1.],\n",
       "       [1., 1., 1., ..., 1., 1., 1.],\n",
       "       ...,\n",
       "       [1., 1., 1., ..., 1., 1., 1.],\n",
       "       [1., 1., 1., ..., 1., 1., 1.],\n",
       "       [1., 1., 1., ..., 1., 1., 1.]], dtype=float32)"
      ]
     },
     "execution_count": 7,
     "metadata": {},
     "output_type": "execute_result"
    }
   ],
   "source": [
    "img = plt.imread(sample['path'].item())\n",
    "print(img.shape)\n",
    "img"
   ]
  },
  {
   "cell_type": "markdown",
   "metadata": {
    "id": "AMoEXStaQ4zK"
   },
   "source": [
    "## Model Plan\n",
    "* The idea is to take in one of the objects as an input and generate a sketch which corresponds to the object. Since we have 250 object classes, our input to the model would be an array of size 250. Each object would be represented by a combination of the input array.\n",
    "\n",
    "* The output of the model would be the image. In this case, an array of (1111,1111)."
   ]
  },
  {
   "cell_type": "markdown",
   "metadata": {
    "id": "lF8-nCdSSEKS"
   },
   "source": [
    "### PyTorch Dataset & Transformers"
   ]
  },
  {
   "cell_type": "code",
   "execution_count": 8,
   "metadata": {},
   "outputs": [],
   "source": [
    "transformFnx = v2.Compose([v2.ToImage(),\n",
    "                           v2.Resize((512,512)),\n",
    "                           v2.RandomHorizontalFlip(0.5),\n",
    "                           v2.ToDtype(torch.float32, scale=True)])"
   ]
  },
  {
   "cell_type": "code",
   "execution_count": 9,
   "metadata": {
    "id": "lKja3FMutP-9"
   },
   "outputs": [],
   "source": [
    "class datasetGen(Dataset):\n",
    "  def __init__(self,data,transforms=None):\n",
    "    self.data = data\n",
    "    self.transforms = transforms\n",
    "\n",
    "    nunq = data.object.nunique()\n",
    "    self.inpMap, ptr = {}, 0\n",
    "    for obj in sorted(data.object.unique()):\n",
    "      self.inpMap[obj] = [0]*nunq\n",
    "      self.inpMap[obj][ptr] = 1\n",
    "      ptr+=1\n",
    "\n",
    "  def __len__(self):\n",
    "    return len(self.data)\n",
    "\n",
    "  def __getitem__(self, idx):\n",
    "    row = self.data.iloc[idx]\n",
    "    obj = self.inpMap[row['object']]\n",
    "    sketch = read_image(row['path'])\n",
    "\n",
    "    if self.transforms:\n",
    "      sketch = self.transforms(sketch)\n",
    "\n",
    "    return obj, sketch\n",
    "      \n",
    "gen = datasetGen(data=data, transforms=transformFnx)\n",
    "iterGen = iter(gen)"
   ]
  },
  {
   "cell_type": "code",
   "execution_count": 10,
   "metadata": {
    "colab": {
     "base_uri": "https://localhost:8080/",
     "height": 89
    },
    "id": "sZ5aM73ptQB1",
    "outputId": "39a3616f-cf0c-409b-93ed-acf4ef58f173"
   },
   "outputs": [
    {
     "data": {
      "text/html": [
       "<div>\n",
       "<style scoped>\n",
       "    .dataframe tbody tr th:only-of-type {\n",
       "        vertical-align: middle;\n",
       "    }\n",
       "\n",
       "    .dataframe tbody tr th {\n",
       "        vertical-align: top;\n",
       "    }\n",
       "\n",
       "    .dataframe thead th {\n",
       "        text-align: right;\n",
       "    }\n",
       "</style>\n",
       "<table border=\"1\" class=\"dataframe\">\n",
       "  <thead>\n",
       "    <tr style=\"text-align: right;\">\n",
       "      <th></th>\n",
       "      <th>fileName</th>\n",
       "      <th>object</th>\n",
       "      <th>path</th>\n",
       "    </tr>\n",
       "  </thead>\n",
       "  <tbody>\n",
       "    <tr>\n",
       "      <th>19665</th>\n",
       "      <td>19666.png</td>\n",
       "      <td>windmill</td>\n",
       "      <td>C:\\Users\\asuto\\Desktop\\Work\\sketches_png\\png/w...</td>\n",
       "    </tr>\n",
       "  </tbody>\n",
       "</table>\n",
       "</div>"
      ],
      "text/plain": [
       "        fileName    object                                               path\n",
       "19665  19666.png  windmill  C:\\Users\\asuto\\Desktop\\Work\\sketches_png\\png/w..."
      ]
     },
     "execution_count": 10,
     "metadata": {},
     "output_type": "execute_result"
    }
   ],
   "source": [
    "sample"
   ]
  },
  {
   "cell_type": "code",
   "execution_count": 11,
   "metadata": {
    "colab": {
     "base_uri": "https://localhost:8080/",
     "height": 435
    },
    "id": "BEE0RpEzYPQM",
    "outputId": "e4fbbdf3-90ac-45ca-d948-d21acd0337cb",
    "scrolled": true
   },
   "outputs": [
    {
     "data": {
      "image/png": "[encoded data removed]",
      "text/plain": [
       "<Figure size 640x480 with 1 Axes>"
      ]
     },
     "metadata": {},
     "output_type": "display_data"
    }
   ],
   "source": [
    "obj, op = next(iterGen)\n",
    "plt.imshow(op.reshape(op.shape[::-1]),cmap='gray')\n",
    "plt.show()"
   ]
  },
  {
   "cell_type": "code",
   "execution_count": null,
   "metadata": {},
   "outputs": [],
   "source": []
  },
  {
   "cell_type": "code",
   "execution_count": null,
   "metadata": {},
   "outputs": [],
   "source": [
    "# obj"
   ]
  },
  {
   "cell_type": "code",
   "execution_count": null,
   "metadata": {
    "id": "bXmwECZ-YPTT"
   },
   "outputs": [],
   "source": [
    "%%time\n",
    "print(\"Initial Data Length:\",data.shape[0])\n",
    "trainvalData, testData = train_test_split(data,test_size=0.2,stratify=data['object'])\n",
    "print(f\"TrainVal Split: {trainvalData.shape[0]} ({(trainvalData.shape[0]/data.shape[0])*100:.2g}%), Test Split: {testData.shape[0]} ({(testData.shape[0]/data.shape[0])*100:.2g}%)\")\n",
    "\n",
    "trainData, valData = train_test_split(trainvalData,test_size=0.3,stratify=trainvalData['object'])\n",
    "print(f\"Train Split: {trainData.shape[0]} ({(trainData.shape[0]/data.shape[0])*100:.2g}%), Val Split: {valData.shape[0]} ({(valData.shape[0]/data.shape[0])*100:.2g}%)\")"
   ]
  },
  {
   "cell_type": "code",
   "execution_count": null,
   "metadata": {
    "id": "2efnT7viaik3"
   },
   "outputs": [],
   "source": [
    "%%time\n",
    "batch_size = 32\n",
    "\n",
    "dataLoad_train = DataLoader(trainData,batch_size=batch_size,shuffle=True)\n",
    "dataLoad_val = DataLoader(valData,batch_size=batch_size,shuffle=True)\n",
    "dataLoad_test = DataLoader(testData,batch_size=batch_size,shuffle=True)"
   ]
  },
  {
   "cell_type": "code",
   "execution_count": 15,
   "metadata": {},
   "outputs": [
    {
     "data": {
      "text/plain": [
       "16384"
      ]
     },
     "execution_count": 15,
     "metadata": {},
     "output_type": "execute_result"
    }
   ],
   "source": [
    "256*8*8"
   ]
  },
  {
   "cell_type": "markdown",
   "metadata": {
    "id": "WNeddgjnaior"
   },
   "source": [
    "### Model Creation"
   ]
  },
  {
   "cell_type": "code",
   "execution_count": null,
   "metadata": {},
   "outputs": [],
   "source": [
    "# [(W−K+2P)/S]+1\n",
    "calcDims = lambda w,k,p=0,s=1 : ((w-k+2*p)/s)+1 \n",
    "\n",
    "calcDims(512, 3, 2, 1)\n",
    "calcDims(485, 3, 2, 1)"
   ]
  },
  {
   "cell_type": "code",
   "execution_count": 83,
   "metadata": {},
   "outputs": [],
   "source": [
    "class sketchModel(nn.Module):\n",
    "    def __init__(self, latentDims, numClasses):\n",
    "        super(sketchModel, self).__init__()\n",
    "\n",
    "        self.latentDims = latentDims\n",
    "        self.numClasses = numClasses\n",
    "\n",
    "        self.fc_mu = nn.Linear(1020, latentDims)\n",
    "        self.fc_logvar = nn.Linear(1020, latentDims)\n",
    "        \n",
    "        self.encoder = nn.Sequential(\n",
    "            nn.Conv2d(1, 32, kernel_size=3, stride=2, padding=1),\n",
    "            nn.ReLU(),\n",
    "            nn.Conv2d(32, 64, kernel_size=3, stride=2, padding=1),\n",
    "            nn.ReLU(),\n",
    "            nn.Conv2d(64, 12, kernel_size=3, stride=2, padding=1),\n",
    "            nn.Flatten(),\n",
    "            nn.Linear(12*64*64, 1020)\n",
    "        )\n",
    "\n",
    "        self.decoder = nn.Sequential(\n",
    "            # nn.Linear(latentDims+numClasses, 128),\n",
    "            nn.Linear(latentDims, 128),\n",
    "            nn.ReLU(),\n",
    "            nn.Linear(128, 64*8*8),\n",
    "            nn.ReLU(),\n",
    "            nn.Unflatten(1, (64, 8, 8)),\n",
    "            nn.ConvTranspose2d(64, 32, kernel_size=3, stride=2, padding=1, output_padding=1),\n",
    "            nn.ReLU(),\n",
    "            nn.ConvTranspose2d(32, 1, kernel_size=3, stride=2, padding=1, output_padding=1) \n",
    "        )\n",
    "\n",
    "    def reparametrize(self, mu ,logvar):\n",
    "        std = torch.exp(0.5*logvar)\n",
    "        eps = torch.randn_like(std)\n",
    "        z = mu + eps*std\n",
    "        return z\n",
    "        \n",
    "    def forward(self,x):\n",
    "        xe = self.encoder(x)\n",
    "        mu = self.fc_mu(xe)\n",
    "        logvar = self.fc_logvar(xe)\n",
    "        z = self.reparametrize(mu, logvar)\n",
    "        # print(mu)\n",
    "        print(z)\n",
    "        # xd = torch.cat([z,objClass])\n",
    "\n",
    "        # print(y)\n",
    "\n",
    "        \n",
    "        \n",
    "        xd = self.decoder(z)\n",
    "        \n",
    "        return xd\n",
    "\n",
    "model = sketchModel(latentDims = 4, numClasses = 4)"
   ]
  },
  {
   "cell_type": "code",
   "execution_count": 84,
   "metadata": {},
   "outputs": [
    {
     "data": {
      "text/plain": [
       "torch.Size([1, 512, 512])"
      ]
     },
     "execution_count": 84,
     "metadata": {},
     "output_type": "execute_result"
    }
   ],
   "source": [
    "obj, op = next(iterGen)\n",
    "# plt.imshow(op.reshape(op.shape[::-1]),cmap='gray')\n",
    "# plt.show()\n",
    "op.shape"
   ]
  },
  {
   "cell_type": "code",
   "execution_count": 85,
   "metadata": {},
   "outputs": [
    {
     "ename": "RuntimeError",
     "evalue": "Failed to run torchinfo. See above stack traces for more details. Executed layers up to: [Sequential: 1, Conv2d: 2, ReLU: 2, Conv2d: 2, ReLU: 2, Conv2d: 2, Flatten: 2]",
     "output_type": "error",
     "traceback": [
      "\u001b[1;31m---------------------------------------------------------------------------\u001b[0m",
      "\u001b[1;31mRuntimeError\u001b[0m                              Traceback (most recent call last)",
      "File \u001b[1;32m~\\miniconda3\\envs\\lunar\\Lib\\site-packages\\torchinfo\\torchinfo.py:295\u001b[0m, in \u001b[0;36mforward_pass\u001b[1;34m(model, x, batch_dim, cache_forward_pass, device, mode, **kwargs)\u001b[0m\n\u001b[0;32m    294\u001b[0m \u001b[38;5;28;01mif\u001b[39;00m \u001b[38;5;28misinstance\u001b[39m(x, (\u001b[38;5;28mlist\u001b[39m, \u001b[38;5;28mtuple\u001b[39m)):\n\u001b[1;32m--> 295\u001b[0m     _ \u001b[38;5;241m=\u001b[39m model(\u001b[38;5;241m*\u001b[39mx, \u001b[38;5;241m*\u001b[39m\u001b[38;5;241m*\u001b[39mkwargs)\n\u001b[0;32m    296\u001b[0m \u001b[38;5;28;01melif\u001b[39;00m \u001b[38;5;28misinstance\u001b[39m(x, \u001b[38;5;28mdict\u001b[39m):\n",
      "File \u001b[1;32m~\\miniconda3\\envs\\lunar\\Lib\\site-packages\\torch\\nn\\modules\\module.py:1736\u001b[0m, in \u001b[0;36mModule._wrapped_call_impl\u001b[1;34m(self, *args, **kwargs)\u001b[0m\n\u001b[0;32m   1735\u001b[0m \u001b[38;5;28;01melse\u001b[39;00m:\n\u001b[1;32m-> 1736\u001b[0m     \u001b[38;5;28;01mreturn\u001b[39;00m \u001b[38;5;28mself\u001b[39m\u001b[38;5;241m.\u001b[39m_call_impl(\u001b[38;5;241m*\u001b[39margs, \u001b[38;5;241m*\u001b[39m\u001b[38;5;241m*\u001b[39mkwargs)\n",
      "File \u001b[1;32m~\\miniconda3\\envs\\lunar\\Lib\\site-packages\\torch\\nn\\modules\\module.py:1844\u001b[0m, in \u001b[0;36mModule._call_impl\u001b[1;34m(self, *args, **kwargs)\u001b[0m\n\u001b[0;32m   1843\u001b[0m \u001b[38;5;28;01mtry\u001b[39;00m:\n\u001b[1;32m-> 1844\u001b[0m     \u001b[38;5;28;01mreturn\u001b[39;00m inner()\n\u001b[0;32m   1845\u001b[0m \u001b[38;5;28;01mexcept\u001b[39;00m \u001b[38;5;167;01mException\u001b[39;00m:\n\u001b[0;32m   1846\u001b[0m     \u001b[38;5;66;03m# run always called hooks if they have not already been run\u001b[39;00m\n\u001b[0;32m   1847\u001b[0m     \u001b[38;5;66;03m# For now only forward hooks have the always_call option but perhaps\u001b[39;00m\n\u001b[0;32m   1848\u001b[0m     \u001b[38;5;66;03m# this functionality should be added to full backward hooks as well.\u001b[39;00m\n",
      "File \u001b[1;32m~\\miniconda3\\envs\\lunar\\Lib\\site-packages\\torch\\nn\\modules\\module.py:1790\u001b[0m, in \u001b[0;36mModule._call_impl.<locals>.inner\u001b[1;34m()\u001b[0m\n\u001b[0;32m   1788\u001b[0m     args \u001b[38;5;241m=\u001b[39m bw_hook\u001b[38;5;241m.\u001b[39msetup_input_hook(args)\n\u001b[1;32m-> 1790\u001b[0m result \u001b[38;5;241m=\u001b[39m forward_call(\u001b[38;5;241m*\u001b[39margs, \u001b[38;5;241m*\u001b[39m\u001b[38;5;241m*\u001b[39mkwargs)\n\u001b[0;32m   1791\u001b[0m \u001b[38;5;28;01mif\u001b[39;00m _global_forward_hooks \u001b[38;5;129;01mor\u001b[39;00m \u001b[38;5;28mself\u001b[39m\u001b[38;5;241m.\u001b[39m_forward_hooks:\n",
      "Cell \u001b[1;32mIn[83], line 41\u001b[0m, in \u001b[0;36msketchModel.forward\u001b[1;34m(self, x)\u001b[0m\n\u001b[0;32m     40\u001b[0m xe \u001b[38;5;241m=\u001b[39m \u001b[38;5;28mself\u001b[39m\u001b[38;5;241m.\u001b[39mencoder(x)\n\u001b[1;32m---> 41\u001b[0m mu \u001b[38;5;241m=\u001b[39m \u001b[38;5;28mself\u001b[39m\u001b[38;5;241m.\u001b[39mfc_mu(xe)\n\u001b[0;32m     42\u001b[0m logvar \u001b[38;5;241m=\u001b[39m \u001b[38;5;28mself\u001b[39m\u001b[38;5;241m.\u001b[39mfc_logvar(xe)\n",
      "File \u001b[1;32m~\\miniconda3\\envs\\lunar\\Lib\\site-packages\\torch\\nn\\modules\\module.py:1736\u001b[0m, in \u001b[0;36mModule._wrapped_call_impl\u001b[1;34m(self, *args, **kwargs)\u001b[0m\n\u001b[0;32m   1735\u001b[0m \u001b[38;5;28;01melse\u001b[39;00m:\n\u001b[1;32m-> 1736\u001b[0m     \u001b[38;5;28;01mreturn\u001b[39;00m \u001b[38;5;28mself\u001b[39m\u001b[38;5;241m.\u001b[39m_call_impl(\u001b[38;5;241m*\u001b[39margs, \u001b[38;5;241m*\u001b[39m\u001b[38;5;241m*\u001b[39mkwargs)\n",
      "File \u001b[1;32m~\\miniconda3\\envs\\lunar\\Lib\\site-packages\\torch\\nn\\modules\\module.py:1844\u001b[0m, in \u001b[0;36mModule._call_impl\u001b[1;34m(self, *args, **kwargs)\u001b[0m\n\u001b[0;32m   1843\u001b[0m \u001b[38;5;28;01mtry\u001b[39;00m:\n\u001b[1;32m-> 1844\u001b[0m     \u001b[38;5;28;01mreturn\u001b[39;00m inner()\n\u001b[0;32m   1845\u001b[0m \u001b[38;5;28;01mexcept\u001b[39;00m \u001b[38;5;167;01mException\u001b[39;00m:\n\u001b[0;32m   1846\u001b[0m     \u001b[38;5;66;03m# run always called hooks if they have not already been run\u001b[39;00m\n\u001b[0;32m   1847\u001b[0m     \u001b[38;5;66;03m# For now only forward hooks have the always_call option but perhaps\u001b[39;00m\n\u001b[0;32m   1848\u001b[0m     \u001b[38;5;66;03m# this functionality should be added to full backward hooks as well.\u001b[39;00m\n",
      "File \u001b[1;32m~\\miniconda3\\envs\\lunar\\Lib\\site-packages\\torch\\nn\\modules\\module.py:1790\u001b[0m, in \u001b[0;36mModule._call_impl.<locals>.inner\u001b[1;34m()\u001b[0m\n\u001b[0;32m   1788\u001b[0m     args \u001b[38;5;241m=\u001b[39m bw_hook\u001b[38;5;241m.\u001b[39msetup_input_hook(args)\n\u001b[1;32m-> 1790\u001b[0m result \u001b[38;5;241m=\u001b[39m forward_call(\u001b[38;5;241m*\u001b[39margs, \u001b[38;5;241m*\u001b[39m\u001b[38;5;241m*\u001b[39mkwargs)\n\u001b[0;32m   1791\u001b[0m \u001b[38;5;28;01mif\u001b[39;00m _global_forward_hooks \u001b[38;5;129;01mor\u001b[39;00m \u001b[38;5;28mself\u001b[39m\u001b[38;5;241m.\u001b[39m_forward_hooks:\n",
      "File \u001b[1;32m~\\miniconda3\\envs\\lunar\\Lib\\site-packages\\torch\\nn\\modules\\linear.py:125\u001b[0m, in \u001b[0;36mLinear.forward\u001b[1;34m(self, input)\u001b[0m\n\u001b[0;32m    124\u001b[0m \u001b[38;5;28;01mdef\u001b[39;00m \u001b[38;5;21mforward\u001b[39m(\u001b[38;5;28mself\u001b[39m, \u001b[38;5;28minput\u001b[39m: Tensor) \u001b[38;5;241m-\u001b[39m\u001b[38;5;241m>\u001b[39m Tensor:\n\u001b[1;32m--> 125\u001b[0m     \u001b[38;5;28;01mreturn\u001b[39;00m F\u001b[38;5;241m.\u001b[39mlinear(\u001b[38;5;28minput\u001b[39m, \u001b[38;5;28mself\u001b[39m\u001b[38;5;241m.\u001b[39mweight, \u001b[38;5;28mself\u001b[39m\u001b[38;5;241m.\u001b[39mbias)\n",
      "\u001b[1;31mRuntimeError\u001b[0m: mat1 and mat2 shapes cannot be multiplied (12x4096 and 1020x4)",
      "\nThe above exception was the direct cause of the following exception:\n",
      "\u001b[1;31mRuntimeError\u001b[0m                              Traceback (most recent call last)",
      "Cell \u001b[1;32mIn[85], line 2\u001b[0m\n\u001b[0;32m      1\u001b[0m \u001b[38;5;66;03m# print(summary(model,input_size=(1,1,512,512)))\u001b[39;00m\n\u001b[1;32m----> 2\u001b[0m \u001b[38;5;28mprint\u001b[39m(summary(model,input_data\u001b[38;5;241m=\u001b[39mop))\n",
      "File \u001b[1;32m~\\miniconda3\\envs\\lunar\\Lib\\site-packages\\torchinfo\\torchinfo.py:223\u001b[0m, in \u001b[0;36msummary\u001b[1;34m(model, input_size, input_data, batch_dim, cache_forward_pass, col_names, col_width, depth, device, dtypes, mode, row_settings, verbose, **kwargs)\u001b[0m\n\u001b[0;32m    216\u001b[0m validate_user_params(\n\u001b[0;32m    217\u001b[0m     input_data, input_size, columns, col_width, device, dtypes, verbose\n\u001b[0;32m    218\u001b[0m )\n\u001b[0;32m    220\u001b[0m x, correct_input_size \u001b[38;5;241m=\u001b[39m process_input(\n\u001b[0;32m    221\u001b[0m     input_data, input_size, batch_dim, device, dtypes\n\u001b[0;32m    222\u001b[0m )\n\u001b[1;32m--> 223\u001b[0m summary_list \u001b[38;5;241m=\u001b[39m forward_pass(\n\u001b[0;32m    224\u001b[0m     model, x, batch_dim, cache_forward_pass, device, model_mode, \u001b[38;5;241m*\u001b[39m\u001b[38;5;241m*\u001b[39mkwargs\n\u001b[0;32m    225\u001b[0m )\n\u001b[0;32m    226\u001b[0m formatting \u001b[38;5;241m=\u001b[39m FormattingOptions(depth, verbose, columns, col_width, rows)\n\u001b[0;32m    227\u001b[0m results \u001b[38;5;241m=\u001b[39m ModelStatistics(\n\u001b[0;32m    228\u001b[0m     summary_list, correct_input_size, get_total_memory_used(x), formatting\n\u001b[0;32m    229\u001b[0m )\n",
      "File \u001b[1;32m~\\miniconda3\\envs\\lunar\\Lib\\site-packages\\torchinfo\\torchinfo.py:304\u001b[0m, in \u001b[0;36mforward_pass\u001b[1;34m(model, x, batch_dim, cache_forward_pass, device, mode, **kwargs)\u001b[0m\n\u001b[0;32m    302\u001b[0m \u001b[38;5;28;01mexcept\u001b[39;00m \u001b[38;5;167;01mException\u001b[39;00m \u001b[38;5;28;01mas\u001b[39;00m e:\n\u001b[0;32m    303\u001b[0m     executed_layers \u001b[38;5;241m=\u001b[39m [layer \u001b[38;5;28;01mfor\u001b[39;00m layer \u001b[38;5;129;01min\u001b[39;00m summary_list \u001b[38;5;28;01mif\u001b[39;00m layer\u001b[38;5;241m.\u001b[39mexecuted]\n\u001b[1;32m--> 304\u001b[0m     \u001b[38;5;28;01mraise\u001b[39;00m \u001b[38;5;167;01mRuntimeError\u001b[39;00m(\n\u001b[0;32m    305\u001b[0m         \u001b[38;5;124m\"\u001b[39m\u001b[38;5;124mFailed to run torchinfo. See above stack traces for more details. \u001b[39m\u001b[38;5;124m\"\u001b[39m\n\u001b[0;32m    306\u001b[0m         \u001b[38;5;124mf\u001b[39m\u001b[38;5;124m\"\u001b[39m\u001b[38;5;124mExecuted layers up to: \u001b[39m\u001b[38;5;132;01m{\u001b[39;00mexecuted_layers\u001b[38;5;132;01m}\u001b[39;00m\u001b[38;5;124m\"\u001b[39m\n\u001b[0;32m    307\u001b[0m     ) \u001b[38;5;28;01mfrom\u001b[39;00m \u001b[38;5;21;01me\u001b[39;00m\n\u001b[0;32m    308\u001b[0m \u001b[38;5;28;01mfinally\u001b[39;00m:\n\u001b[0;32m    309\u001b[0m     \u001b[38;5;28;01mif\u001b[39;00m hooks:\n",
      "\u001b[1;31mRuntimeError\u001b[0m: Failed to run torchinfo. See above stack traces for more details. Executed layers up to: [Sequential: 1, Conv2d: 2, ReLU: 2, Conv2d: 2, ReLU: 2, Conv2d: 2, Flatten: 2]"
     ]
    }
   ],
   "source": [
    "# print(summary(model,input_size=(1,1,512,512)))\n",
    "print(summary(model,input_data=op))\n",
    "# print(summary(model))"
   ]
  },
  {
   "cell_type": "code",
   "execution_count": 55,
   "metadata": {},
   "outputs": [
    {
     "data": {
      "text/plain": [
       "4096"
      ]
     },
     "execution_count": 55,
     "metadata": {},
     "output_type": "execute_result"
    }
   ],
   "source": [
    "64*8*8"
   ]
  },
  {
   "cell_type": "markdown",
   "metadata": {},
   "source": [
    "---"
   ]
  },
  {
   "cell_type": "code",
   "execution_count": null,
   "metadata": {
    "id": "GXYts2c9aiss"
   },
   "outputs": [],
   "source": [
    "class Encoder(nn.Module):\n",
    "    def __init__(self, img_channels, latent_dim, num_classes):\n",
    "        super(Encoder, self).__init__()\n",
    "        self.num_classes = num_classes\n",
    "        self.img_channels = img_channels\n",
    "        self.latent_dim = latent_dim\n",
    "        \n",
    "        # Class label embedding layer\n",
    "        self.label_embedding = nn.Embedding(num_classes, num_classes)\n",
    "        \n",
    "        # Convolutional layers\n",
    "        self.conv1 = nn.Conv2d(img_channels + num_classes, 32, kernel_size=3, stride=2, padding=1)\n",
    "        self.conv2 = nn.Conv2d(32, 64, kernel_size=3, stride=2, padding=1)\n",
    "        self.fc1 = nn.Linear(64 * 8 * 8, 128)\n",
    "        \n",
    "        # Latent variables (mean and log-variance)\n",
    "        self.fc_mu = nn.Linear(128, latent_dim)\n",
    "        self.fc_logvar = nn.Linear(128, latent_dim)\n",
    "\n",
    "    def forward(self, x, c):\n",
    "        # Embedding the class label\n",
    "        c = self.label_embedding(c)\n",
    "        c = c.view(c.size(0), c.size(1), 1, 1)  # Reshape to (batch, channels, 1, 1)\n",
    "        c = c.expand(-1, -1, x.size(2), x.size(3))  # Match the spatial dimensions of the image\n",
    "        \n",
    "        # Concatenate image and class label\n",
    "        x = torch.cat([x, c], dim=1)\n",
    "        \n",
    "        # Pass through the convolutional layers\n",
    "        x = torch.relu(self.conv1(x))\n",
    "        x = torch.relu(self.conv2(x))\n",
    "        x = x.view(x.size(0), -1)  # Flatten\n",
    "        \n",
    "        x = torch.relu(self.fc1(x))\n",
    "        \n",
    "        # Output the mean and log-variance for the latent distribution\n",
    "        mu = self.fc_mu(x)\n",
    "        logvar = self.fc_logvar(x)\n",
    "        \n",
    "        return mu, logvar\n"
   ]
  },
  {
   "cell_type": "code",
   "execution_count": null,
   "metadata": {
    "id": "GPITmW7Wqif7"
   },
   "outputs": [],
   "source": [
    "class Decoder(nn.Module):\n",
    "    def __init__(self, img_channels, latent_dim, num_classes):\n",
    "        super(Decoder, self).__init__()\n",
    "        self.num_classes = num_classes\n",
    "        self.latent_dim = latent_dim\n",
    "        self.img_channels = img_channels\n",
    "        \n",
    "        # Class label embedding\n",
    "        self.label_embedding = nn.Embedding(num_classes, num_classes)\n",
    "        \n",
    "        # Fully connected layers\n",
    "        self.fc1 = nn.Linear(latent_dim + num_classes, 128)\n",
    "        self.fc2 = nn.Linear(128, 64 * 8 * 8)\n",
    "        \n",
    "        # Convolutional layers for image reconstruction\n",
    "        self.conv1 = nn.ConvTranspose2d(64, 32, kernel_size=3, stride=2, padding=1, output_padding=1)\n",
    "        self.conv2 = nn.ConvTranspose2d(32, img_channels, kernel_size=3, stride=2, padding=1, output_padding=1)\n",
    "\n",
    "    def forward(self, z, c):\n",
    "        # Embedding the class label\n",
    "        c = self.label_embedding(c)\n",
    "        \n",
    "        # Concatenate latent vector and class label\n",
    "        x = torch.cat([z, c], dim=1)\n",
    "        \n",
    "        x = torch.relu(self.fc1(x))\n",
    "        x = torch.relu(self.fc2(x))\n",
    "        \n",
    "        x = x.view(x.size(0), 64, 8, 8)  # Reshape for convolution\n",
    "        \n",
    "        # Upsample to original image size\n",
    "        x = torch.relu(self.conv1(x))\n",
    "        img = torch.sigmoid(self.conv2(x))  # Final image reconstruction\n",
    "        return img\n"
   ]
  },
  {
   "cell_type": "code",
   "execution_count": null,
   "metadata": {
    "id": "5MZvSYzwqiii"
   },
   "outputs": [],
   "source": [
    "class CVAE(nn.Module):\n",
    "    def __init__(self, img_channels, latent_dim, num_classes):\n",
    "        super(CVAE, self).__init__()\n",
    "        self.encoder = Encoder(img_channels, latent_dim, num_classes)\n",
    "        self.decoder = Decoder(img_channels, latent_dim, num_classes)\n",
    "\n",
    "    def reparameterize(self, mu, logvar):\n",
    "        std = torch.exp(0.5*logvar)\n",
    "        eps = torch.randn_like(std)\n",
    "        z = mu + eps*std\n",
    "        return z\n",
    "\n",
    "    def forward(self, x, c):\n",
    "        # Encode\n",
    "        mu, logvar = self.encoder(x, c)\n",
    "        \n",
    "        # Reparameterize to sample z\n",
    "        z = self.reparameterize(mu, logvar)\n",
    "        \n",
    "        # Decode\n",
    "        recon_x = self.decoder(z, c)\n",
    "        \n",
    "        return recon_x, mu, logvar\n"
   ]
  },
  {
   "cell_type": "code",
   "execution_count": null,
   "metadata": {},
   "outputs": [],
   "source": [
    "def vae_loss(recon_x, x, mu, logvar):\n",
    "    # Reconstruction loss (binary cross entropy)\n",
    "    BCE = nn.functional.binary_cross_entropy(recon_x.view(-1, 32*32*3), x.view(-1, 32*32*3), reduction='sum')\n",
    "    \n",
    "    # KL divergence loss\n",
    "    # KL divergence between q(z|x) and p(z), where p(z) is a standard normal\n",
    "    # D_KL(q(z|x) || p(z)) = -0.5 * sum(1 + log(sigma^2) - mu^2 - sigma^2)\n",
    "    # where q(z|x) is the latent variable distribution (Gaussian)\n",
    "    # and p(z) is the standard normal distribution N(0, I)\n",
    "    # In this case we just calculate the element-wise sum\n",
    "    KL_div = -0.5 * torch.sum(1 + logvar - mu.pow(2) - logvar.exp())\n",
    "    \n",
    "    # Final loss\n",
    "    return BCE + KL_div\n"
   ]
  },
  {
   "cell_type": "code",
   "execution_count": null,
   "metadata": {},
   "outputs": [],
   "source": [
    "# Hyperparameters\n",
    "latent_dim = 128\n",
    "num_classes = 10  # CIFAR-10 has 10 classes\n",
    "img_channels = 3  # RGB images\n",
    "batch_size = 64\n",
    "learning_rate = 1e-3\n",
    "epochs = 10\n",
    "\n",
    "# Create the model, optimizer, and loss function\n",
    "model = CVAE(img_channels, latent_dim, num_classes)\n",
    "optimizer = optim.Adam(model.parameters(), lr=learning_rate)\n",
    "\n",
    "# Data loader (for CIFAR-10)\n",
    "transform = transforms.Compose([transforms.ToTensor(), transforms.Normalize((0.5, 0.5, 0.5), (0.5, 0.5, 0.5))])\n",
    "trainset = datasets.CIFAR10(root='./data', train=True, download=True, transform=transform)\n",
    "trainloader = DataLoader(trainset, batch_size=batch_size, shuffle=True)\n",
    "\n",
    "# Training loop\n",
    "for epoch in range(epochs):\n",
    "    model.train()\n",
    "    running_loss = 0.0\n",
    "    \n",
    "    for i, (inputs, labels) in enumerate(trainloader):\n",
    "        optimizer.zero_grad()\n",
    "        \n",
    "        # Forward pass\n",
    "        recon_batch, mu, logvar = model(inputs, labels)\n",
    "        \n",
    "        # Compute loss\n",
    "        loss = vae_loss(recon_batch, inputs, mu, logvar)\n",
    "        \n",
    "        # Backpropagation and optimization\n",
    "        loss.backward()\n",
    "        optimizer.step()\n",
    "        \n",
    "        running_loss += loss.item()\n",
    "        \n",
    "        if i % 100 == 0:\n",
    "            print(f\"Epoch [{epoch+1}/{epochs}], Step [{i}/{len(trainloader)}], Loss: {loss.item():.4f}\")\n",
    "\n",
    "    print(f\"Epoch [{epoch+1}/{epochs}], Average Loss: {running_loss / len(trainloader):.4f}\")\n",
    "\n",
    "# Save the trained model\n",
    "torch.save(model.state_dict(), 'cvae_model.pth')\n"
   ]
  },
  {
   "cell_type": "code",
   "execution_count": null,
   "metadata": {},
   "outputs": [],
   "source": [
    "def generate_image(model, class_label, latent_dim=128):\n",
    "    model.eval()\n",
    "    \n",
    "    # Sample a random latent vector z\n",
    "    z = torch.randn(1, latent_dim).to(device)\n",
    "    \n",
    "    # Generate an image conditioned on the class label\n",
    "    class_label = torch.tensor([class_label]).to(device)\n",
    "    generated_img = model.decoder(z, class_label)\n",
    "    \n",
    "    return generated_img.squeeze().cpu().detach().numpy()\n",
    "\n",
    "# Example: Generate an image for class \"cat\" (class index 3)\n",
    "generated_image = generate_image(model, class_label=3)\n",
    "plt.imshow(generated_image.transpose(1, 2, 0))\n",
    "plt.show()\n"
   ]
  }
 ],
 "metadata": {
  "colab": {
   "authorship_tag": "ABX9TyPW8QAS/NEaxnZfLXIrwZNB",
   "include_colab_link": true,
   "provenance": []
  },
  "kernelspec": {
   "display_name": "Python 3 (ipykernel)",
   "language": "python",
   "name": "python3"
  },
  "language_info": {
   "codemirror_mode": {
    "name": "ipython",
    "version": 3
   },
   "file_extension": ".py",
   "mimetype": "text/x-python",
   "name": "python",
   "nbconvert_exporter": "python",
   "pygments_lexer": "ipython3",
   "version": "3.11.10"
  }
 },
 "nbformat": 4,
 "nbformat_minor": 4
}
