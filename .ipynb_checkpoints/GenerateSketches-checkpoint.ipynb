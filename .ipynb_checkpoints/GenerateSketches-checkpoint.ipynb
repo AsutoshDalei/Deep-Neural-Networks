{
 "cells": [
  {
   "cell_type": "markdown",
   "metadata": {
    "colab_type": "text",
    "id": "view-in-github"
   },
   "source": [
    "<a href=\"https://colab.research.google.com/github/AsutoshDalei/Deep-Neural-Networks/blob/master/GenerateSketches.ipynb\" target=\"_parent\"><img src=\"https://colab.research.google.com/assets/colab-badge.svg\" alt=\"Open In Colab\"/></a>"
   ]
  },
  {
   "cell_type": "code",
   "execution_count": 1,
   "metadata": {
    "id": "guFvUuoFSrGT"
   },
   "outputs": [],
   "source": [
    "# !pip3 install torchinfo --quiet"
   ]
  },
  {
   "cell_type": "markdown",
   "metadata": {
    "id": "8js_OIIAqKxx"
   },
   "source": [
    "# Generate Sketches\n",
    "\n",
    "Humans have used sketching to depict our visual world since prehistoric times. Even today, sketching is possibly the only rendering technique readily available to all humans. This paper is the first large scale exploration of human sketches. We analyze the distribution of non-expert sketches of everyday objects such as 'teapot' or 'car'. We ask humans to sketch objects of a given category and gather 20,000 unique sketches evenly distributed over 250 object categories.\n",
    "\n",
    "https://cybertron.cg.tu-berlin.de/eitz/projects/classifysketch/"
   ]
  },
  {
   "cell_type": "code",
   "execution_count": 2,
   "metadata": {
    "id": "wkEh-AHwrsvf"
   },
   "outputs": [],
   "source": [
    "import os\n",
    "import time\n",
    "\n",
    "import pandas as pd\n",
    "import numpy as np\n",
    "import matplotlib.pyplot as plt\n",
    "%matplotlib inline\n",
    "import seaborn as sns\n",
    "from sklearn.model_selection import train_test_split\n",
    "\n",
    "import torch\n",
    "import torch.nn as nn\n",
    "from torch.utils.data import Dataset, DataLoader\n",
    "from torchinfo import summary\n",
    "from torchvision.transforms import v2\n",
    "import torchvision.transforms.functional as F\n",
    "from torchvision.io import read_image\n",
    "import torch.optim as optim"
   ]
  },
  {
   "cell_type": "code",
   "execution_count": 3,
   "metadata": {},
   "outputs": [
    {
     "name": "stdout",
     "output_type": "stream",
     "text": [
      " ==================================================================================================== \n",
      "Time Now: 2025.02.08 02:07 PM \n",
      " ====================================================================================================\n"
     ]
    }
   ],
   "source": [
    "telltimefnx = lambda :print('','='*100,f\"\\nTime Now: {pd.Timestamp.now().strftime('%Y.%m.%d %I:%M %p')}\",'\\n','='*100)\n",
    "telltimefnx()"
   ]
  },
  {
   "cell_type": "markdown",
   "metadata": {
    "id": "7vJbrE_xreGy"
   },
   "source": [
    "## Data Collection\n",
    "Fetcing and unzipping"
   ]
  },
  {
   "cell_type": "code",
   "execution_count": 4,
   "metadata": {
    "id": "6Ixm2K-MqfpY"
   },
   "outputs": [],
   "source": [
    "# !wget https://cybertron.cg.tu-berlin.de/eitz/projects/classifysketch/sketches_png.zip\n",
    "# !unzip /content/sketches_png.zip"
   ]
  },
  {
   "cell_type": "code",
   "execution_count": 5,
   "metadata": {
    "colab": {
     "base_uri": "https://localhost:8080/"
    },
    "id": "wmvOm1nHqibi",
    "outputId": "ee3ed425-b5d6-49eb-a648-1d292d46a783"
   },
   "outputs": [
    {
     "name": "stdout",
     "output_type": "stream",
     "text": [
      "filelist.txt is a file\n",
      "Number of objects sketched: 250\n",
      "Average number of images per object: 80.0\n"
     ]
    }
   ],
   "source": [
    "dataPath = \"/content/png\"\n",
    "dataPath = r\"C:\\Users\\asuto\\Desktop\\Work\\sketches_png\\png\"\n",
    "\n",
    "numImgs,sktName = [],[]\n",
    "\n",
    "hmap = {\"fileName\":[],'object':[]}\n",
    "\n",
    "for ele in os.listdir(dataPath):\n",
    "  if os.path.isdir(f\"{dataPath}/{ele}\"):\n",
    "    # print(f\"{ele} is a dir\")\n",
    "    numClassImg = len(os.listdir(f\"{dataPath}/{ele}\"))\n",
    "    numImgs.append(numClassImg)\n",
    "    sktName.append(ele)\n",
    "\n",
    "    hmap['fileName'].extend(os.listdir(f\"{dataPath}/{ele}\"))\n",
    "    hmap['object'].extend([ele]*len(os.listdir(f\"{dataPath}/{ele}\")))\n",
    "    # hmap['path'].extend()\n",
    "\n",
    "  else:\n",
    "    print(f\"{ele} is a file\")\n",
    "\n",
    "print(f\"Number of objects sketched: {len(numImgs)}\")\n",
    "\n",
    "print(f\"Average number of images per object: {sum(numImgs)/len(numImgs)}\")"
   ]
  },
  {
   "cell_type": "code",
   "execution_count": 6,
   "metadata": {
    "colab": {
     "base_uri": "https://localhost:8080/",
     "height": 242
    },
    "id": "xAGeyO8XMqUp",
    "outputId": "401251e4-e4a7-4b2b-a6f1-ce1a12e0cabd"
   },
   "outputs": [
    {
     "name": "stdout",
     "output_type": "stream",
     "text": [
      "CPU times: total: 188 ms\n",
      "Wall time: 187 ms\n"
     ]
    },
    {
     "data": {
      "text/html": [
       "<div>\n",
       "<style scoped>\n",
       "    .dataframe tbody tr th:only-of-type {\n",
       "        vertical-align: middle;\n",
       "    }\n",
       "\n",
       "    .dataframe tbody tr th {\n",
       "        vertical-align: top;\n",
       "    }\n",
       "\n",
       "    .dataframe thead th {\n",
       "        text-align: right;\n",
       "    }\n",
       "</style>\n",
       "<table border=\"1\" class=\"dataframe\">\n",
       "  <thead>\n",
       "    <tr style=\"text-align: right;\">\n",
       "      <th></th>\n",
       "      <th>fileName</th>\n",
       "      <th>object</th>\n",
       "      <th>path</th>\n",
       "    </tr>\n",
       "  </thead>\n",
       "  <tbody>\n",
       "    <tr>\n",
       "      <th>0</th>\n",
       "      <td>1.png</td>\n",
       "      <td>airplane</td>\n",
       "      <td>C:\\Users\\asuto\\Desktop\\Work\\sketches_png\\png/a...</td>\n",
       "    </tr>\n",
       "    <tr>\n",
       "      <th>1</th>\n",
       "      <td>10.png</td>\n",
       "      <td>airplane</td>\n",
       "      <td>C:\\Users\\asuto\\Desktop\\Work\\sketches_png\\png/a...</td>\n",
       "    </tr>\n",
       "    <tr>\n",
       "      <th>2</th>\n",
       "      <td>11.png</td>\n",
       "      <td>airplane</td>\n",
       "      <td>C:\\Users\\asuto\\Desktop\\Work\\sketches_png\\png/a...</td>\n",
       "    </tr>\n",
       "    <tr>\n",
       "      <th>3</th>\n",
       "      <td>12.png</td>\n",
       "      <td>airplane</td>\n",
       "      <td>C:\\Users\\asuto\\Desktop\\Work\\sketches_png\\png/a...</td>\n",
       "    </tr>\n",
       "    <tr>\n",
       "      <th>4</th>\n",
       "      <td>13.png</td>\n",
       "      <td>airplane</td>\n",
       "      <td>C:\\Users\\asuto\\Desktop\\Work\\sketches_png\\png/a...</td>\n",
       "    </tr>\n",
       "  </tbody>\n",
       "</table>\n",
       "</div>"
      ],
      "text/plain": [
       "  fileName    object                                               path\n",
       "0    1.png  airplane  C:\\Users\\asuto\\Desktop\\Work\\sketches_png\\png/a...\n",
       "1   10.png  airplane  C:\\Users\\asuto\\Desktop\\Work\\sketches_png\\png/a...\n",
       "2   11.png  airplane  C:\\Users\\asuto\\Desktop\\Work\\sketches_png\\png/a...\n",
       "3   12.png  airplane  C:\\Users\\asuto\\Desktop\\Work\\sketches_png\\png/a...\n",
       "4   13.png  airplane  C:\\Users\\asuto\\Desktop\\Work\\sketches_png\\png/a..."
      ]
     },
     "execution_count": 6,
     "metadata": {},
     "output_type": "execute_result"
    }
   ],
   "source": [
    "%%time\n",
    "data = pd.DataFrame(hmap)\n",
    "data = data.assign(path = data.apply(lambda row: f\"{dataPath}/{row['object']}/{row['fileName']}\",axis=1))\n",
    "data.head()"
   ]
  },
  {
   "cell_type": "markdown",
   "metadata": {
    "id": "hDICMdMIwVQj"
   },
   "source": [
    "---\n",
    "### Viewing Sketches"
   ]
  },
  {
   "cell_type": "code",
   "execution_count": 7,
   "metadata": {
    "colab": {
     "base_uri": "https://localhost:8080/",
     "height": 548
    },
    "id": "3HPVRICzqidl",
    "outputId": "31314165-0732-4e3a-dfe1-5a3b9d1c5e0f"
   },
   "outputs": [
    {
     "data": {
      "image/png": "[encoded data removed]",
      "text/plain": [
       "<Figure size 600x700 with 1 Axes>"
      ]
     },
     "metadata": {},
     "output_type": "display_data"
    }
   ],
   "source": [
    "sample = data.sample(1)\n",
    "\n",
    "def showSketch_init(sample):\n",
    "  plt.figure(figsize=(6,7),dpi=100)\n",
    "  img = plt.imread(sample['path'].item())\n",
    "  imgplot = plt.imshow(img, cmap=\"gray\")\n",
    "  plt.title(f\"Sample of {sample['object'].item()}\")\n",
    "  plt.show()\n",
    "\n",
    "showSketch_init(sample)"
   ]
  },
  {
   "cell_type": "code",
   "execution_count": 8,
   "metadata": {
    "colab": {
     "base_uri": "https://localhost:8080/"
    },
    "id": "rcfZfWWXtP8Z",
    "outputId": "00d347f6-7dbe-4118-f2dd-31e57a1221d7"
   },
   "outputs": [
    {
     "name": "stdout",
     "output_type": "stream",
     "text": [
      "(1111, 1111)\n"
     ]
    },
    {
     "data": {
      "text/plain": [
       "array([[1., 1., 1., ..., 1., 1., 1.],\n",
       "       [1., 1., 1., ..., 1., 1., 1.],\n",
       "       [1., 1., 1., ..., 1., 1., 1.],\n",
       "       ...,\n",
       "       [1., 1., 1., ..., 1., 1., 1.],\n",
       "       [1., 1., 1., ..., 1., 1., 1.],\n",
       "       [1., 1., 1., ..., 1., 1., 1.]], dtype=float32)"
      ]
     },
     "execution_count": 8,
     "metadata": {},
     "output_type": "execute_result"
    }
   ],
   "source": [
    "img = plt.imread(sample['path'].item())\n",
    "print(img.shape)\n",
    "img"
   ]
  },
  {
   "cell_type": "markdown",
   "metadata": {
    "id": "AMoEXStaQ4zK"
   },
   "source": [
    "## Model Plan\n",
    "* The idea is to take in one of the objects as an input and generate a sketch which corresponds to the object. Since we have 250 object classes, our input to the model would be an array of size 250. Each object would be represented by a combination of the input array.\n",
    "\n",
    "* The output of the model would be the image. In this case, an array of (1111,1111)."
   ]
  },
  {
   "cell_type": "markdown",
   "metadata": {
    "id": "lF8-nCdSSEKS"
   },
   "source": [
    "### PyTorch Dataset & Transformers"
   ]
  },
  {
   "cell_type": "code",
   "execution_count": 9,
   "metadata": {},
   "outputs": [],
   "source": [
    "resizeDims = 256\n",
    "transformFnx = v2.Compose([v2.ToImage(),\n",
    "                           v2.Resize((resizeDims,resizeDims)),\n",
    "                           v2.RandomHorizontalFlip(0.5),\n",
    "                           v2.ToDtype(torch.float32, scale=True)])"
   ]
  },
  {
   "cell_type": "code",
   "execution_count": 10,
   "metadata": {
    "id": "lKja3FMutP-9"
   },
   "outputs": [],
   "source": [
    "class datasetGen(Dataset):\n",
    "  def __init__(self,data,transforms=None):\n",
    "    self.data = data\n",
    "    self.transforms = transforms\n",
    "\n",
    "    nunq = data.object.nunique()\n",
    "    self.inpMap, ptr = {}, 0\n",
    "    for obj in sorted(data.object.unique()):\n",
    "      self.inpMap[obj] = [0]*nunq\n",
    "      self.inpMap[obj][ptr] = 1\n",
    "      ptr+=1\n",
    "\n",
    "  def __len__(self):\n",
    "    return len(self.data)\n",
    "\n",
    "  def __getitem__(self, idx):\n",
    "    row = self.data.iloc[idx]\n",
    "    obj = self.inpMap[row['object']]\n",
    "    sketch = read_image(row['path'])\n",
    "\n",
    "    if self.transforms:\n",
    "      sketch = self.transforms(sketch)\n",
    "\n",
    "    return sketch, torch.tensor(obj)\n",
    "        \n",
    "    # return {'object': obj, 'sketch': sketch}\n",
    "      \n",
    "gen = datasetGen(data=data, transforms=transformFnx)\n",
    "iterGen = iter(gen)"
   ]
  },
  {
   "cell_type": "code",
   "execution_count": 11,
   "metadata": {
    "colab": {
     "base_uri": "https://localhost:8080/",
     "height": 89
    },
    "id": "sZ5aM73ptQB1",
    "outputId": "39a3616f-cf0c-409b-93ed-acf4ef58f173"
   },
   "outputs": [
    {
     "data": {
      "text/html": [
       "<div>\n",
       "<style scoped>\n",
       "    .dataframe tbody tr th:only-of-type {\n",
       "        vertical-align: middle;\n",
       "    }\n",
       "\n",
       "    .dataframe tbody tr th {\n",
       "        vertical-align: top;\n",
       "    }\n",
       "\n",
       "    .dataframe thead th {\n",
       "        text-align: right;\n",
       "    }\n",
       "</style>\n",
       "<table border=\"1\" class=\"dataframe\">\n",
       "  <thead>\n",
       "    <tr style=\"text-align: right;\">\n",
       "      <th></th>\n",
       "      <th>fileName</th>\n",
       "      <th>object</th>\n",
       "      <th>path</th>\n",
       "    </tr>\n",
       "  </thead>\n",
       "  <tbody>\n",
       "    <tr>\n",
       "      <th>3725</th>\n",
       "      <td>3726.png</td>\n",
       "      <td>carrot</td>\n",
       "      <td>C:\\Users\\asuto\\Desktop\\Work\\sketches_png\\png/c...</td>\n",
       "    </tr>\n",
       "  </tbody>\n",
       "</table>\n",
       "</div>"
      ],
      "text/plain": [
       "      fileName  object                                               path\n",
       "3725  3726.png  carrot  C:\\Users\\asuto\\Desktop\\Work\\sketches_png\\png/c..."
      ]
     },
     "execution_count": 11,
     "metadata": {},
     "output_type": "execute_result"
    }
   ],
   "source": [
    "sample"
   ]
  },
  {
   "cell_type": "code",
   "execution_count": 12,
   "metadata": {
    "colab": {
     "base_uri": "https://localhost:8080/",
     "height": 435
    },
    "id": "BEE0RpEzYPQM",
    "outputId": "e4fbbdf3-90ac-45ca-d948-d21acd0337cb"
   },
   "outputs": [
    {
     "data": {
      "image/png": "[encoded data removed]",
      "text/plain": [
       "<Figure size 640x480 with 1 Axes>"
      ]
     },
     "metadata": {},
     "output_type": "display_data"
    }
   ],
   "source": [
    "# obj, op = next(iterGen).values()\n",
    "op, obj = next(iterGen)\n",
    "plt.imshow(op.reshape(op.shape[::-1]),cmap='gray')\n",
    "plt.show()"
   ]
  },
  {
   "cell_type": "code",
   "execution_count": 13,
   "metadata": {
    "id": "bXmwECZ-YPTT"
   },
   "outputs": [
    {
     "name": "stdout",
     "output_type": "stream",
     "text": [
      "Initial Data Length: 20000\n",
      "TrainVal Split: 16000 (80%), Test Split: 4000 (20%)\n",
      "Train Split: 11200 (56%), Val Split: 4800 (24%)\n",
      "CPU times: total: 203 ms\n",
      "Wall time: 45.8 ms\n"
     ]
    }
   ],
   "source": [
    "%%time\n",
    "print(\"Initial Data Length:\",data.shape[0])\n",
    "trainvalData, testData = train_test_split(data,test_size=0.2,stratify=data['object'])\n",
    "print(f\"TrainVal Split: {trainvalData.shape[0]} ({(trainvalData.shape[0]/data.shape[0])*100:.2g}%), Test Split: {testData.shape[0]} ({(testData.shape[0]/data.shape[0])*100:.2g}%)\")\n",
    "\n",
    "trainData, valData = train_test_split(trainvalData,test_size=0.3,stratify=trainvalData['object'])\n",
    "print(f\"Train Split: {trainData.shape[0]} ({(trainData.shape[0]/data.shape[0])*100:.2g}%), Val Split: {valData.shape[0]} ({(valData.shape[0]/data.shape[0])*100:.2g}%)\")"
   ]
  },
  {
   "cell_type": "code",
   "execution_count": 14,
   "metadata": {},
   "outputs": [
    {
     "name": "stdout",
     "output_type": "stream",
     "text": [
      "CPU times: total: 15.6 ms\n",
      "Wall time: 6.02 ms\n"
     ]
    }
   ],
   "source": [
    "%%time\n",
    "trainDataGen = datasetGen(data=trainData, transforms=transformFnx)\n",
    "valDataGen = datasetGen(data=valData, transforms=transformFnx)\n",
    "testDataGen = datasetGen(data=testData, transforms=transformFnx)"
   ]
  },
  {
   "cell_type": "code",
   "execution_count": 15,
   "metadata": {
    "id": "2efnT7viaik3"
   },
   "outputs": [
    {
     "name": "stdout",
     "output_type": "stream",
     "text": [
      "CPU times: total: 0 ns\n",
      "Wall time: 0 ns\n"
     ]
    }
   ],
   "source": [
    "%%time\n",
    "batch_size = 16\n",
    "\n",
    "dataLoad_train = DataLoader(trainDataGen,batch_size=batch_size,shuffle=True)\n",
    "dataLoad_val = DataLoader(valDataGen,batch_size=batch_size,shuffle=True)\n",
    "dataLoad_test = DataLoader(testDataGen,batch_size=batch_size,shuffle=True)"
   ]
  },
  {
   "cell_type": "code",
   "execution_count": null,
   "metadata": {},
   "outputs": [],
   "source": []
  },
  {
   "cell_type": "markdown",
   "metadata": {
    "id": "WNeddgjnaior"
   },
   "source": [
    "### Model Creation"
   ]
  },
  {
   "cell_type": "code",
   "execution_count": 16,
   "metadata": {},
   "outputs": [
    {
     "name": "stdout",
     "output_type": "stream",
     "text": [
      "Device in use: cuda\n"
     ]
    }
   ],
   "source": [
    "DEVICE = torch.device('cuda' if torch.cuda.is_available() else 'cpu')\n",
    "print(\"Device in use:\", DEVICE)"
   ]
  },
  {
   "cell_type": "code",
   "execution_count": 17,
   "metadata": {},
   "outputs": [
    {
     "data": {
      "text/plain": [
       "487.0"
      ]
     },
     "execution_count": 17,
     "metadata": {},
     "output_type": "execute_result"
    }
   ],
   "source": [
    "# [(W−K+2P)/S]+1\n",
    "calcDims = lambda w,k,p=0,s=1 : ((w-k+2*p)/s)+1 \n",
    "\n",
    "calcDims(512, 3, 2, 1)\n",
    "calcDims(485, 3, 2, 1)"
   ]
  },
  {
   "cell_type": "code",
   "execution_count": 27,
   "metadata": {},
   "outputs": [],
   "source": [
    "class sketchModel(nn.Module):\n",
    "    def __init__(self, latentDims, numClasses):\n",
    "        super(sketchModel, self).__init__()\n",
    "\n",
    "        self.latentDims = latentDims\n",
    "        self.numClasses = numClasses\n",
    "\n",
    "        self.fc_mu = nn.Linear(1020, latentDims)\n",
    "        self.fc_logvar = nn.Linear(1020, latentDims)\n",
    "        \n",
    "        self.encoder = nn.Sequential(\n",
    "            nn.Conv2d(1, 32, kernel_size=3, stride=2, padding=1),\n",
    "            nn.ReLU(),\n",
    "            nn.Conv2d(32, 64, kernel_size=3, stride=2, padding=1),\n",
    "            nn.ReLU(),\n",
    "            nn.Conv2d(64, 12, kernel_size=3, stride=2, padding=1),\n",
    "            nn.Flatten(),\n",
    "            nn.Linear(12*32*32, 1020)\n",
    "        )\n",
    "\n",
    "        self.decoder = nn.Sequential(\n",
    "            nn.Linear(latentDims+numClasses, 128),\n",
    "            nn.ReLU(),\n",
    "            nn.Linear(128, 64*8*8),\n",
    "            nn.ReLU(),\n",
    "            nn.Unflatten(1, (64, 8, 8)),\n",
    "            nn.ConvTranspose2d(64, 82, kernel_size=3, stride=2, padding=1, output_padding=1),\n",
    "            nn.ReLU(),\n",
    "            nn.ConvTranspose2d(82, 128, kernel_size=3, stride=2, padding=1),\n",
    "            nn.ReLU(),\n",
    "            nn.ConvTranspose2d(128, 256, kernel_size=3, stride=2, padding=1, output_padding=1),\n",
    "            nn.ReLU(),\n",
    "            nn.ConvTranspose2d(256, 316, kernel_size=3, stride=2, padding=1, output_padding=1),\n",
    "            nn.ReLU(),\n",
    "            nn.ConvTranspose2d(316, 1, kernel_size=3, stride=2, padding=1, output_padding=1),\n",
    "            nn.Sigmoid()\n",
    "        )\n",
    "\n",
    "    def reparametrize(self, mu ,logvar):\n",
    "        std = torch.exp(0.5*logvar)\n",
    "        eps = torch.randn_like(std)\n",
    "        z = mu + eps*std\n",
    "        return z\n",
    "        \n",
    "    def forward(self,*inp):\n",
    "        x, y = inp\n",
    "        xe = self.encoder(x)\n",
    "        mu = self.fc_mu(xe) \n",
    "        logvar = self.fc_logvar(xe)\n",
    "        z = self.reparametrize(mu, logvar)\n",
    "        xd = torch.cat([z,y], dim=1)\n",
    "        xd = self.decoder(xd)\n",
    "    \n",
    "        return xd, mu, logvar\n",
    "\n",
    "latent_dim = 128\n",
    "num_classes = 250\n",
    "learning_rate = 1e-3\n",
    "\n",
    "\n",
    "model = sketchModel(latentDims = latent_dim, numClasses = num_classes)\n",
    "model.to('cpu')\n",
    "\n",
    "optimizer = optim.Adam(model.parameters(), lr=learning_rate)"
   ]
  },
  {
   "cell_type": "code",
   "execution_count": 28,
   "metadata": {},
   "outputs": [
    {
     "data": {
      "text/plain": [
       "128"
      ]
     },
     "execution_count": 28,
     "metadata": {},
     "output_type": "execute_result"
    }
   ],
   "source": [
    "calcDims = lambda w,k,s=1,p=0 : int(((w-k+2*p)/s)+1 )\n",
    "\n",
    "calcDims(256, 3, 2, 1)\n",
    "# calcDims(48, 3, 2, 1)"
   ]
  },
  {
   "cell_type": "code",
   "execution_count": 29,
   "metadata": {},
   "outputs": [
    {
     "data": {
      "text/plain": [
       "248"
      ]
     },
     "execution_count": 29,
     "metadata": {},
     "output_type": "execute_result"
    }
   ],
   "source": [
    "# (I−1)×stride−2×padding+kernel size+output padding\n",
    "\n",
    "calcDimsTranspose = lambda w,k,p,op,s : (w-1)*s-2*p+k+op\n",
    "calcDimsTranspose(124, 3, 1, 1, 2)"
   ]
  },
  {
   "cell_type": "code",
   "execution_count": 30,
   "metadata": {},
   "outputs": [
    {
     "data": {
      "text/plain": [
       "255.0"
      ]
     },
     "execution_count": 30,
     "metadata": {},
     "output_type": "execute_result"
    }
   ],
   "source": [
    "k,p,op,s = 3, 1, 1, 2\n",
    "(512-op-k+2*p)/s\n",
    "\n",
    "# 509-op-k+2*p/s"
   ]
  },
  {
   "cell_type": "code",
   "execution_count": 31,
   "metadata": {},
   "outputs": [
    {
     "name": "stdout",
     "output_type": "stream",
     "text": [
      "==========================================================================================\n",
      "Layer (type:depth-idx)                   Output Shape              Param #\n",
      "==========================================================================================\n",
      "sketchModel                              [16, 1, 248, 248]         --\n",
      "├─Sequential: 1-1                        [16, 1020]                --\n",
      "│    └─Conv2d: 2-1                       [16, 32, 128, 128]        320\n",
      "│    └─ReLU: 2-2                         [16, 32, 128, 128]        --\n",
      "│    └─Conv2d: 2-3                       [16, 64, 64, 64]          18,496\n",
      "│    └─ReLU: 2-4                         [16, 64, 64, 64]          --\n",
      "│    └─Conv2d: 2-5                       [16, 12, 32, 32]          6,924\n",
      "│    └─Flatten: 2-6                      [16, 12288]               --\n",
      "│    └─Linear: 2-7                       [16, 1020]                12,534,780\n",
      "├─Linear: 1-2                            [16, 128]                 130,688\n",
      "├─Linear: 1-3                            [16, 128]                 130,688\n",
      "├─Sequential: 1-4                        [16, 1, 248, 248]         --\n",
      "│    └─Linear: 2-8                       [16, 128]                 48,512\n",
      "│    └─ReLU: 2-9                         [16, 128]                 --\n",
      "│    └─Linear: 2-10                      [16, 4096]                528,384\n",
      "│    └─ReLU: 2-11                        [16, 4096]                --\n",
      "│    └─Unflatten: 2-12                   [16, 64, 8, 8]            --\n",
      "│    └─ConvTranspose2d: 2-13             [16, 82, 16, 16]          47,314\n",
      "│    └─ReLU: 2-14                        [16, 82, 16, 16]          --\n",
      "│    └─ConvTranspose2d: 2-15             [16, 128, 31, 31]         94,592\n",
      "│    └─ReLU: 2-16                        [16, 128, 31, 31]         --\n",
      "│    └─ConvTranspose2d: 2-17             [16, 256, 62, 62]         295,168\n",
      "│    └─ReLU: 2-18                        [16, 256, 62, 62]         --\n",
      "│    └─ConvTranspose2d: 2-19             [16, 316, 124, 124]       728,380\n",
      "│    └─ReLU: 2-20                        [16, 316, 124, 124]       --\n",
      "│    └─ConvTranspose2d: 2-21             [16, 1, 248, 248]         2,845\n",
      "│    └─Sigmoid: 2-22                     [16, 1, 248, 248]         --\n",
      "==========================================================================================\n",
      "Total params: 14,567,091\n",
      "Trainable params: 14,567,091\n",
      "Non-trainable params: 0\n",
      "Total mult-adds (Units.GIGABYTES): 203.42\n",
      "==========================================================================================\n",
      "Input size (MB): 4.23\n",
      "Forward/backward pass size (MB): 877.13\n",
      "Params size (MB): 58.27\n",
      "Estimated Total Size (MB): 939.63\n",
      "==========================================================================================\n"
     ]
    }
   ],
   "source": [
    "_,op = next(enumerate(dataLoad_train))\n",
    "\n",
    "print(summary(model,input_data=op))"
   ]
  },
  {
   "cell_type": "code",
   "execution_count": 41,
   "metadata": {},
   "outputs": [],
   "source": [
    "def vaeLoss(genX, x, mu, logvar):\n",
    "    resizeBatch = lambda imgs,size=248: F.resize(imgs, size=size)\n",
    "    genX_d, x_d = genX.cpu().detach(), x.cpu().detach()\n",
    "    # BCE = nn.functional.binary_cross_entropy(genX.view(-1, 1*248*248), resizeBatch(x).view(-1, 1*248*248), reduction='sum')\n",
    "    BCE = nn.functional.binary_cross_entropy_with_logits(genX_d.view(-1, 1*248*248), resizeBatch(x_d).view(-1, 1*248*248), reduction='sum')\n",
    "    # BinaryCrossEntroppyWithLogits\n",
    "    KL_div = -0.5 * torch.sum(1 + logvar - mu.pow(2) - logvar.exp())\n",
    "\n",
    "    return BCE + KL_div"
   ]
  },
  {
   "cell_type": "markdown",
   "metadata": {},
   "source": [
    "### Training Section"
   ]
  },
  {
   "cell_type": "code",
   "execution_count": 42,
   "metadata": {
    "scrolled": true
   },
   "outputs": [
    {
     "name": "stdout",
     "output_type": "stream",
     "text": [
      " ==================================================================================================== \n",
      "Time Now: 2025.02.08 02:21 PM \n",
      " ====================================================================================================\n"
     ]
    },
    {
     "ename": "KeyboardInterrupt",
     "evalue": "",
     "output_type": "error",
     "traceback": [
      "\u001b[1;31m---------------------------------------------------------------------------\u001b[0m",
      "\u001b[1;31mKeyboardInterrupt\u001b[0m                         Traceback (most recent call last)",
      "File \u001b[1;32m<timed exec>:19\u001b[0m\n",
      "File \u001b[1;32m~\\miniconda3\\envs\\lunar\\Lib\\site-packages\\torch\\nn\\modules\\module.py:1736\u001b[0m, in \u001b[0;36mModule._wrapped_call_impl\u001b[1;34m(self, *args, **kwargs)\u001b[0m\n\u001b[0;32m   1734\u001b[0m     \u001b[38;5;28;01mreturn\u001b[39;00m \u001b[38;5;28mself\u001b[39m\u001b[38;5;241m.\u001b[39m_compiled_call_impl(\u001b[38;5;241m*\u001b[39margs, \u001b[38;5;241m*\u001b[39m\u001b[38;5;241m*\u001b[39mkwargs)  \u001b[38;5;66;03m# type: ignore[misc]\u001b[39;00m\n\u001b[0;32m   1735\u001b[0m \u001b[38;5;28;01melse\u001b[39;00m:\n\u001b[1;32m-> 1736\u001b[0m     \u001b[38;5;28;01mreturn\u001b[39;00m \u001b[38;5;28mself\u001b[39m\u001b[38;5;241m.\u001b[39m_call_impl(\u001b[38;5;241m*\u001b[39margs, \u001b[38;5;241m*\u001b[39m\u001b[38;5;241m*\u001b[39mkwargs)\n",
      "File \u001b[1;32m~\\miniconda3\\envs\\lunar\\Lib\\site-packages\\torch\\nn\\modules\\module.py:1747\u001b[0m, in \u001b[0;36mModule._call_impl\u001b[1;34m(self, *args, **kwargs)\u001b[0m\n\u001b[0;32m   1742\u001b[0m \u001b[38;5;66;03m# If we don't have any hooks, we want to skip the rest of the logic in\u001b[39;00m\n\u001b[0;32m   1743\u001b[0m \u001b[38;5;66;03m# this function, and just call forward.\u001b[39;00m\n\u001b[0;32m   1744\u001b[0m \u001b[38;5;28;01mif\u001b[39;00m \u001b[38;5;129;01mnot\u001b[39;00m (\u001b[38;5;28mself\u001b[39m\u001b[38;5;241m.\u001b[39m_backward_hooks \u001b[38;5;129;01mor\u001b[39;00m \u001b[38;5;28mself\u001b[39m\u001b[38;5;241m.\u001b[39m_backward_pre_hooks \u001b[38;5;129;01mor\u001b[39;00m \u001b[38;5;28mself\u001b[39m\u001b[38;5;241m.\u001b[39m_forward_hooks \u001b[38;5;129;01mor\u001b[39;00m \u001b[38;5;28mself\u001b[39m\u001b[38;5;241m.\u001b[39m_forward_pre_hooks\n\u001b[0;32m   1745\u001b[0m         \u001b[38;5;129;01mor\u001b[39;00m _global_backward_pre_hooks \u001b[38;5;129;01mor\u001b[39;00m _global_backward_hooks\n\u001b[0;32m   1746\u001b[0m         \u001b[38;5;129;01mor\u001b[39;00m _global_forward_hooks \u001b[38;5;129;01mor\u001b[39;00m _global_forward_pre_hooks):\n\u001b[1;32m-> 1747\u001b[0m     \u001b[38;5;28;01mreturn\u001b[39;00m forward_call(\u001b[38;5;241m*\u001b[39margs, \u001b[38;5;241m*\u001b[39m\u001b[38;5;241m*\u001b[39mkwargs)\n\u001b[0;32m   1749\u001b[0m result \u001b[38;5;241m=\u001b[39m \u001b[38;5;28;01mNone\u001b[39;00m\n\u001b[0;32m   1750\u001b[0m called_always_called_hooks \u001b[38;5;241m=\u001b[39m \u001b[38;5;28mset\u001b[39m()\n",
      "Cell \u001b[1;32mIn[27], line 52\u001b[0m, in \u001b[0;36msketchModel.forward\u001b[1;34m(self, *inp)\u001b[0m\n\u001b[0;32m     50\u001b[0m z \u001b[38;5;241m=\u001b[39m \u001b[38;5;28mself\u001b[39m\u001b[38;5;241m.\u001b[39mreparametrize(mu, logvar)\n\u001b[0;32m     51\u001b[0m xd \u001b[38;5;241m=\u001b[39m torch\u001b[38;5;241m.\u001b[39mcat([z,y], dim\u001b[38;5;241m=\u001b[39m\u001b[38;5;241m1\u001b[39m)\n\u001b[1;32m---> 52\u001b[0m xd \u001b[38;5;241m=\u001b[39m \u001b[38;5;28mself\u001b[39m\u001b[38;5;241m.\u001b[39mdecoder(xd)\n\u001b[0;32m     54\u001b[0m \u001b[38;5;28;01mreturn\u001b[39;00m xd, mu, logvar\n",
      "File \u001b[1;32m~\\miniconda3\\envs\\lunar\\Lib\\site-packages\\torch\\nn\\modules\\module.py:1736\u001b[0m, in \u001b[0;36mModule._wrapped_call_impl\u001b[1;34m(self, *args, **kwargs)\u001b[0m\n\u001b[0;32m   1734\u001b[0m     \u001b[38;5;28;01mreturn\u001b[39;00m \u001b[38;5;28mself\u001b[39m\u001b[38;5;241m.\u001b[39m_compiled_call_impl(\u001b[38;5;241m*\u001b[39margs, \u001b[38;5;241m*\u001b[39m\u001b[38;5;241m*\u001b[39mkwargs)  \u001b[38;5;66;03m# type: ignore[misc]\u001b[39;00m\n\u001b[0;32m   1735\u001b[0m \u001b[38;5;28;01melse\u001b[39;00m:\n\u001b[1;32m-> 1736\u001b[0m     \u001b[38;5;28;01mreturn\u001b[39;00m \u001b[38;5;28mself\u001b[39m\u001b[38;5;241m.\u001b[39m_call_impl(\u001b[38;5;241m*\u001b[39margs, \u001b[38;5;241m*\u001b[39m\u001b[38;5;241m*\u001b[39mkwargs)\n",
      "File \u001b[1;32m~\\miniconda3\\envs\\lunar\\Lib\\site-packages\\torch\\nn\\modules\\module.py:1747\u001b[0m, in \u001b[0;36mModule._call_impl\u001b[1;34m(self, *args, **kwargs)\u001b[0m\n\u001b[0;32m   1742\u001b[0m \u001b[38;5;66;03m# If we don't have any hooks, we want to skip the rest of the logic in\u001b[39;00m\n\u001b[0;32m   1743\u001b[0m \u001b[38;5;66;03m# this function, and just call forward.\u001b[39;00m\n\u001b[0;32m   1744\u001b[0m \u001b[38;5;28;01mif\u001b[39;00m \u001b[38;5;129;01mnot\u001b[39;00m (\u001b[38;5;28mself\u001b[39m\u001b[38;5;241m.\u001b[39m_backward_hooks \u001b[38;5;129;01mor\u001b[39;00m \u001b[38;5;28mself\u001b[39m\u001b[38;5;241m.\u001b[39m_backward_pre_hooks \u001b[38;5;129;01mor\u001b[39;00m \u001b[38;5;28mself\u001b[39m\u001b[38;5;241m.\u001b[39m_forward_hooks \u001b[38;5;129;01mor\u001b[39;00m \u001b[38;5;28mself\u001b[39m\u001b[38;5;241m.\u001b[39m_forward_pre_hooks\n\u001b[0;32m   1745\u001b[0m         \u001b[38;5;129;01mor\u001b[39;00m _global_backward_pre_hooks \u001b[38;5;129;01mor\u001b[39;00m _global_backward_hooks\n\u001b[0;32m   1746\u001b[0m         \u001b[38;5;129;01mor\u001b[39;00m _global_forward_hooks \u001b[38;5;129;01mor\u001b[39;00m _global_forward_pre_hooks):\n\u001b[1;32m-> 1747\u001b[0m     \u001b[38;5;28;01mreturn\u001b[39;00m forward_call(\u001b[38;5;241m*\u001b[39margs, \u001b[38;5;241m*\u001b[39m\u001b[38;5;241m*\u001b[39mkwargs)\n\u001b[0;32m   1749\u001b[0m result \u001b[38;5;241m=\u001b[39m \u001b[38;5;28;01mNone\u001b[39;00m\n\u001b[0;32m   1750\u001b[0m called_always_called_hooks \u001b[38;5;241m=\u001b[39m \u001b[38;5;28mset\u001b[39m()\n",
      "File \u001b[1;32m~\\miniconda3\\envs\\lunar\\Lib\\site-packages\\torch\\nn\\modules\\container.py:250\u001b[0m, in \u001b[0;36mSequential.forward\u001b[1;34m(self, input)\u001b[0m\n\u001b[0;32m    248\u001b[0m \u001b[38;5;28;01mdef\u001b[39;00m \u001b[38;5;21mforward\u001b[39m(\u001b[38;5;28mself\u001b[39m, \u001b[38;5;28minput\u001b[39m):\n\u001b[0;32m    249\u001b[0m     \u001b[38;5;28;01mfor\u001b[39;00m module \u001b[38;5;129;01min\u001b[39;00m \u001b[38;5;28mself\u001b[39m:\n\u001b[1;32m--> 250\u001b[0m         \u001b[38;5;28minput\u001b[39m \u001b[38;5;241m=\u001b[39m module(\u001b[38;5;28minput\u001b[39m)\n\u001b[0;32m    251\u001b[0m     \u001b[38;5;28;01mreturn\u001b[39;00m \u001b[38;5;28minput\u001b[39m\n",
      "File \u001b[1;32m~\\miniconda3\\envs\\lunar\\Lib\\site-packages\\torch\\nn\\modules\\module.py:1736\u001b[0m, in \u001b[0;36mModule._wrapped_call_impl\u001b[1;34m(self, *args, **kwargs)\u001b[0m\n\u001b[0;32m   1734\u001b[0m     \u001b[38;5;28;01mreturn\u001b[39;00m \u001b[38;5;28mself\u001b[39m\u001b[38;5;241m.\u001b[39m_compiled_call_impl(\u001b[38;5;241m*\u001b[39margs, \u001b[38;5;241m*\u001b[39m\u001b[38;5;241m*\u001b[39mkwargs)  \u001b[38;5;66;03m# type: ignore[misc]\u001b[39;00m\n\u001b[0;32m   1735\u001b[0m \u001b[38;5;28;01melse\u001b[39;00m:\n\u001b[1;32m-> 1736\u001b[0m     \u001b[38;5;28;01mreturn\u001b[39;00m \u001b[38;5;28mself\u001b[39m\u001b[38;5;241m.\u001b[39m_call_impl(\u001b[38;5;241m*\u001b[39margs, \u001b[38;5;241m*\u001b[39m\u001b[38;5;241m*\u001b[39mkwargs)\n",
      "File \u001b[1;32m~\\miniconda3\\envs\\lunar\\Lib\\site-packages\\torch\\nn\\modules\\module.py:1747\u001b[0m, in \u001b[0;36mModule._call_impl\u001b[1;34m(self, *args, **kwargs)\u001b[0m\n\u001b[0;32m   1742\u001b[0m \u001b[38;5;66;03m# If we don't have any hooks, we want to skip the rest of the logic in\u001b[39;00m\n\u001b[0;32m   1743\u001b[0m \u001b[38;5;66;03m# this function, and just call forward.\u001b[39;00m\n\u001b[0;32m   1744\u001b[0m \u001b[38;5;28;01mif\u001b[39;00m \u001b[38;5;129;01mnot\u001b[39;00m (\u001b[38;5;28mself\u001b[39m\u001b[38;5;241m.\u001b[39m_backward_hooks \u001b[38;5;129;01mor\u001b[39;00m \u001b[38;5;28mself\u001b[39m\u001b[38;5;241m.\u001b[39m_backward_pre_hooks \u001b[38;5;129;01mor\u001b[39;00m \u001b[38;5;28mself\u001b[39m\u001b[38;5;241m.\u001b[39m_forward_hooks \u001b[38;5;129;01mor\u001b[39;00m \u001b[38;5;28mself\u001b[39m\u001b[38;5;241m.\u001b[39m_forward_pre_hooks\n\u001b[0;32m   1745\u001b[0m         \u001b[38;5;129;01mor\u001b[39;00m _global_backward_pre_hooks \u001b[38;5;129;01mor\u001b[39;00m _global_backward_hooks\n\u001b[0;32m   1746\u001b[0m         \u001b[38;5;129;01mor\u001b[39;00m _global_forward_hooks \u001b[38;5;129;01mor\u001b[39;00m _global_forward_pre_hooks):\n\u001b[1;32m-> 1747\u001b[0m     \u001b[38;5;28;01mreturn\u001b[39;00m forward_call(\u001b[38;5;241m*\u001b[39margs, \u001b[38;5;241m*\u001b[39m\u001b[38;5;241m*\u001b[39mkwargs)\n\u001b[0;32m   1749\u001b[0m result \u001b[38;5;241m=\u001b[39m \u001b[38;5;28;01mNone\u001b[39;00m\n\u001b[0;32m   1750\u001b[0m called_always_called_hooks \u001b[38;5;241m=\u001b[39m \u001b[38;5;28mset\u001b[39m()\n",
      "File \u001b[1;32m~\\miniconda3\\envs\\lunar\\Lib\\site-packages\\torch\\nn\\modules\\conv.py:1162\u001b[0m, in \u001b[0;36mConvTranspose2d.forward\u001b[1;34m(self, input, output_size)\u001b[0m\n\u001b[0;32m   1151\u001b[0m num_spatial_dims \u001b[38;5;241m=\u001b[39m \u001b[38;5;241m2\u001b[39m\n\u001b[0;32m   1152\u001b[0m output_padding \u001b[38;5;241m=\u001b[39m \u001b[38;5;28mself\u001b[39m\u001b[38;5;241m.\u001b[39m_output_padding(\n\u001b[0;32m   1153\u001b[0m     \u001b[38;5;28minput\u001b[39m,\n\u001b[0;32m   1154\u001b[0m     output_size,\n\u001b[1;32m   (...)\u001b[0m\n\u001b[0;32m   1159\u001b[0m     \u001b[38;5;28mself\u001b[39m\u001b[38;5;241m.\u001b[39mdilation,  \u001b[38;5;66;03m# type: ignore[arg-type]\u001b[39;00m\n\u001b[0;32m   1160\u001b[0m )\n\u001b[1;32m-> 1162\u001b[0m \u001b[38;5;28;01mreturn\u001b[39;00m F\u001b[38;5;241m.\u001b[39mconv_transpose2d(\n\u001b[0;32m   1163\u001b[0m     \u001b[38;5;28minput\u001b[39m,\n\u001b[0;32m   1164\u001b[0m     \u001b[38;5;28mself\u001b[39m\u001b[38;5;241m.\u001b[39mweight,\n\u001b[0;32m   1165\u001b[0m     \u001b[38;5;28mself\u001b[39m\u001b[38;5;241m.\u001b[39mbias,\n\u001b[0;32m   1166\u001b[0m     \u001b[38;5;28mself\u001b[39m\u001b[38;5;241m.\u001b[39mstride,\n\u001b[0;32m   1167\u001b[0m     \u001b[38;5;28mself\u001b[39m\u001b[38;5;241m.\u001b[39mpadding,\n\u001b[0;32m   1168\u001b[0m     output_padding,\n\u001b[0;32m   1169\u001b[0m     \u001b[38;5;28mself\u001b[39m\u001b[38;5;241m.\u001b[39mgroups,\n\u001b[0;32m   1170\u001b[0m     \u001b[38;5;28mself\u001b[39m\u001b[38;5;241m.\u001b[39mdilation,\n\u001b[0;32m   1171\u001b[0m )\n",
      "\u001b[1;31mKeyboardInterrupt\u001b[0m: "
     ]
    }
   ],
   "source": [
    "%%time\n",
    "telltimefnx()\n",
    "DEVICE = 'cpu'\n",
    "# DEVICE = 'cuda'\n",
    "model.to(DEVICE)\n",
    "\n",
    "numEpochs = 1\n",
    "\n",
    "totLoss, totLossV = [],[]\n",
    "\n",
    "for epc in range(numEpochs):\n",
    "    stime = time.time()\n",
    "    model.train()\n",
    "    runningLoss = 0\n",
    "\n",
    "    for batch in dataLoad_train:\n",
    "        x, y = batch\n",
    "        x, y = x.to(DEVICE), y.to(DEVICE)\n",
    "        optimizer.zero_grad()\n",
    "        genImg, mu, logvar = model(x,y) \n",
    "        loss = vaeLoss(genImg, x, mu, logvar)\n",
    "        loss.backward()\n",
    "        optimizer.step()\n",
    "    \n",
    "        runningLoss += loss.item()\n",
    "    \n",
    "    epcLoss = runningLoss/len(dataLoad_train)\n",
    "    totLoss.append(epcLoss)\n",
    "    print(f\"Epoch {epc+1}/{numEpochs}, Loss: {epcLoss:.4f}, Accuracy: {epcAcc:.2f}%, TimeCons: {time.time()-stime:.2f}\")\n",
    "\n",
    "    model.eval()\n",
    "    runningLossV = 0\n",
    "    \n",
    "    for batchV in dataLoad_val:\n",
    "        x, y = batchV\n",
    "        x, y = x.to(DEVICE), y.to(DEVICE)\n",
    "\n",
    "        genImg, mu, logvar = model(x, y)\n",
    "        lossV = vaeLoss(genImg, imgV[0], mu, logvar)\n",
    "\n",
    "        runningLossV += lossV.item()\n",
    "\n",
    "    epcLossV = runningLoss/len(dataLoad_train)\n",
    "    totLossV.append(epcLossV)\n",
    "    print(f\"Validation Data: {epcLossV:.4f}\")\n",
    "\n",
    "    \n",
    "telltimefnx()"
   ]
  },
  {
   "cell_type": "code",
   "execution_count": null,
   "metadata": {},
   "outputs": [],
   "source": []
  },
  {
   "cell_type": "markdown",
   "metadata": {},
   "source": [
    "---"
   ]
  },
  {
   "cell_type": "code",
   "execution_count": null,
   "metadata": {
    "id": "GXYts2c9aiss"
   },
   "outputs": [],
   "source": [
    "class Encoder(nn.Module):\n",
    "    def __init__(self, img_channels, latent_dim, num_classes):\n",
    "        super(Encoder, self).__init__()\n",
    "        self.num_classes = num_classes\n",
    "        self.img_channels = img_channels\n",
    "        self.latent_dim = latent_dim\n",
    "        \n",
    "        # Class label embedding layer\n",
    "        self.label_embedding = nn.Embedding(num_classes, num_classes)\n",
    "        \n",
    "        # Convolutional layers\n",
    "        self.conv1 = nn.Conv2d(img_channels + num_classes, 32, kernel_size=3, stride=2, padding=1)\n",
    "        self.conv2 = nn.Conv2d(32, 64, kernel_size=3, stride=2, padding=1)\n",
    "        self.fc1 = nn.Linear(64 * 8 * 8, 128)\n",
    "        \n",
    "        # Latent variables (mean and log-variance)\n",
    "        self.fc_mu = nn.Linear(128, latent_dim)\n",
    "        self.fc_logvar = nn.Linear(128, latent_dim)\n",
    "\n",
    "    def forward(self, x, c):\n",
    "        # Embedding the class label\n",
    "        c = self.label_embedding(c)\n",
    "        c = c.view(c.size(0), c.size(1), 1, 1)  # Reshape to (batch, channels, 1, 1)\n",
    "        c = c.expand(-1, -1, x.size(2), x.size(3))  # Match the spatial dimensions of the image\n",
    "        \n",
    "        # Concatenate image and class label\n",
    "        x = torch.cat([x, c], dim=1)\n",
    "        \n",
    "        # Pass through the convolutional layers\n",
    "        x = torch.relu(self.conv1(x))\n",
    "        x = torch.relu(self.conv2(x))\n",
    "        x = x.view(x.size(0), -1)  # Flatten\n",
    "        \n",
    "        x = torch.relu(self.fc1(x))\n",
    "        \n",
    "        # Output the mean and log-variance for the latent distribution\n",
    "        mu = self.fc_mu(x)\n",
    "        logvar = self.fc_logvar(x)\n",
    "        \n",
    "        return mu, logvar\n"
   ]
  },
  {
   "cell_type": "code",
   "execution_count": null,
   "metadata": {
    "id": "GPITmW7Wqif7"
   },
   "outputs": [],
   "source": [
    "class Decoder(nn.Module):\n",
    "    def __init__(self, img_channels, latent_dim, num_classes):\n",
    "        super(Decoder, self).__init__()\n",
    "        self.num_classes = num_classes\n",
    "        self.latent_dim = latent_dim\n",
    "        self.img_channels = img_channels\n",
    "        \n",
    "        # Class label embedding\n",
    "        self.label_embedding = nn.Embedding(num_classes, num_classes)\n",
    "        \n",
    "        # Fully connected layers\n",
    "        self.fc1 = nn.Linear(latent_dim + num_classes, 128)\n",
    "        self.fc2 = nn.Linear(128, 64 * 8 * 8)\n",
    "        \n",
    "        # Convolutional layers for image reconstruction\n",
    "        self.conv1 = nn.ConvTranspose2d(64, 32, kernel_size=3, stride=2, padding=1, output_padding=1)\n",
    "        self.conv2 = nn.ConvTranspose2d(32, img_channels, kernel_size=3, stride=2, padding=1, output_padding=1)\n",
    "\n",
    "    def forward(self, z, c):\n",
    "        # Embedding the class label\n",
    "        c = self.label_embedding(c)\n",
    "        \n",
    "        # Concatenate latent vector and class label\n",
    "        x = torch.cat([z, c], dim=1)\n",
    "        \n",
    "        x = torch.relu(self.fc1(x))\n",
    "        x = torch.relu(self.fc2(x))\n",
    "        \n",
    "        x = x.view(x.size(0), 64, 8, 8)  # Reshape for convolution\n",
    "        \n",
    "        # Upsample to original image size\n",
    "        x = torch.relu(self.conv1(x))\n",
    "        img = torch.sigmoid(self.conv2(x))  # Final image reconstruction\n",
    "        return img\n"
   ]
  },
  {
   "cell_type": "code",
   "execution_count": null,
   "metadata": {
    "id": "5MZvSYzwqiii"
   },
   "outputs": [],
   "source": [
    "class CVAE(nn.Module):\n",
    "    def __init__(self, img_channels, latent_dim, num_classes):\n",
    "        super(CVAE, self).__init__()\n",
    "        self.encoder = Encoder(img_channels, latent_dim, num_classes)\n",
    "        self.decoder = Decoder(img_channels, latent_dim, num_classes)\n",
    "\n",
    "    def reparameterize(self, mu, logvar):\n",
    "        std = torch.exp(0.5*logvar)\n",
    "        eps = torch.randn_like(std)\n",
    "        z = mu + eps*std\n",
    "        return z\n",
    "\n",
    "    def forward(self, x, c):\n",
    "        # Encode\n",
    "        mu, logvar = self.encoder(x, c)\n",
    "        \n",
    "        # Reparameterize to sample z\n",
    "        z = self.reparameterize(mu, logvar)\n",
    "        \n",
    "        # Decode\n",
    "        recon_x = self.decoder(z, c)\n",
    "        \n",
    "        return recon_x, mu, logvar\n"
   ]
  },
  {
   "cell_type": "code",
   "execution_count": null,
   "metadata": {},
   "outputs": [],
   "source": [
    "def vae_loss(recon_x, x, mu, logvar):\n",
    "    # Reconstruction loss (binary cross entropy)\n",
    "    BCE = nn.functional.binary_cross_entropy(recon_x.view(-1, 32*32*3), x.view(-1, 32*32*3), reduction='sum')\n",
    "    \n",
    "    # KL divergence loss\n",
    "    # KL divergence between q(z|x) and p(z), where p(z) is a standard normal\n",
    "    # D_KL(q(z|x) || p(z)) = -0.5 * sum(1 + log(sigma^2) - mu^2 - sigma^2)\n",
    "    # where q(z|x) is the latent variable distribution (Gaussian)\n",
    "    # and p(z) is the standard normal distribution N(0, I)\n",
    "    # In this case we just calculate the element-wise sum\n",
    "    KL_div = -0.5 * torch.sum(1 + logvar - mu.pow(2) - logvar.exp())\n",
    "    \n",
    "    # Final loss\n",
    "    return BCE + KL_div\n"
   ]
  },
  {
   "cell_type": "code",
   "execution_count": null,
   "metadata": {},
   "outputs": [],
   "source": [
    "# Hyperparameters\n",
    "latent_dim = 128\n",
    "num_classes = 10  # CIFAR-10 has 10 classes\n",
    "img_channels = 3  # RGB images\n",
    "batch_size = 64\n",
    "learning_rate = 1e-3\n",
    "epochs = 10\n",
    "\n",
    "# Create the model, optimizer, and loss function\n",
    "model = CVAE(img_channels, latent_dim, num_classes)\n",
    "optimizer = optim.Adam(model.parameters(), lr=learning_rate)\n",
    "\n",
    "# Data loader (for CIFAR-10)\n",
    "transform = transforms.Compose([transforms.ToTensor(), transforms.Normalize((0.5, 0.5, 0.5), (0.5, 0.5, 0.5))])\n",
    "trainset = datasets.CIFAR10(root='./data', train=True, download=True, transform=transform)\n",
    "trainloader = DataLoader(trainset, batch_size=batch_size, shuffle=True)\n",
    "\n",
    "# Training loop\n",
    "for epoch in range(epochs):\n",
    "    model.train()\n",
    "    running_loss = 0.0\n",
    "    \n",
    "    for i, (inputs, labels) in enumerate(trainloader):\n",
    "        optimizer.zero_grad()\n",
    "        \n",
    "        # Forward pass\n",
    "        recon_batch, mu, logvar = model(inputs, labels)\n",
    "        \n",
    "        # Compute loss\n",
    "        loss = vae_loss(recon_batch, inputs, mu, logvar)\n",
    "        \n",
    "        # Backpropagation and optimization\n",
    "        loss.backward()\n",
    "        optimizer.step()\n",
    "        \n",
    "        running_loss += loss.item()\n",
    "        \n",
    "        if i % 100 == 0:\n",
    "            print(f\"Epoch [{epoch+1}/{epochs}], Step [{i}/{len(trainloader)}], Loss: {loss.item():.4f}\")\n",
    "\n",
    "    print(f\"Epoch [{epoch+1}/{epochs}], Average Loss: {running_loss / len(trainloader):.4f}\")\n",
    "\n",
    "# Save the trained model\n",
    "torch.save(model.state_dict(), 'cvae_model.pth')\n"
   ]
  },
  {
   "cell_type": "code",
   "execution_count": null,
   "metadata": {},
   "outputs": [],
   "source": [
    "def generate_image(model, class_label, latent_dim=128):\n",
    "    model.eval()\n",
    "    \n",
    "    # Sample a random latent vector z\n",
    "    z = torch.randn(1, latent_dim).to(device)\n",
    "    \n",
    "    # Generate an image conditioned on the class label\n",
    "    class_label = torch.tensor([class_label]).to(device)\n",
    "    generated_img = model.decoder(z, class_label)\n",
    "    \n",
    "    return generated_img.squeeze().cpu().detach().numpy()\n",
    "\n",
    "# Example: Generate an image for class \"cat\" (class index 3)\n",
    "generated_image = generate_image(model, class_label=3)\n",
    "plt.imshow(generated_image.transpose(1, 2, 0))\n",
    "plt.show()\n"
   ]
  }
 ],
 "metadata": {
  "colab": {
   "authorship_tag": "ABX9TyPW8QAS/NEaxnZfLXIrwZNB",
   "include_colab_link": true,
   "provenance": []
  },
  "kernelspec": {
   "display_name": "Python 3 (ipykernel)",
   "language": "python",
   "name": "python3"
  },
  "language_info": {
   "codemirror_mode": {
    "name": "ipython",
    "version": 3
   },
   "file_extension": ".py",
   "mimetype": "text/x-python",
   "name": "python",
   "nbconvert_exporter": "python",
   "pygments_lexer": "ipython3",
   "version": "3.11.10"
  }
 },
 "nbformat": 4,
 "nbformat_minor": 4
}
