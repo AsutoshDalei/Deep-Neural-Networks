{
 "cells": [
  {
   "cell_type": "markdown",
   "metadata": {
    "colab_type": "text",
    "id": "view-in-github"
   },
   "source": [
    "<a href=\"https://colab.research.google.com/github/AsutoshDalei/Deep-Neural-Networks/blob/master/GenerateSketches.ipynb\" target=\"_parent\"><img src=\"https://colab.research.google.com/assets/colab-badge.svg\" alt=\"Open In Colab\"/></a>"
   ]
  },
  {
   "cell_type": "code",
   "execution_count": 2,
   "metadata": {
    "id": "guFvUuoFSrGT"
   },
   "outputs": [],
   "source": [
    "# !pip3 install torchinfo --quiet"
   ]
  },
  {
   "cell_type": "markdown",
   "metadata": {
    "id": "8js_OIIAqKxx"
   },
   "source": [
    "# Generate Sketches\n",
    "\n",
    "Humans have used sketching to depict our visual world since prehistoric times. Even today, sketching is possibly the only rendering technique readily available to all humans. This paper is the first large scale exploration of human sketches. We analyze the distribution of non-expert sketches of everyday objects such as 'teapot' or 'car'. We ask humans to sketch objects of a given category and gather 20,000 unique sketches evenly distributed over 250 object categories.\n",
    "\n",
    "https://cybertron.cg.tu-berlin.de/eitz/projects/classifysketch/"
   ]
  },
  {
   "cell_type": "code",
   "execution_count": 39,
   "metadata": {
    "id": "wkEh-AHwrsvf"
   },
   "outputs": [],
   "source": [
    "import os\n",
    "\n",
    "import pandas as pd\n",
    "import numpy as np\n",
    "import matplotlib.pyplot as plt\n",
    "%matplotlib inline\n",
    "import seaborn as sns\n",
    "from sklearn.model_selection import train_test_split\n",
    "\n",
    "import torch\n",
    "import torch.nn as nn\n",
    "from torch.utils.data import Dataset, DataLoader\n",
    "from torchinfo import summary\n",
    "from torchvision.transforms import v2\n",
    "from torchvision.io import read_image"
   ]
  },
  {
   "cell_type": "markdown",
   "metadata": {
    "id": "7vJbrE_xreGy"
   },
   "source": [
    "## Data Collection\n",
    "Fetcing and unzipping"
   ]
  },
  {
   "cell_type": "code",
   "execution_count": null,
   "metadata": {
    "id": "6Ixm2K-MqfpY"
   },
   "outputs": [],
   "source": [
    "# !wget https://cybertron.cg.tu-berlin.de/eitz/projects/classifysketch/sketches_png.zip\n",
    "# !unzip /content/sketches_png.zip"
   ]
  },
  {
   "cell_type": "code",
   "execution_count": 5,
   "metadata": {
    "colab": {
     "base_uri": "https://localhost:8080/"
    },
    "id": "wmvOm1nHqibi",
    "outputId": "ee3ed425-b5d6-49eb-a648-1d292d46a783"
   },
   "outputs": [
    {
     "name": "stdout",
     "output_type": "stream",
     "text": [
      "filelist.txt is a file\n",
      "Number of objects sketched: 250\n",
      "Average number of images per object: 80.0\n"
     ]
    }
   ],
   "source": [
    "dataPath = \"/content/png\"\n",
    "dataPath = r\"C:\\Users\\asuto\\Desktop\\Work\\sketches_png\\png\"\n",
    "\n",
    "numImgs,sktName = [],[]\n",
    "\n",
    "hmap = {\"fileName\":[],'object':[]}\n",
    "\n",
    "for ele in os.listdir(dataPath):\n",
    "  if os.path.isdir(f\"{dataPath}/{ele}\"):\n",
    "    # print(f\"{ele} is a dir\")\n",
    "    numClassImg = len(os.listdir(f\"{dataPath}/{ele}\"))\n",
    "    numImgs.append(numClassImg)\n",
    "    sktName.append(ele)\n",
    "\n",
    "    hmap['fileName'].extend(os.listdir(f\"{dataPath}/{ele}\"))\n",
    "    hmap['object'].extend([ele]*len(os.listdir(f\"{dataPath}/{ele}\")))\n",
    "    # hmap['path'].extend()\n",
    "\n",
    "  else:\n",
    "    print(f\"{ele} is a file\")\n",
    "\n",
    "print(f\"Number of objects sketched: {len(numImgs)}\")\n",
    "\n",
    "print(f\"Average number of images per object: {sum(numImgs)/len(numImgs)}\")"
   ]
  },
  {
   "cell_type": "code",
   "execution_count": 6,
   "metadata": {
    "colab": {
     "base_uri": "https://localhost:8080/",
     "height": 242
    },
    "id": "xAGeyO8XMqUp",
    "outputId": "401251e4-e4a7-4b2b-a6f1-ce1a12e0cabd"
   },
   "outputs": [
    {
     "name": "stdout",
     "output_type": "stream",
     "text": [
      "CPU times: total: 125 ms\n",
      "Wall time: 163 ms\n"
     ]
    },
    {
     "data": {
      "text/html": [
       "<div>\n",
       "<style scoped>\n",
       "    .dataframe tbody tr th:only-of-type {\n",
       "        vertical-align: middle;\n",
       "    }\n",
       "\n",
       "    .dataframe tbody tr th {\n",
       "        vertical-align: top;\n",
       "    }\n",
       "\n",
       "    .dataframe thead th {\n",
       "        text-align: right;\n",
       "    }\n",
       "</style>\n",
       "<table border=\"1\" class=\"dataframe\">\n",
       "  <thead>\n",
       "    <tr style=\"text-align: right;\">\n",
       "      <th></th>\n",
       "      <th>fileName</th>\n",
       "      <th>object</th>\n",
       "      <th>path</th>\n",
       "    </tr>\n",
       "  </thead>\n",
       "  <tbody>\n",
       "    <tr>\n",
       "      <th>0</th>\n",
       "      <td>1.png</td>\n",
       "      <td>airplane</td>\n",
       "      <td>C:\\Users\\asuto\\Desktop\\Work\\sketches_png\\png/a...</td>\n",
       "    </tr>\n",
       "    <tr>\n",
       "      <th>1</th>\n",
       "      <td>10.png</td>\n",
       "      <td>airplane</td>\n",
       "      <td>C:\\Users\\asuto\\Desktop\\Work\\sketches_png\\png/a...</td>\n",
       "    </tr>\n",
       "    <tr>\n",
       "      <th>2</th>\n",
       "      <td>11.png</td>\n",
       "      <td>airplane</td>\n",
       "      <td>C:\\Users\\asuto\\Desktop\\Work\\sketches_png\\png/a...</td>\n",
       "    </tr>\n",
       "    <tr>\n",
       "      <th>3</th>\n",
       "      <td>12.png</td>\n",
       "      <td>airplane</td>\n",
       "      <td>C:\\Users\\asuto\\Desktop\\Work\\sketches_png\\png/a...</td>\n",
       "    </tr>\n",
       "    <tr>\n",
       "      <th>4</th>\n",
       "      <td>13.png</td>\n",
       "      <td>airplane</td>\n",
       "      <td>C:\\Users\\asuto\\Desktop\\Work\\sketches_png\\png/a...</td>\n",
       "    </tr>\n",
       "  </tbody>\n",
       "</table>\n",
       "</div>"
      ],
      "text/plain": [
       "  fileName    object                                               path\n",
       "0    1.png  airplane  C:\\Users\\asuto\\Desktop\\Work\\sketches_png\\png/a...\n",
       "1   10.png  airplane  C:\\Users\\asuto\\Desktop\\Work\\sketches_png\\png/a...\n",
       "2   11.png  airplane  C:\\Users\\asuto\\Desktop\\Work\\sketches_png\\png/a...\n",
       "3   12.png  airplane  C:\\Users\\asuto\\Desktop\\Work\\sketches_png\\png/a...\n",
       "4   13.png  airplane  C:\\Users\\asuto\\Desktop\\Work\\sketches_png\\png/a..."
      ]
     },
     "execution_count": 6,
     "metadata": {},
     "output_type": "execute_result"
    }
   ],
   "source": [
    "%%time\n",
    "data = pd.DataFrame(hmap)\n",
    "data = data.assign(path = data.apply(lambda row: f\"{dataPath}/{row['object']}/{row['fileName']}\",axis=1))\n",
    "data.head()"
   ]
  },
  {
   "cell_type": "markdown",
   "metadata": {
    "id": "hDICMdMIwVQj"
   },
   "source": [
    "---\n",
    "### Viewing Sketches"
   ]
  },
  {
   "cell_type": "code",
   "execution_count": 8,
   "metadata": {
    "colab": {
     "base_uri": "https://localhost:8080/",
     "height": 548
    },
    "id": "3HPVRICzqidl",
    "outputId": "31314165-0732-4e3a-dfe1-5a3b9d1c5e0f"
   },
   "outputs": [
    {
     "data": {
      "image/png": "[encoded data removed]",
      "text/plain": [
       "<Figure size 600x700 with 1 Axes>"
      ]
     },
     "metadata": {},
     "output_type": "display_data"
    }
   ],
   "source": [
    "sample = data.sample(1)\n",
    "\n",
    "def showSketch_init(sample):\n",
    "  plt.figure(figsize=(6,7),dpi=100)\n",
    "  img = plt.imread(sample['path'].item())\n",
    "  imgplot = plt.imshow(img, cmap=\"gray\")\n",
    "  plt.title(f\"Sample of {sample['object'].item()}\")\n",
    "  plt.show()\n",
    "\n",
    "showSketch_init(sample)"
   ]
  },
  {
   "cell_type": "code",
   "execution_count": 9,
   "metadata": {
    "colab": {
     "base_uri": "https://localhost:8080/"
    },
    "id": "rcfZfWWXtP8Z",
    "outputId": "00d347f6-7dbe-4118-f2dd-31e57a1221d7"
   },
   "outputs": [
    {
     "name": "stdout",
     "output_type": "stream",
     "text": [
      "(1111, 1111)\n"
     ]
    },
    {
     "data": {
      "text/plain": [
       "array([[1., 1., 1., ..., 1., 1., 1.],\n",
       "       [1., 1., 1., ..., 1., 1., 1.],\n",
       "       [1., 1., 1., ..., 1., 1., 1.],\n",
       "       ...,\n",
       "       [1., 1., 1., ..., 1., 1., 1.],\n",
       "       [1., 1., 1., ..., 1., 1., 1.],\n",
       "       [1., 1., 1., ..., 1., 1., 1.]], dtype=float32)"
      ]
     },
     "execution_count": 9,
     "metadata": {},
     "output_type": "execute_result"
    }
   ],
   "source": [
    "img = plt.imread(sample['path'].item())\n",
    "print(img.shape)\n",
    "img"
   ]
  },
  {
   "cell_type": "markdown",
   "metadata": {
    "id": "AMoEXStaQ4zK"
   },
   "source": [
    "## Model Plan\n",
    "* The idea is to take in one of the objects as an input and generate a sketch which corresponds to the object. Since we have 250 object classes, our input to the model would be an array of size 250. Each object would be represented by a combination of the input array.\n",
    "\n",
    "* The output of the model would be the image. In this case, an array of (1111,1111)."
   ]
  },
  {
   "cell_type": "markdown",
   "metadata": {
    "id": "lF8-nCdSSEKS"
   },
   "source": [
    "### PyTorch Dataset & Transformers"
   ]
  },
  {
   "cell_type": "code",
   "execution_count": 43,
   "metadata": {},
   "outputs": [],
   "source": [
    "transformFnx = v2.Compose([v2.ToImage(),\n",
    "                           v2.RandomHorizontalFlip(0.5),\n",
    "                           v2.ToDtype(torch.float32, scale=True)])"
   ]
  },
  {
   "cell_type": "code",
   "execution_count": 44,
   "metadata": {
    "id": "lKja3FMutP-9"
   },
   "outputs": [],
   "source": [
    "class datasetGen(Dataset):\n",
    "  def __init__(self,data,transforms=None):\n",
    "    self.data = data\n",
    "    self.transforms = transforms\n",
    "\n",
    "    nunq = data.object.nunique()\n",
    "    self.inpMap, ptr = {}, 0\n",
    "    for obj in sorted(data.object.unique()):\n",
    "      self.inpMap[obj] = [0]*nunq\n",
    "      self.inpMap[obj][ptr] = 1\n",
    "      ptr+=1\n",
    "\n",
    "  def __len__(self):\n",
    "    return len(self.data)\n",
    "\n",
    "  def __getitem__(self, idx):\n",
    "    row = self.data.iloc[idx]\n",
    "    input = self.inpMap[row['object']]\n",
    "    sketch = read_image(row['path'])\n",
    "\n",
    "    if self.transforms:\n",
    "      sketch = self.transforms(sketch)\n",
    "\n",
    "    return input, sketch\n",
    "      \n",
    "gen = datasetGen(data=data, transforms=transformFnx)\n",
    "iterGen = iter(gen)"
   ]
  },
  {
   "cell_type": "code",
   "execution_count": 45,
   "metadata": {
    "colab": {
     "base_uri": "https://localhost:8080/",
     "height": 89
    },
    "id": "sZ5aM73ptQB1",
    "outputId": "39a3616f-cf0c-409b-93ed-acf4ef58f173"
   },
   "outputs": [
    {
     "data": {
      "text/html": [
       "<div>\n",
       "<style scoped>\n",
       "    .dataframe tbody tr th:only-of-type {\n",
       "        vertical-align: middle;\n",
       "    }\n",
       "\n",
       "    .dataframe tbody tr th {\n",
       "        vertical-align: top;\n",
       "    }\n",
       "\n",
       "    .dataframe thead th {\n",
       "        text-align: right;\n",
       "    }\n",
       "</style>\n",
       "<table border=\"1\" class=\"dataframe\">\n",
       "  <thead>\n",
       "    <tr style=\"text-align: right;\">\n",
       "      <th></th>\n",
       "      <th>fileName</th>\n",
       "      <th>object</th>\n",
       "      <th>path</th>\n",
       "    </tr>\n",
       "  </thead>\n",
       "  <tbody>\n",
       "    <tr>\n",
       "      <th>12549</th>\n",
       "      <td>12550.png</td>\n",
       "      <td>pigeon</td>\n",
       "      <td>C:\\Users\\asuto\\Desktop\\Work\\sketches_png\\png/p...</td>\n",
       "    </tr>\n",
       "  </tbody>\n",
       "</table>\n",
       "</div>"
      ],
      "text/plain": [
       "        fileName  object                                               path\n",
       "12549  12550.png  pigeon  C:\\Users\\asuto\\Desktop\\Work\\sketches_png\\png/p..."
      ]
     },
     "execution_count": 45,
     "metadata": {},
     "output_type": "execute_result"
    }
   ],
   "source": [
    "sample"
   ]
  },
  {
   "cell_type": "code",
   "execution_count": 58,
   "metadata": {
    "colab": {
     "base_uri": "https://localhost:8080/",
     "height": 435
    },
    "id": "BEE0RpEzYPQM",
    "outputId": "e4fbbdf3-90ac-45ca-d948-d21acd0337cb"
   },
   "outputs": [
    {
     "data": {
      "image/png": "[encoded data removed]",
      "text/plain": [
       "<Figure size 640x480 with 1 Axes>"
      ]
     },
     "metadata": {},
     "output_type": "display_data"
    }
   ],
   "source": [
    "_, op = next(iterGen)\n",
    "plt.imshow(op.reshape(1111,1111,1),cmap='gray')\n",
    "plt.show()"
   ]
  },
  {
   "cell_type": "code",
   "execution_count": 61,
   "metadata": {
    "id": "bXmwECZ-YPTT"
   },
   "outputs": [
    {
     "name": "stdout",
     "output_type": "stream",
     "text": [
      "Initial Data Length: 20000\n",
      "TrainVal Split: 16000 (80%), Test Split: 4000 (20%)\n",
      "Train Split: 11200 (56%), Val Split: 4800 (24%)\n",
      "CPU times: total: 15.6 ms\n",
      "Wall time: 34.7 ms\n"
     ]
    }
   ],
   "source": [
    "%%time\n",
    "print(\"Initial Data Length:\",data.shape[0])\n",
    "trainvalData, testData = train_test_split(data,test_size=0.2,stratify=data['object'])\n",
    "print(f\"TrainVal Split: {trainvalData.shape[0]} ({(trainvalData.shape[0]/data.shape[0])*100:.2g}%), Test Split: {testData.shape[0]} ({(testData.shape[0]/data.shape[0])*100:.2g}%)\")\n",
    "\n",
    "trainData, valData = train_test_split(trainvalData,test_size=0.3,stratify=trainvalData['object'])\n",
    "print(f\"Train Split: {trainData.shape[0]} ({(trainData.shape[0]/data.shape[0])*100:.2g}%), Val Split: {valData.shape[0]} ({(valData.shape[0]/data.shape[0])*100:.2g}%)\")"
   ]
  },
  {
   "cell_type": "code",
   "execution_count": 63,
   "metadata": {
    "id": "2efnT7viaik3"
   },
   "outputs": [
    {
     "name": "stdout",
     "output_type": "stream",
     "text": [
      "CPU times: total: 0 ns\n",
      "Wall time: 0 ns\n"
     ]
    }
   ],
   "source": [
    "%%time\n",
    "batch_size = 32\n",
    "\n",
    "dataLoad_train = DataLoader(trainData,batch_size=batch_size,shuffle=True)\n",
    "dataLoad_val = DataLoader(valData,batch_size=batch_size,shuffle=True)\n",
    "dataLoad_test = DataLoader(testData,batch_size=batch_size,shuffle=True)"
   ]
  },
  {
   "cell_type": "markdown",
   "metadata": {
    "id": "WNeddgjnaior"
   },
   "source": [
    "### Model Creation"
   ]
  },
  {
   "cell_type": "code",
   "execution_count": 64,
   "metadata": {},
   "outputs": [],
   "source": [
    "class sketchModel(nn.Module):\n",
    "    def __init__(self):\n",
    "        super(sketchModel, self).__init__()\n",
    "\n",
    "        self.features = nn.Sequential(\n",
    "            #Layer 1\n",
    "            nn.Linear(in_features=250, out_features=500),\n",
    "            nn.ReLU(inplace=True),\n",
    "\n",
    "            #Layer 2\n",
    "            nn.Linear(500, 1000),\n",
    "            nn.ReLU(inplace=True)\n",
    "            \n",
    "        )"
   ]
  },
  {
   "cell_type": "code",
   "execution_count": null,
   "metadata": {},
   "outputs": [],
   "source": []
  },
  {
   "cell_type": "code",
   "execution_count": null,
   "metadata": {},
   "outputs": [],
   "source": []
  },
  {
   "cell_type": "code",
   "execution_count": null,
   "metadata": {},
   "outputs": [],
   "source": []
  },
  {
   "cell_type": "code",
   "execution_count": null,
   "metadata": {
    "id": "GXYts2c9aiss"
   },
   "outputs": [],
   "source": []
  },
  {
   "cell_type": "code",
   "execution_count": null,
   "metadata": {
    "id": "GPITmW7Wqif7"
   },
   "outputs": [],
   "source": []
  },
  {
   "cell_type": "code",
   "execution_count": null,
   "metadata": {
    "id": "5MZvSYzwqiii"
   },
   "outputs": [],
   "source": []
  }
 ],
 "metadata": {
  "colab": {
   "authorship_tag": "ABX9TyPW8QAS/NEaxnZfLXIrwZNB",
   "include_colab_link": true,
   "provenance": []
  },
  "kernelspec": {
   "display_name": "Python 3 (ipykernel)",
   "language": "python",
   "name": "python3"
  },
  "language_info": {
   "codemirror_mode": {
    "name": "ipython",
    "version": 3
   },
   "file_extension": ".py",
   "mimetype": "text/x-python",
   "name": "python",
   "nbconvert_exporter": "python",
   "pygments_lexer": "ipython3",
   "version": "3.11.10"
  }
 },
 "nbformat": 4,
 "nbformat_minor": 4
}
