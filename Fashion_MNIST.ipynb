{
  "nbformat": 4,
  "nbformat_minor": 0,
  "metadata": {
    "colab": {
      "name": "Fashion_MNIST.ipynb",
      "provenance": [],
      "authorship_tag": "ABX9TyOFCVeb+i5GAaqef568OkvX",
      "include_colab_link": true
    },
    "kernelspec": {
      "name": "python3",
      "display_name": "Python 3"
    }
  },
  "cells": [
    {
      "cell_type": "markdown",
      "metadata": {
        "id": "view-in-github",
        "colab_type": "text"
      },
      "source": [
        "<a href=\"https://colab.research.google.com/github/AsutoshDalei/Deep-Neural-Networks/blob/master/Fashion_MNIST.ipynb\" target=\"_parent\"><img src=\"https://colab.research.google.com/assets/colab-badge.svg\" alt=\"Open In Colab\"/></a>"
      ]
    },
    {
      "cell_type": "code",
      "metadata": {
        "id": "45lqeps8aedK",
        "colab_type": "code",
        "colab": {}
      },
      "source": [
        "import numpy as np\n",
        "import tensorflow as tf\n",
        "import tensorflow_datasets as tfds\n",
        "import matplotlib.pyplot as plt"
      ],
      "execution_count": 0,
      "outputs": []
    },
    {
      "cell_type": "code",
      "metadata": {
        "id": "1gjAYzHhdu2N",
        "colab_type": "code",
        "colab": {}
      },
      "source": [
        "mdata=tfds.load(name='fashion_mnist',as_supervised=True)\n",
        "mtrain,mtest=mdata['train'],mdata['test']"
      ],
      "execution_count": 0,
      "outputs": []
    },
    {
      "cell_type": "code",
      "metadata": {
        "id": "M5RJuPiHdvjs",
        "colab_type": "code",
        "colab": {}
      },
      "source": [
        "def scaling(image,lable):\n",
        "  image=tf.cast(image,tf.float32)\n",
        "  image/=255.\n",
        "  return (image,lable)\n",
        "mtrain=mtrain.map(scaling)\n",
        "mtest=mtest.map(scaling)"
      ],
      "execution_count": 0,
      "outputs": []
    },
    {
      "cell_type": "code",
      "metadata": {
        "id": "RryBnKrGdvmz",
        "colab_type": "code",
        "colab": {}
      },
      "source": [
        "mtrain=mtrain.shuffle(2500)\n",
        "mtest=mtest.shuffle(2500)"
      ],
      "execution_count": 0,
      "outputs": []
    },
    {
      "cell_type": "code",
      "metadata": {
        "id": "cZRTyqbidvpk",
        "colab_type": "code",
        "colab": {}
      },
      "source": [
        "valdat=mtrain.take(15000)\n",
        "traindat=mtrain.skip(15000)\n",
        "valdat=valdat.batch(15000)\n",
        "traindat=traindat.batch(1000)\n",
        "testdat=mtest.batch(10000)"
      ],
      "execution_count": 0,
      "outputs": []
    },
    {
      "cell_type": "code",
      "metadata": {
        "id": "uONK3693dvsU",
        "colab_type": "code",
        "colab": {}
      },
      "source": [
        "valip,valtar=next(iter(valdat))"
      ],
      "execution_count": 0,
      "outputs": []
    },
    {
      "cell_type": "code",
      "metadata": {
        "id": "V17so_zZhzSC",
        "colab_type": "code",
        "colab": {}
      },
      "source": [
        "ipsize=28*28\n",
        "opsize=10"
      ],
      "execution_count": 0,
      "outputs": []
    },
    {
      "cell_type": "code",
      "metadata": {
        "id": "aMaaEp5DdvvM",
        "colab_type": "code",
        "colab": {}
      },
      "source": [
        "model=tf.keras.Sequential([\n",
        "                           tf.keras.layers.Flatten(input_shape=(28,28,1)),\n",
        "                           tf.keras.layers.Dense(500,activation='relu'),\n",
        "                           tf.keras.layers.Dense(250,activation='relu'),\n",
        "                           tf.keras.layers.Dense(150,activation='relu'),\n",
        "                           tf.keras.layers.Dense(10,activation='softmax')\n",
        "                          ])"
      ],
      "execution_count": 0,
      "outputs": []
    },
    {
      "cell_type": "code",
      "metadata": {
        "id": "ydQlM3mZdv0d",
        "colab_type": "code",
        "colab": {}
      },
      "source": [
        "model.compile(optimizer='adam',loss='sparse_categorical_crossentropy',metrics=['accuracy'])"
      ],
      "execution_count": 0,
      "outputs": []
    },
    {
      "cell_type": "code",
      "metadata": {
        "id": "Wi1TCfuBdv3p",
        "colab_type": "code",
        "colab": {
          "base_uri": "https://localhost:8080/",
          "height": 381
        },
        "outputId": "38fea52b-db3c-4dcd-92cf-065e0d045fa3"
      },
      "source": [
        "model.fit(traindat,validation_data=(valip,valtar),epochs=10,verbose=1)"
      ],
      "execution_count": 52,
      "outputs": [
        {
          "output_type": "stream",
          "text": [
            "Epoch 1/10\n",
            "45/45 [==============================] - 11s 251ms/step - loss: 0.7646 - accuracy: 0.7376 - val_loss: 0.4703 - val_accuracy: 0.8371\n",
            "Epoch 2/10\n",
            "45/45 [==============================] - 11s 249ms/step - loss: 0.4396 - accuracy: 0.8446 - val_loss: 0.4250 - val_accuracy: 0.8495\n",
            "Epoch 3/10\n",
            "45/45 [==============================] - 11s 251ms/step - loss: 0.3963 - accuracy: 0.8595 - val_loss: 0.3884 - val_accuracy: 0.8623\n",
            "Epoch 4/10\n",
            "45/45 [==============================] - 11s 246ms/step - loss: 0.3533 - accuracy: 0.8740 - val_loss: 0.3530 - val_accuracy: 0.8755\n",
            "Epoch 5/10\n",
            "45/45 [==============================] - 11s 253ms/step - loss: 0.3367 - accuracy: 0.8784 - val_loss: 0.3530 - val_accuracy: 0.8742\n",
            "Epoch 6/10\n",
            "45/45 [==============================] - 11s 245ms/step - loss: 0.3120 - accuracy: 0.8862 - val_loss: 0.3322 - val_accuracy: 0.8801\n",
            "Epoch 7/10\n",
            "45/45 [==============================] - 11s 252ms/step - loss: 0.2915 - accuracy: 0.8939 - val_loss: 0.3182 - val_accuracy: 0.8837\n",
            "Epoch 8/10\n",
            "45/45 [==============================] - 11s 250ms/step - loss: 0.2762 - accuracy: 0.8988 - val_loss: 0.3323 - val_accuracy: 0.8786\n",
            "Epoch 9/10\n",
            "45/45 [==============================] - 11s 247ms/step - loss: 0.2812 - accuracy: 0.8977 - val_loss: 0.3055 - val_accuracy: 0.8901\n",
            "Epoch 10/10\n",
            "45/45 [==============================] - 11s 254ms/step - loss: 0.2572 - accuracy: 0.9056 - val_loss: 0.3060 - val_accuracy: 0.8862\n"
          ],
          "name": "stdout"
        },
        {
          "output_type": "execute_result",
          "data": {
            "text/plain": [
              "<tensorflow.python.keras.callbacks.History at 0x7f9ae598bf28>"
            ]
          },
          "metadata": {
            "tags": []
          },
          "execution_count": 52
        }
      ]
    },
    {
      "cell_type": "code",
      "metadata": {
        "id": "W13cwlBJdv6d",
        "colab_type": "code",
        "colab": {
          "base_uri": "https://localhost:8080/",
          "height": 35
        },
        "outputId": "9e66a2b2-34e4-4412-fe6d-f4cc9fc5ac47"
      },
      "source": [
        "loss,acc=model.evaluate(testdat)"
      ],
      "execution_count": 53,
      "outputs": [
        {
          "output_type": "stream",
          "text": [
            "1/1 [==============================] - 0s 2ms/step - loss: 0.3439 - accuracy: 0.8751\n"
          ],
          "name": "stdout"
        }
      ]
    },
    {
      "cell_type": "code",
      "metadata": {
        "id": "hKw-pelAdv9j",
        "colab_type": "code",
        "colab": {}
      },
      "source": [
        ""
      ],
      "execution_count": 0,
      "outputs": []
    },
    {
      "cell_type": "code",
      "metadata": {
        "id": "k6i55z7ndvzC",
        "colab_type": "code",
        "colab": {}
      },
      "source": [
        ""
      ],
      "execution_count": 0,
      "outputs": []
    },
    {
      "cell_type": "code",
      "metadata": {
        "id": "7TZnciaZdvhF",
        "colab_type": "code",
        "colab": {}
      },
      "source": [
        ""
      ],
      "execution_count": 0,
      "outputs": []
    }
  ]
}