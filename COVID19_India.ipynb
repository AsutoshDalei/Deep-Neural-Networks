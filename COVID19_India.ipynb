{
  "nbformat": 4,
  "nbformat_minor": 0,
  "metadata": {
    "colab": {
      "name": "COVID19_India",
      "provenance": [],
      "collapsed_sections": [],
      "authorship_tag": "ABX9TyOzJQV6Ey0tnrZcZJWUF+7A",
      "include_colab_link": true
    },
    "kernelspec": {
      "name": "python3",
      "display_name": "Python 3"
    }
  },
  "cells": [
    {
      "cell_type": "markdown",
      "metadata": {
        "id": "view-in-github",
        "colab_type": "text"
      },
      "source": [
        "<a href=\"https://colab.research.google.com/github/AsutoshDalei/Deep-Neural-Networks/blob/master/COVID19_India.ipynb\" target=\"_parent\"><img src=\"https://colab.research.google.com/assets/colab-badge.svg\" alt=\"Open In Colab\"/></a>"
      ]
    },
    {
      "cell_type": "markdown",
      "metadata": {
        "id": "keoqyJZvVUjd",
        "colab_type": "text"
      },
      "source": [
        "# COVID 19 India dataset\n",
        "#### This dataset is provided by https://www.covid19india.org/\n",
        "Here, we attempt to understand how the number of Coronavirus cases increased in India and develop a model capable of predicting the future trend in number of cases.\n",
        "\n",
        "An intresting point here would be to note how India is on it's way in flattening the curve."
      ]
    },
    {
      "cell_type": "code",
      "metadata": {
        "id": "WmUNIj7mXa9C",
        "colab_type": "code",
        "outputId": "7a30b456-f993-44ef-88b2-d96c66238b73",
        "colab": {
          "base_uri": "https://localhost:8080/",
          "height": 72
        }
      },
      "source": [
        "import tensorflow as tf\n",
        "import numpy as np\n",
        "import pandas as pd\n",
        "import matplotlib.pyplot as plt\n",
        "%matplotlib inline\n",
        "import seaborn as sns\n",
        "from sklearn.preprocessing import minmax_scale, MinMaxScaler"
      ],
      "execution_count": 0,
      "outputs": [
        {
          "output_type": "stream",
          "text": [
            "/usr/local/lib/python3.6/dist-packages/statsmodels/tools/_testing.py:19: FutureWarning: pandas.util.testing is deprecated. Use the functions in the public API at pandas.testing instead.\n",
            "  import pandas.util.testing as tm\n"
          ],
          "name": "stderr"
        }
      ]
    },
    {
      "cell_type": "code",
      "metadata": {
        "id": "oz32kYcIXb8Q",
        "colab_type": "code",
        "outputId": "1cfbc67f-47f3-487f-8d50-9d1dc5526cf2",
        "colab": {
          "resources": {
            "http://localhost:8080/nbextensions/google.colab/files.js": {
              "data": "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",
              "ok": true,
              "headers": [
                [
                  "content-type",
                  "application/javascript"
                ]
              ],
              "status": 200,
              "status_text": ""
            }
          },
          "base_uri": "https://localhost:8080/",
          "height": 75
        }
      },
      "source": [
        "from google.colab import files\n",
        "import io\n",
        "\n",
        "uploaded = files.upload()"
      ],
      "execution_count": 0,
      "outputs": [
        {
          "output_type": "display_data",
          "data": {
            "text/html": [
              "\n",
              "     <input type=\"file\" id=\"files-9bbfef46-e1e5-4392-a583-9db75d0cf8ea\" name=\"files[]\" multiple disabled />\n",
              "     <output id=\"result-9bbfef46-e1e5-4392-a583-9db75d0cf8ea\">\n",
              "      Upload widget is only available when the cell has been executed in the\n",
              "      current browser session. Please rerun this cell to enable.\n",
              "      </output>\n",
              "      <script src=\"/nbextensions/google.colab/files.js\"></script> "
            ],
            "text/plain": [
              "<IPython.core.display.HTML object>"
            ]
          },
          "metadata": {
            "tags": []
          }
        },
        {
          "output_type": "stream",
          "text": [
            "Saving covidindia.csv to covidindia (1).csv\n"
          ],
          "name": "stdout"
        }
      ]
    },
    {
      "cell_type": "code",
      "metadata": {
        "id": "RmBWdls4Xqqw",
        "colab_type": "code",
        "outputId": "dcd0b9e1-c175-45c7-9314-c5a5b9307f98",
        "colab": {
          "base_uri": "https://localhost:8080/",
          "height": 757
        }
      },
      "source": [
        "df=pd.read_csv(io.BytesIO(uploaded['covidindia.csv']))\n",
        "df.head(10)"
      ],
      "execution_count": 0,
      "outputs": [
        {
          "output_type": "execute_result",
          "data": {
            "text/html": [
              "<div>\n",
              "<style scoped>\n",
              "    .dataframe tbody tr th:only-of-type {\n",
              "        vertical-align: middle;\n",
              "    }\n",
              "\n",
              "    .dataframe tbody tr th {\n",
              "        vertical-align: top;\n",
              "    }\n",
              "\n",
              "    .dataframe thead th {\n",
              "        text-align: right;\n",
              "    }\n",
              "</style>\n",
              "<table border=\"1\" class=\"dataframe\">\n",
              "  <thead>\n",
              "    <tr style=\"text-align: right;\">\n",
              "      <th></th>\n",
              "      <th>Patient Number</th>\n",
              "      <th>State Patient Number</th>\n",
              "      <th>Date Announced</th>\n",
              "      <th>Estimated Onset Date</th>\n",
              "      <th>Age Bracket</th>\n",
              "      <th>Gender</th>\n",
              "      <th>Detected City</th>\n",
              "      <th>Detected District</th>\n",
              "      <th>Detected State</th>\n",
              "      <th>State code</th>\n",
              "      <th>Current Status</th>\n",
              "      <th>Notes</th>\n",
              "      <th>Contracted from which Patient (Suspected)</th>\n",
              "      <th>Nationality</th>\n",
              "      <th>Type of transmission</th>\n",
              "      <th>Status Change Date</th>\n",
              "      <th>Source_1</th>\n",
              "      <th>Source_2</th>\n",
              "      <th>Source_3</th>\n",
              "      <th>Backup Notes</th>\n",
              "    </tr>\n",
              "  </thead>\n",
              "  <tbody>\n",
              "    <tr>\n",
              "      <th>0</th>\n",
              "      <td>1</td>\n",
              "      <td>KL-TS-P1</td>\n",
              "      <td>30/01/2020</td>\n",
              "      <td>NaN</td>\n",
              "      <td>20</td>\n",
              "      <td>F</td>\n",
              "      <td>Thrissur</td>\n",
              "      <td>Thrissur</td>\n",
              "      <td>Kerala</td>\n",
              "      <td>KL</td>\n",
              "      <td>Recovered</td>\n",
              "      <td>Travelled from Wuhan</td>\n",
              "      <td>NaN</td>\n",
              "      <td>India</td>\n",
              "      <td>Imported</td>\n",
              "      <td>14/02/2020</td>\n",
              "      <td>https://twitter.com/vijayanpinarayi/status/122...</td>\n",
              "      <td>https://weather.com/en-IN/india/news/news/2020...</td>\n",
              "      <td>NaN</td>\n",
              "      <td>Student from Wuhan</td>\n",
              "    </tr>\n",
              "    <tr>\n",
              "      <th>1</th>\n",
              "      <td>2</td>\n",
              "      <td>KL-AL-P1</td>\n",
              "      <td>02/02/2020</td>\n",
              "      <td>NaN</td>\n",
              "      <td>NaN</td>\n",
              "      <td>NaN</td>\n",
              "      <td>Alappuzha</td>\n",
              "      <td>Alappuzha</td>\n",
              "      <td>Kerala</td>\n",
              "      <td>KL</td>\n",
              "      <td>Recovered</td>\n",
              "      <td>Travelled from Wuhan</td>\n",
              "      <td>NaN</td>\n",
              "      <td>India</td>\n",
              "      <td>Imported</td>\n",
              "      <td>14/02/2020</td>\n",
              "      <td>https://www.indiatoday.in/india/story/kerala-r...</td>\n",
              "      <td>https://weather.com/en-IN/india/news/news/2020...</td>\n",
              "      <td>NaN</td>\n",
              "      <td>Student from Wuhan</td>\n",
              "    </tr>\n",
              "    <tr>\n",
              "      <th>2</th>\n",
              "      <td>3</td>\n",
              "      <td>KL-KS-P1</td>\n",
              "      <td>03/02/2020</td>\n",
              "      <td>NaN</td>\n",
              "      <td>NaN</td>\n",
              "      <td>NaN</td>\n",
              "      <td>Kasaragod</td>\n",
              "      <td>Kasaragod</td>\n",
              "      <td>Kerala</td>\n",
              "      <td>KL</td>\n",
              "      <td>Recovered</td>\n",
              "      <td>Travelled from Wuhan</td>\n",
              "      <td>NaN</td>\n",
              "      <td>India</td>\n",
              "      <td>Imported</td>\n",
              "      <td>14/02/2020</td>\n",
              "      <td>https://www.indiatoday.in/india/story/kerala-n...</td>\n",
              "      <td>https://twitter.com/ANI/status/122422148580539...</td>\n",
              "      <td>https://weather.com/en-IN/india/news/news/2020...</td>\n",
              "      <td>Student from Wuhan</td>\n",
              "    </tr>\n",
              "    <tr>\n",
              "      <th>3</th>\n",
              "      <td>4</td>\n",
              "      <td>DL-P1</td>\n",
              "      <td>02/03/2020</td>\n",
              "      <td>NaN</td>\n",
              "      <td>45</td>\n",
              "      <td>M</td>\n",
              "      <td>East Delhi (Mayur Vihar)</td>\n",
              "      <td>East Delhi</td>\n",
              "      <td>Delhi</td>\n",
              "      <td>DL</td>\n",
              "      <td>Recovered</td>\n",
              "      <td>Travelled from Austria, Italy</td>\n",
              "      <td>NaN</td>\n",
              "      <td>India</td>\n",
              "      <td>Imported</td>\n",
              "      <td>15/03/2020</td>\n",
              "      <td>https://www.indiatoday.in/india/story/not-a-ja...</td>\n",
              "      <td>https://economictimes.indiatimes.com/news/poli...</td>\n",
              "      <td>NaN</td>\n",
              "      <td>Travel history to Italy and Austria</td>\n",
              "    </tr>\n",
              "    <tr>\n",
              "      <th>4</th>\n",
              "      <td>5</td>\n",
              "      <td>TS-P1</td>\n",
              "      <td>02/03/2020</td>\n",
              "      <td>NaN</td>\n",
              "      <td>24</td>\n",
              "      <td>M</td>\n",
              "      <td>Hyderabad</td>\n",
              "      <td>Hyderabad</td>\n",
              "      <td>Telangana</td>\n",
              "      <td>TG</td>\n",
              "      <td>Recovered</td>\n",
              "      <td>Travelled from Dubai to Bangalore on 20th Feb,...</td>\n",
              "      <td>NaN</td>\n",
              "      <td>India</td>\n",
              "      <td>Imported</td>\n",
              "      <td>02/03/2020</td>\n",
              "      <td>https://www.deccanherald.com/national/south/qu...</td>\n",
              "      <td>https://www.indiatoday.in/india/story/coronavi...</td>\n",
              "      <td>https://www.thehindu.com/news/national/coronav...</td>\n",
              "      <td>Travel history to Dubai, Singapore contact</td>\n",
              "    </tr>\n",
              "    <tr>\n",
              "      <th>5</th>\n",
              "      <td>6</td>\n",
              "      <td>NaN</td>\n",
              "      <td>03/03/2020</td>\n",
              "      <td>NaN</td>\n",
              "      <td>69</td>\n",
              "      <td>M</td>\n",
              "      <td>Jaipur</td>\n",
              "      <td>Italians*</td>\n",
              "      <td>Rajasthan</td>\n",
              "      <td>RJ</td>\n",
              "      <td>Recovered</td>\n",
              "      <td>Travelled from Italy</td>\n",
              "      <td>NaN</td>\n",
              "      <td>Italy</td>\n",
              "      <td>Imported</td>\n",
              "      <td>03/03/2020</td>\n",
              "      <td>https://indianexpress.com/article/india/corona...</td>\n",
              "      <td>https://economictimes.indiatimes.com/news/poli...</td>\n",
              "      <td>https://twitter.com/PTI_News/status/1240878975...</td>\n",
              "      <td>Italian tourist</td>\n",
              "    </tr>\n",
              "    <tr>\n",
              "      <th>6</th>\n",
              "      <td>7</td>\n",
              "      <td>NaN</td>\n",
              "      <td>04/03/2020</td>\n",
              "      <td>NaN</td>\n",
              "      <td>55</td>\n",
              "      <td>NaN</td>\n",
              "      <td>Gurugram</td>\n",
              "      <td>Italians*</td>\n",
              "      <td>Haryana</td>\n",
              "      <td>HR</td>\n",
              "      <td>Recovered</td>\n",
              "      <td>Travelled from Italy</td>\n",
              "      <td>P6</td>\n",
              "      <td>Italy</td>\n",
              "      <td>Imported</td>\n",
              "      <td>29/03/2020</td>\n",
              "      <td>https://indianexpress.com/article/india/corona...</td>\n",
              "      <td>https://www.indiatoday.in/india/story/coronavi...</td>\n",
              "      <td>NaN</td>\n",
              "      <td>Italian tourist</td>\n",
              "    </tr>\n",
              "    <tr>\n",
              "      <th>7</th>\n",
              "      <td>8</td>\n",
              "      <td>NaN</td>\n",
              "      <td>04/03/2020</td>\n",
              "      <td>NaN</td>\n",
              "      <td>55</td>\n",
              "      <td>NaN</td>\n",
              "      <td>Gurugram</td>\n",
              "      <td>Italians*</td>\n",
              "      <td>Haryana</td>\n",
              "      <td>HR</td>\n",
              "      <td>Recovered</td>\n",
              "      <td>Travelled from Italy</td>\n",
              "      <td>P6</td>\n",
              "      <td>Italy</td>\n",
              "      <td>Imported</td>\n",
              "      <td>29/03/2020</td>\n",
              "      <td>https://indianexpress.com/article/india/corona...</td>\n",
              "      <td>https://www.indiatoday.in/india/story/coronavi...</td>\n",
              "      <td>NaN</td>\n",
              "      <td>Italian tourist</td>\n",
              "    </tr>\n",
              "    <tr>\n",
              "      <th>8</th>\n",
              "      <td>9</td>\n",
              "      <td>NaN</td>\n",
              "      <td>04/03/2020</td>\n",
              "      <td>NaN</td>\n",
              "      <td>55</td>\n",
              "      <td>NaN</td>\n",
              "      <td>Gurugram</td>\n",
              "      <td>Italians*</td>\n",
              "      <td>Haryana</td>\n",
              "      <td>HR</td>\n",
              "      <td>Recovered</td>\n",
              "      <td>Travelled from Italy</td>\n",
              "      <td>P6</td>\n",
              "      <td>Italy</td>\n",
              "      <td>Imported</td>\n",
              "      <td>29/03/2020</td>\n",
              "      <td>https://indianexpress.com/article/india/corona...</td>\n",
              "      <td>https://www.indiatoday.in/india/story/coronavi...</td>\n",
              "      <td>NaN</td>\n",
              "      <td>Italian tourist</td>\n",
              "    </tr>\n",
              "    <tr>\n",
              "      <th>9</th>\n",
              "      <td>10</td>\n",
              "      <td>NaN</td>\n",
              "      <td>04/03/2020</td>\n",
              "      <td>NaN</td>\n",
              "      <td>55</td>\n",
              "      <td>NaN</td>\n",
              "      <td>Gurugram</td>\n",
              "      <td>Italians*</td>\n",
              "      <td>Haryana</td>\n",
              "      <td>HR</td>\n",
              "      <td>Recovered</td>\n",
              "      <td>Travelled from Italy</td>\n",
              "      <td>P6</td>\n",
              "      <td>Italy</td>\n",
              "      <td>Imported</td>\n",
              "      <td>29/03/2020</td>\n",
              "      <td>https://indianexpress.com/article/india/corona...</td>\n",
              "      <td>https://www.indiatoday.in/india/story/coronavi...</td>\n",
              "      <td>NaN</td>\n",
              "      <td>Italian tourist</td>\n",
              "    </tr>\n",
              "  </tbody>\n",
              "</table>\n",
              "</div>"
            ],
            "text/plain": [
              "   Patient Number  ...                                Backup Notes\n",
              "0               1  ...                          Student from Wuhan\n",
              "1               2  ...                          Student from Wuhan\n",
              "2               3  ...                          Student from Wuhan\n",
              "3               4  ...         Travel history to Italy and Austria\n",
              "4               5  ...  Travel history to Dubai, Singapore contact\n",
              "5               6  ...                             Italian tourist\n",
              "6               7  ...                             Italian tourist\n",
              "7               8  ...                             Italian tourist\n",
              "8               9  ...                             Italian tourist\n",
              "9              10  ...                             Italian tourist\n",
              "\n",
              "[10 rows x 20 columns]"
            ]
          },
          "metadata": {
            "tags": []
          },
          "execution_count": 4
        }
      ]
    },
    {
      "cell_type": "markdown",
      "metadata": {
        "id": "7ubWPnFqWHTN",
        "colab_type": "text"
      },
      "source": [
        "**We are focussing only on the number of cases in the entire country**"
      ]
    },
    {
      "cell_type": "code",
      "metadata": {
        "id": "eAIxT4-PXz8M",
        "colab_type": "code",
        "outputId": "6f09047e-6bc5-44ab-a01f-2c4f0dc3a10e",
        "colab": {
          "base_uri": "https://localhost:8080/",
          "height": 347
        }
      },
      "source": [
        "cols=['Nationality','Detected State','Current Status','Type of transmission']\n",
        "for i in range(len(cols)):\n",
        "  print('Unique instances in '+cols[i]+':')\n",
        "  print(pd.unique(df[cols[i]]))\n",
        "  print()"
      ],
      "execution_count": 0,
      "outputs": [
        {
          "output_type": "stream",
          "text": [
            "Unique instances in Nationality:\n",
            "['India' 'Italy' 'Canada' 'United Kingdom' 'Phillipines' 'Indonesia' nan\n",
            " 'Thailand' 'United States of America' 'Tibet' 'Malaysia' 'Myanmar']\n",
            "\n",
            "Unique instances in Detected State:\n",
            "['Kerala' 'Delhi' 'Telangana' 'Rajasthan' 'Haryana' 'Uttar Pradesh'\n",
            " 'Ladakh' 'Tamil Nadu' 'Jammu and Kashmir' 'Karnataka' 'Maharashtra'\n",
            " 'Punjab' 'Andhra Pradesh' 'Uttarakhand' 'Odisha' 'Puducherry'\n",
            " 'West Bengal' 'Chandigarh' 'Chhattisgarh' 'Gujarat' 'Himachal Pradesh'\n",
            " 'Madhya Pradesh' 'Bihar' 'Manipur' 'Mizoram' 'Goa'\n",
            " 'Andaman and Nicobar Islands' 'Jharkhand' 'Assam' 'Arunachal Pradesh' nan\n",
            " 'Tripura' 'Meghalaya']\n",
            "\n",
            "Unique instances in Current Status:\n",
            "['Recovered' 'Hospitalized' 'Deceased' 'Migrated']\n",
            "\n",
            "Unique instances in Type of transmission:\n",
            "['Imported' 'Local' 'TBD' nan 'Imported ' 'Unknown']\n",
            "\n"
          ],
          "name": "stdout"
        }
      ]
    },
    {
      "cell_type": "code",
      "metadata": {
        "id": "AO68QefIXz-m",
        "colab_type": "code",
        "outputId": "d485fbb4-93d0-4717-ff6b-8bb23f1d3af9",
        "colab": {
          "base_uri": "https://localhost:8080/",
          "height": 121
        }
      },
      "source": [
        "df[df['Date Announced'].isnull()]"
      ],
      "execution_count": 0,
      "outputs": [
        {
          "output_type": "execute_result",
          "data": {
            "text/html": [
              "<div>\n",
              "<style scoped>\n",
              "    .dataframe tbody tr th:only-of-type {\n",
              "        vertical-align: middle;\n",
              "    }\n",
              "\n",
              "    .dataframe tbody tr th {\n",
              "        vertical-align: top;\n",
              "    }\n",
              "\n",
              "    .dataframe thead th {\n",
              "        text-align: right;\n",
              "    }\n",
              "</style>\n",
              "<table border=\"1\" class=\"dataframe\">\n",
              "  <thead>\n",
              "    <tr style=\"text-align: right;\">\n",
              "      <th></th>\n",
              "      <th>Patient Number</th>\n",
              "      <th>State Patient Number</th>\n",
              "      <th>Date Announced</th>\n",
              "      <th>Estimated Onset Date</th>\n",
              "      <th>Age Bracket</th>\n",
              "      <th>Gender</th>\n",
              "      <th>Detected City</th>\n",
              "      <th>Detected District</th>\n",
              "      <th>Detected State</th>\n",
              "      <th>State code</th>\n",
              "      <th>Current Status</th>\n",
              "      <th>Notes</th>\n",
              "      <th>Contracted from which Patient (Suspected)</th>\n",
              "      <th>Nationality</th>\n",
              "      <th>Type of transmission</th>\n",
              "      <th>Status Change Date</th>\n",
              "      <th>Source_1</th>\n",
              "      <th>Source_2</th>\n",
              "      <th>Source_3</th>\n",
              "      <th>Backup Notes</th>\n",
              "    </tr>\n",
              "  </thead>\n",
              "  <tbody>\n",
              "  </tbody>\n",
              "</table>\n",
              "</div>"
            ],
            "text/plain": [
              "Empty DataFrame\n",
              "Columns: [Patient Number, State Patient Number, Date Announced, Estimated Onset Date, Age Bracket, Gender, Detected City, Detected District, Detected State, State code, Current Status, Notes, Contracted from which Patient (Suspected), Nationality, Type of transmission, Status Change Date, Source_1, Source_2, Source_3, Backup Notes]\n",
              "Index: []"
            ]
          },
          "metadata": {
            "tags": []
          },
          "execution_count": 6
        }
      ]
    },
    {
      "cell_type": "markdown",
      "metadata": {
        "id": "lqAdB4uIWu2i",
        "colab_type": "text"
      },
      "source": [
        "### We convert the date provided in our dataset into to a Pandas time stamp format"
      ]
    },
    {
      "cell_type": "code",
      "metadata": {
        "id": "wmGiLVVPX0BC",
        "colab_type": "code",
        "outputId": "dc098ae2-e2f3-4933-ef84-5e8da9875b03",
        "colab": {
          "base_uri": "https://localhost:8080/",
          "height": 559
        }
      },
      "source": [
        "df1=df[['Patient Number','Nationality','Detected State','Current Status','Type of transmission','Date Announced']]\n",
        "\n",
        "for i in range(df.shape[0]):\n",
        "  df1['Date Announced'][i]=pd.to_datetime(df['Date Announced'][i], format='%d/%m/%Y')\n",
        "df1.set_index('Date Announced',inplace=True)\n",
        "df1.head(10)"
      ],
      "execution_count": 0,
      "outputs": [
        {
          "output_type": "stream",
          "text": [
            "/usr/local/lib/python3.6/dist-packages/ipykernel_launcher.py:4: SettingWithCopyWarning: \n",
            "A value is trying to be set on a copy of a slice from a DataFrame\n",
            "\n",
            "See the caveats in the documentation: https://pandas.pydata.org/pandas-docs/stable/user_guide/indexing.html#returning-a-view-versus-a-copy\n",
            "  after removing the cwd from sys.path.\n",
            "/usr/local/lib/python3.6/dist-packages/IPython/core/interactiveshell.py:2882: SettingWithCopyWarning: \n",
            "A value is trying to be set on a copy of a slice from a DataFrame\n",
            "\n",
            "See the caveats in the documentation: https://pandas.pydata.org/pandas-docs/stable/user_guide/indexing.html#returning-a-view-versus-a-copy\n",
            "  exec(code_obj, self.user_global_ns, self.user_ns)\n"
          ],
          "name": "stderr"
        },
        {
          "output_type": "execute_result",
          "data": {
            "text/html": [
              "<div>\n",
              "<style scoped>\n",
              "    .dataframe tbody tr th:only-of-type {\n",
              "        vertical-align: middle;\n",
              "    }\n",
              "\n",
              "    .dataframe tbody tr th {\n",
              "        vertical-align: top;\n",
              "    }\n",
              "\n",
              "    .dataframe thead th {\n",
              "        text-align: right;\n",
              "    }\n",
              "</style>\n",
              "<table border=\"1\" class=\"dataframe\">\n",
              "  <thead>\n",
              "    <tr style=\"text-align: right;\">\n",
              "      <th></th>\n",
              "      <th>Patient Number</th>\n",
              "      <th>Nationality</th>\n",
              "      <th>Detected State</th>\n",
              "      <th>Current Status</th>\n",
              "      <th>Type of transmission</th>\n",
              "    </tr>\n",
              "    <tr>\n",
              "      <th>Date Announced</th>\n",
              "      <th></th>\n",
              "      <th></th>\n",
              "      <th></th>\n",
              "      <th></th>\n",
              "      <th></th>\n",
              "    </tr>\n",
              "  </thead>\n",
              "  <tbody>\n",
              "    <tr>\n",
              "      <th>2020-01-30</th>\n",
              "      <td>1</td>\n",
              "      <td>India</td>\n",
              "      <td>Kerala</td>\n",
              "      <td>Recovered</td>\n",
              "      <td>Imported</td>\n",
              "    </tr>\n",
              "    <tr>\n",
              "      <th>2020-02-02</th>\n",
              "      <td>2</td>\n",
              "      <td>India</td>\n",
              "      <td>Kerala</td>\n",
              "      <td>Recovered</td>\n",
              "      <td>Imported</td>\n",
              "    </tr>\n",
              "    <tr>\n",
              "      <th>2020-02-03</th>\n",
              "      <td>3</td>\n",
              "      <td>India</td>\n",
              "      <td>Kerala</td>\n",
              "      <td>Recovered</td>\n",
              "      <td>Imported</td>\n",
              "    </tr>\n",
              "    <tr>\n",
              "      <th>2020-03-02</th>\n",
              "      <td>4</td>\n",
              "      <td>India</td>\n",
              "      <td>Delhi</td>\n",
              "      <td>Recovered</td>\n",
              "      <td>Imported</td>\n",
              "    </tr>\n",
              "    <tr>\n",
              "      <th>2020-03-02</th>\n",
              "      <td>5</td>\n",
              "      <td>India</td>\n",
              "      <td>Telangana</td>\n",
              "      <td>Recovered</td>\n",
              "      <td>Imported</td>\n",
              "    </tr>\n",
              "    <tr>\n",
              "      <th>2020-03-03</th>\n",
              "      <td>6</td>\n",
              "      <td>Italy</td>\n",
              "      <td>Rajasthan</td>\n",
              "      <td>Recovered</td>\n",
              "      <td>Imported</td>\n",
              "    </tr>\n",
              "    <tr>\n",
              "      <th>2020-03-04</th>\n",
              "      <td>7</td>\n",
              "      <td>Italy</td>\n",
              "      <td>Haryana</td>\n",
              "      <td>Recovered</td>\n",
              "      <td>Imported</td>\n",
              "    </tr>\n",
              "    <tr>\n",
              "      <th>2020-03-04</th>\n",
              "      <td>8</td>\n",
              "      <td>Italy</td>\n",
              "      <td>Haryana</td>\n",
              "      <td>Recovered</td>\n",
              "      <td>Imported</td>\n",
              "    </tr>\n",
              "    <tr>\n",
              "      <th>2020-03-04</th>\n",
              "      <td>9</td>\n",
              "      <td>Italy</td>\n",
              "      <td>Haryana</td>\n",
              "      <td>Recovered</td>\n",
              "      <td>Imported</td>\n",
              "    </tr>\n",
              "    <tr>\n",
              "      <th>2020-03-04</th>\n",
              "      <td>10</td>\n",
              "      <td>Italy</td>\n",
              "      <td>Haryana</td>\n",
              "      <td>Recovered</td>\n",
              "      <td>Imported</td>\n",
              "    </tr>\n",
              "  </tbody>\n",
              "</table>\n",
              "</div>"
            ],
            "text/plain": [
              "                Patient Number Nationality  ... Current Status Type of transmission\n",
              "Date Announced                              ...                                    \n",
              "2020-01-30                   1       India  ...      Recovered             Imported\n",
              "2020-02-02                   2       India  ...      Recovered             Imported\n",
              "2020-02-03                   3       India  ...      Recovered             Imported\n",
              "2020-03-02                   4       India  ...      Recovered             Imported\n",
              "2020-03-02                   5       India  ...      Recovered             Imported\n",
              "2020-03-03                   6       Italy  ...      Recovered             Imported\n",
              "2020-03-04                   7       Italy  ...      Recovered             Imported\n",
              "2020-03-04                   8       Italy  ...      Recovered             Imported\n",
              "2020-03-04                   9       Italy  ...      Recovered             Imported\n",
              "2020-03-04                  10       Italy  ...      Recovered             Imported\n",
              "\n",
              "[10 rows x 5 columns]"
            ]
          },
          "metadata": {
            "tags": []
          },
          "execution_count": 7
        }
      ]
    },
    {
      "cell_type": "markdown",
      "metadata": {
        "id": "mG9I6bMWXCNt",
        "colab_type": "text"
      },
      "source": [
        "#### Here we define a column 'ones' beside every instance of our data"
      ]
    },
    {
      "cell_type": "code",
      "metadata": {
        "id": "oyneu8KoqS30",
        "colab_type": "code",
        "outputId": "d6de4760-e811-4459-dac9-39f6b0643c2d",
        "colab": {
          "base_uri": "https://localhost:8080/",
          "height": 337
        }
      },
      "source": [
        "df1['ones']=np.ones(df1.shape[0])\n",
        "df1.head()"
      ],
      "execution_count": 0,
      "outputs": [
        {
          "output_type": "stream",
          "text": [
            "/usr/local/lib/python3.6/dist-packages/ipykernel_launcher.py:1: SettingWithCopyWarning: \n",
            "A value is trying to be set on a copy of a slice from a DataFrame.\n",
            "Try using .loc[row_indexer,col_indexer] = value instead\n",
            "\n",
            "See the caveats in the documentation: https://pandas.pydata.org/pandas-docs/stable/user_guide/indexing.html#returning-a-view-versus-a-copy\n",
            "  \"\"\"Entry point for launching an IPython kernel.\n"
          ],
          "name": "stderr"
        },
        {
          "output_type": "execute_result",
          "data": {
            "text/html": [
              "<div>\n",
              "<style scoped>\n",
              "    .dataframe tbody tr th:only-of-type {\n",
              "        vertical-align: middle;\n",
              "    }\n",
              "\n",
              "    .dataframe tbody tr th {\n",
              "        vertical-align: top;\n",
              "    }\n",
              "\n",
              "    .dataframe thead th {\n",
              "        text-align: right;\n",
              "    }\n",
              "</style>\n",
              "<table border=\"1\" class=\"dataframe\">\n",
              "  <thead>\n",
              "    <tr style=\"text-align: right;\">\n",
              "      <th></th>\n",
              "      <th>Patient Number</th>\n",
              "      <th>Nationality</th>\n",
              "      <th>Detected State</th>\n",
              "      <th>Current Status</th>\n",
              "      <th>Type of transmission</th>\n",
              "      <th>ones</th>\n",
              "    </tr>\n",
              "    <tr>\n",
              "      <th>Date Announced</th>\n",
              "      <th></th>\n",
              "      <th></th>\n",
              "      <th></th>\n",
              "      <th></th>\n",
              "      <th></th>\n",
              "      <th></th>\n",
              "    </tr>\n",
              "  </thead>\n",
              "  <tbody>\n",
              "    <tr>\n",
              "      <th>2020-01-30</th>\n",
              "      <td>1</td>\n",
              "      <td>India</td>\n",
              "      <td>Kerala</td>\n",
              "      <td>Recovered</td>\n",
              "      <td>Imported</td>\n",
              "      <td>1.0</td>\n",
              "    </tr>\n",
              "    <tr>\n",
              "      <th>2020-02-02</th>\n",
              "      <td>2</td>\n",
              "      <td>India</td>\n",
              "      <td>Kerala</td>\n",
              "      <td>Recovered</td>\n",
              "      <td>Imported</td>\n",
              "      <td>1.0</td>\n",
              "    </tr>\n",
              "    <tr>\n",
              "      <th>2020-02-03</th>\n",
              "      <td>3</td>\n",
              "      <td>India</td>\n",
              "      <td>Kerala</td>\n",
              "      <td>Recovered</td>\n",
              "      <td>Imported</td>\n",
              "      <td>1.0</td>\n",
              "    </tr>\n",
              "    <tr>\n",
              "      <th>2020-03-02</th>\n",
              "      <td>4</td>\n",
              "      <td>India</td>\n",
              "      <td>Delhi</td>\n",
              "      <td>Recovered</td>\n",
              "      <td>Imported</td>\n",
              "      <td>1.0</td>\n",
              "    </tr>\n",
              "    <tr>\n",
              "      <th>2020-03-02</th>\n",
              "      <td>5</td>\n",
              "      <td>India</td>\n",
              "      <td>Telangana</td>\n",
              "      <td>Recovered</td>\n",
              "      <td>Imported</td>\n",
              "      <td>1.0</td>\n",
              "    </tr>\n",
              "  </tbody>\n",
              "</table>\n",
              "</div>"
            ],
            "text/plain": [
              "                Patient Number Nationality  ... Type of transmission ones\n",
              "Date Announced                              ...                          \n",
              "2020-01-30                   1       India  ...             Imported  1.0\n",
              "2020-02-02                   2       India  ...             Imported  1.0\n",
              "2020-02-03                   3       India  ...             Imported  1.0\n",
              "2020-03-02                   4       India  ...             Imported  1.0\n",
              "2020-03-02                   5       India  ...             Imported  1.0\n",
              "\n",
              "[5 rows x 6 columns]"
            ]
          },
          "metadata": {
            "tags": []
          },
          "execution_count": 8
        }
      ]
    },
    {
      "cell_type": "markdown",
      "metadata": {
        "id": "i6zkp2PbXRYq",
        "colab_type": "text"
      },
      "source": [
        "### We then resample our data.\n",
        "#### We obtain two dataframes, 'dfone' and 'dfcu'.\n",
        "'dfone' contains the number of new cases each day while 'dfcu' contains the total number of cases every single day."
      ]
    },
    {
      "cell_type": "code",
      "metadata": {
        "id": "qnVn1VCvnAUf",
        "colab_type": "code",
        "outputId": "db57fff0-c405-4b61-fca3-772ca1d7f263",
        "colab": {
          "base_uri": "https://localhost:8080/",
          "height": 104
        }
      },
      "source": [
        "dfone=df1['ones'].resample('D').sum()\n",
        "dfcu=dfone.cumsum()\n",
        "dfone.tail(3)"
      ],
      "execution_count": 0,
      "outputs": [
        {
          "output_type": "execute_result",
          "data": {
            "text/plain": [
              "Date Announced\n",
              "2020-04-24    1408.0\n",
              "2020-04-25    1835.0\n",
              "2020-04-26    1607.0\n",
              "Freq: D, Name: ones, dtype: float64"
            ]
          },
          "metadata": {
            "tags": []
          },
          "execution_count": 9
        }
      ]
    },
    {
      "cell_type": "markdown",
      "metadata": {
        "id": "YXKiPegeX9xh",
        "colab_type": "text"
      },
      "source": [
        "**Visualizing our newly obtained data**"
      ]
    },
    {
      "cell_type": "code",
      "metadata": {
        "id": "lIFg1ZxXoe1Z",
        "colab_type": "code",
        "outputId": "cb88fc75-92f3-458b-85c1-d746e77d6214",
        "colab": {
          "base_uri": "https://localhost:8080/",
          "height": 807
        }
      },
      "source": [
        "_,_=plt.subplots(figsize=(20,15))\n",
        "plt.subplot(3,1,1)\n",
        "sns.barplot(x=dfone.index,y=dfone)\n",
        "plt.xlabel('Date')\n",
        "plt.ylabel('Cases per day')\n",
        "plt.title('Number of cases per day')\n",
        "\n",
        "plt.subplot(3,1,2)\n",
        "sns.lineplot(x=dfcu.index,y=dfcu)\n",
        "plt.xlabel('Date')\n",
        "plt.ylabel('Total Cases each day')\n",
        "plt.title('Total number of cases each day')\n",
        "\n",
        "plt.subplot(3,1,3)\n",
        "sns.barplot(x=dfcu.index,y=dfcu)\n",
        "plt.xlabel('Date')\n",
        "plt.ylabel('Total Cases each day')\n",
        "plt.title('Total number of cases each day')\n",
        "\n",
        "plt.show()"
      ],
      "execution_count": 0,
      "outputs": [
        {
          "output_type": "display_data",
          "data": {
            "image/png": "[encoded data removed]",
            "text/plain": [
              "<Figure size 1440x1080 with 3 Axes>"
            ]
          },
          "metadata": {
            "tags": [],
            "needs_background": "light"
          }
        }
      ]
    },
    {
      "cell_type": "markdown",
      "metadata": {
        "id": "nPqp8QptYXxl",
        "colab_type": "text"
      },
      "source": [
        "**We now prepare our data for training and testing**\n",
        "\n",
        "We can either consider new cases per day, or cumulative cases each day."
      ]
    },
    {
      "cell_type": "code",
      "metadata": {
        "id": "S2ZzzPx-hntC",
        "colab_type": "code",
        "outputId": "2ae72088-435c-4453-b9e1-fe9e999199cb",
        "colab": {
          "base_uri": "https://localhost:8080/",
          "height": 35
        }
      },
      "source": [
        "#traindata=dfone.loc[:'2020-04-13']\n",
        "#testdata=dfone.loc['2020-04-10':]\n",
        "\n",
        "traindata=dfcu.loc[:'2020-04-13']\n",
        "testdata=dfcu.loc['2020-04-10':]\n",
        "\n",
        "#scatraindata=minmax_scale(X=traindata1)\n",
        "len(testdata)"
      ],
      "execution_count": 0,
      "outputs": [
        {
          "output_type": "execute_result",
          "data": {
            "text/plain": [
              "17"
            ]
          },
          "metadata": {
            "tags": []
          },
          "execution_count": 11
        }
      ]
    },
    {
      "cell_type": "markdown",
      "metadata": {
        "id": "iPahgUvoZNYl",
        "colab_type": "text"
      },
      "source": [
        "Since we cannot use MinMaxScaler by Scikit on 1D data, we define a function on our own to do so. \n",
        "\n",
        "We use the basic formula for scaling:\n",
        "\n",
        "![image.png](data:image/png;base64,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)\n",
        "\n",
        "This is followed by defining another functio that would chunk our data into xtrain, ytrain, xtest and ytest resectively\n"
      ]
    },
    {
      "cell_type": "code",
      "metadata": {
        "id": "Om_Z5Q39xTbU",
        "colab_type": "code",
        "colab": {}
      },
      "source": [
        "def minmaxsca(data):\n",
        "  l=[]\n",
        "  for i in range(len(data)):\n",
        "    l.append((data[i]-min(data))/(max(data)-min(data)))\n",
        "  return l\n",
        "\n",
        "scatraindata=minmaxsca(traindata)\n",
        "scatestdata=minmaxsca(testdata)\n",
        "\n",
        "def chunk(data,a):\n",
        "  x,y=[],[]\n",
        "  for i in range(a,len(data)):\n",
        "    x.append(data[i-a:i])\n",
        "    y.append(data[i])\n",
        "  return(np.array(x),np.array(y))\n"
      ],
      "execution_count": 0,
      "outputs": []
    },
    {
      "cell_type": "code",
      "metadata": {
        "id": "USZj8Cie-w2Z",
        "colab_type": "code",
        "outputId": "bfd1b4ef-af71-4d30-8956-99b3c8b12abc",
        "colab": {
          "base_uri": "https://localhost:8080/",
          "height": 347
        }
      },
      "source": [
        "testdata"
      ],
      "execution_count": 0,
      "outputs": [
        {
          "output_type": "execute_result",
          "data": {
            "text/plain": [
              "Date Announced\n",
              "2020-04-10     7600.0\n",
              "2020-04-11     8454.0\n",
              "2020-04-12     9212.0\n",
              "2020-04-13    10455.0\n",
              "2020-04-14    11486.0\n",
              "2020-04-15    12372.0\n",
              "2020-04-16    13433.0\n",
              "2020-04-17    14355.0\n",
              "2020-04-18    15726.0\n",
              "2020-04-19    17306.0\n",
              "2020-04-20    18545.0\n",
              "2020-04-21    20082.0\n",
              "2020-04-22    21374.0\n",
              "2020-04-23    23041.0\n",
              "2020-04-24    24449.0\n",
              "2020-04-25    26284.0\n",
              "2020-04-26    27891.0\n",
              "Freq: D, Name: ones, dtype: float64"
            ]
          },
          "metadata": {
            "tags": []
          },
          "execution_count": 13
        }
      ]
    },
    {
      "cell_type": "markdown",
      "metadata": {
        "id": "OIZl31LIbCgC",
        "colab_type": "text"
      },
      "source": [
        "**We reshape our xtrain since LSTM model take 3D arrays as inputs**"
      ]
    },
    {
      "cell_type": "code",
      "metadata": {
        "id": "6X3UmmTQtUMc",
        "colab_type": "code",
        "outputId": "17b9f476-dd4f-4eb3-b801-f3e516b83a81",
        "colab": {
          "base_uri": "https://localhost:8080/",
          "height": 52
        }
      },
      "source": [
        "xtrain,ytrain=chunk(scatraindata,3)\n",
        "xtrain=xtrain.reshape(72,3,1)\n",
        "print(xtrain.shape)\n",
        "ytrain.shape"
      ],
      "execution_count": 0,
      "outputs": [
        {
          "output_type": "stream",
          "text": [
            "(72, 3, 1)\n"
          ],
          "name": "stdout"
        },
        {
          "output_type": "execute_result",
          "data": {
            "text/plain": [
              "(72,)"
            ]
          },
          "metadata": {
            "tags": []
          },
          "execution_count": 14
        }
      ]
    },
    {
      "cell_type": "markdown",
      "metadata": {
        "id": "MdM4IXtMaSz1",
        "colab_type": "text"
      },
      "source": [
        "**Defining a LSTM model here**"
      ]
    },
    {
      "cell_type": "code",
      "metadata": {
        "id": "tYNZ2e9htUP3",
        "colab_type": "code",
        "colab": {}
      },
      "source": [
        "model=tf.keras.Sequential([\n",
        "                           tf.keras.layers.LSTM(units=50,activation='relu',return_sequences=True,input_shape=(xtrain.shape[1],1)),\n",
        "                           tf.keras.layers.LSTM(units=60,activation='relu',return_sequences=True),\n",
        "                           tf.keras.layers.LSTM(units=80,activation='relu'),\n",
        "                           tf.keras.layers.Dense(units=1)\n",
        "                          ])"
      ],
      "execution_count": 0,
      "outputs": []
    },
    {
      "cell_type": "code",
      "metadata": {
        "id": "mgRXLPpN-i20",
        "colab_type": "code",
        "outputId": "d4fa1c14-2416-4806-9d3a-db06ea834fe1",
        "colab": {
          "base_uri": "https://localhost:8080/",
          "height": 1000
        }
      },
      "source": [
        "model.compile(optimizer='adam',loss='mean_squared_error')\n",
        "hist=model.fit(xtrain,ytrain,epochs=100,batch_size=16)"
      ],
      "execution_count": 0,
      "outputs": [
        {
          "output_type": "stream",
          "text": [
            "Epoch 1/100\n",
            "5/5 [==============================] - 0s 5ms/step - loss: 0.0636\n",
            "Epoch 2/100\n",
            "5/5 [==============================] - 0s 5ms/step - loss: 0.0589\n",
            "Epoch 3/100\n",
            "5/5 [==============================] - 0s 5ms/step - loss: 0.0547\n",
            "Epoch 4/100\n",
            "5/5 [==============================] - 0s 5ms/step - loss: 0.0521\n",
            "Epoch 5/100\n",
            "5/5 [==============================] - 0s 5ms/step - loss: 0.0495\n",
            "Epoch 6/100\n",
            "5/5 [==============================] - 0s 5ms/step - loss: 0.0485\n",
            "Epoch 7/100\n",
            "5/5 [==============================] - 0s 5ms/step - loss: 0.0461\n",
            "Epoch 8/100\n",
            "5/5 [==============================] - 0s 5ms/step - loss: 0.0431\n",
            "Epoch 9/100\n",
            "5/5 [==============================] - 0s 5ms/step - loss: 0.0389\n",
            "Epoch 10/100\n",
            "5/5 [==============================] - 0s 5ms/step - loss: 0.0333\n",
            "Epoch 11/100\n",
            "5/5 [==============================] - 0s 5ms/step - loss: 0.0249\n",
            "Epoch 12/100\n",
            "5/5 [==============================] - 0s 7ms/step - loss: 0.0127\n",
            "Epoch 13/100\n",
            "5/5 [==============================] - 0s 5ms/step - loss: 0.0042\n",
            "Epoch 14/100\n",
            "5/5 [==============================] - 0s 5ms/step - loss: 0.0012\n",
            "Epoch 15/100\n",
            "5/5 [==============================] - 0s 5ms/step - loss: 0.0041\n",
            "Epoch 16/100\n",
            "5/5 [==============================] - 0s 5ms/step - loss: 0.0016\n",
            "Epoch 17/100\n",
            "5/5 [==============================] - 0s 5ms/step - loss: 9.2594e-04\n",
            "Epoch 18/100\n",
            "5/5 [==============================] - 0s 5ms/step - loss: 6.1002e-04\n",
            "Epoch 19/100\n",
            "5/5 [==============================] - 0s 5ms/step - loss: 8.8992e-04\n",
            "Epoch 20/100\n",
            "5/5 [==============================] - 0s 5ms/step - loss: 4.5163e-04\n",
            "Epoch 21/100\n",
            "5/5 [==============================] - 0s 5ms/step - loss: 3.2231e-04\n",
            "Epoch 22/100\n",
            "5/5 [==============================] - 0s 5ms/step - loss: 2.8892e-04\n",
            "Epoch 23/100\n",
            "5/5 [==============================] - 0s 5ms/step - loss: 2.3818e-04\n",
            "Epoch 24/100\n",
            "5/5 [==============================] - 0s 5ms/step - loss: 2.0424e-04\n",
            "Epoch 25/100\n",
            "5/5 [==============================] - 0s 5ms/step - loss: 2.1027e-04\n",
            "Epoch 26/100\n",
            "5/5 [==============================] - 0s 5ms/step - loss: 1.6243e-04\n",
            "Epoch 27/100\n",
            "5/5 [==============================] - 0s 5ms/step - loss: 1.6078e-04\n",
            "Epoch 28/100\n",
            "5/5 [==============================] - 0s 5ms/step - loss: 1.4586e-04\n",
            "Epoch 29/100\n",
            "5/5 [==============================] - 0s 5ms/step - loss: 1.2836e-04\n",
            "Epoch 30/100\n",
            "5/5 [==============================] - 0s 5ms/step - loss: 1.2990e-04\n",
            "Epoch 31/100\n",
            "5/5 [==============================] - 0s 5ms/step - loss: 1.1441e-04\n",
            "Epoch 32/100\n",
            "5/5 [==============================] - 0s 5ms/step - loss: 1.0057e-04\n",
            "Epoch 33/100\n",
            "5/5 [==============================] - 0s 5ms/step - loss: 1.0374e-04\n",
            "Epoch 34/100\n",
            "5/5 [==============================] - 0s 5ms/step - loss: 9.5002e-05\n",
            "Epoch 35/100\n",
            "5/5 [==============================] - 0s 5ms/step - loss: 8.8430e-05\n",
            "Epoch 36/100\n",
            "5/5 [==============================] - 0s 5ms/step - loss: 8.3383e-05\n",
            "Epoch 37/100\n",
            "5/5 [==============================] - 0s 5ms/step - loss: 8.0597e-05\n",
            "Epoch 38/100\n",
            "5/5 [==============================] - 0s 5ms/step - loss: 8.0851e-05\n",
            "Epoch 39/100\n",
            "5/5 [==============================] - 0s 5ms/step - loss: 8.0507e-05\n",
            "Epoch 40/100\n",
            "5/5 [==============================] - 0s 5ms/step - loss: 6.9948e-05\n",
            "Epoch 41/100\n",
            "5/5 [==============================] - 0s 6ms/step - loss: 6.9325e-05\n",
            "Epoch 42/100\n",
            "5/5 [==============================] - 0s 5ms/step - loss: 6.5470e-05\n",
            "Epoch 43/100\n",
            "5/5 [==============================] - 0s 5ms/step - loss: 6.1674e-05\n",
            "Epoch 44/100\n",
            "5/5 [==============================] - 0s 6ms/step - loss: 6.0872e-05\n",
            "Epoch 45/100\n",
            "5/5 [==============================] - 0s 5ms/step - loss: 6.4686e-05\n",
            "Epoch 46/100\n",
            "5/5 [==============================] - 0s 5ms/step - loss: 5.3327e-05\n",
            "Epoch 47/100\n",
            "5/5 [==============================] - 0s 5ms/step - loss: 5.9387e-05\n",
            "Epoch 48/100\n",
            "5/5 [==============================] - 0s 5ms/step - loss: 7.1187e-05\n",
            "Epoch 49/100\n",
            "5/5 [==============================] - 0s 5ms/step - loss: 6.6125e-05\n",
            "Epoch 50/100\n",
            "5/5 [==============================] - 0s 5ms/step - loss: 6.8875e-05\n",
            "Epoch 51/100\n",
            "5/5 [==============================] - 0s 5ms/step - loss: 7.1905e-05\n",
            "Epoch 52/100\n",
            "5/5 [==============================] - 0s 5ms/step - loss: 5.6847e-05\n",
            "Epoch 53/100\n",
            "5/5 [==============================] - 0s 5ms/step - loss: 6.9007e-05\n",
            "Epoch 54/100\n",
            "5/5 [==============================] - 0s 5ms/step - loss: 5.6009e-05\n",
            "Epoch 55/100\n",
            "5/5 [==============================] - 0s 5ms/step - loss: 5.8227e-05\n",
            "Epoch 56/100\n",
            "5/5 [==============================] - 0s 5ms/step - loss: 4.3218e-05\n",
            "Epoch 57/100\n",
            "5/5 [==============================] - 0s 5ms/step - loss: 4.4694e-05\n",
            "Epoch 58/100\n",
            "5/5 [==============================] - 0s 5ms/step - loss: 3.8609e-05\n",
            "Epoch 59/100\n",
            "5/5 [==============================] - 0s 5ms/step - loss: 4.6757e-05\n",
            "Epoch 60/100\n",
            "5/5 [==============================] - 0s 5ms/step - loss: 3.9600e-05\n",
            "Epoch 61/100\n",
            "5/5 [==============================] - 0s 5ms/step - loss: 4.7208e-05\n",
            "Epoch 62/100\n",
            "5/5 [==============================] - 0s 5ms/step - loss: 5.2044e-05\n",
            "Epoch 63/100\n",
            "5/5 [==============================] - 0s 5ms/step - loss: 5.2675e-05\n",
            "Epoch 64/100\n",
            "5/5 [==============================] - 0s 5ms/step - loss: 5.5708e-05\n",
            "Epoch 65/100\n",
            "5/5 [==============================] - 0s 6ms/step - loss: 4.2386e-05\n",
            "Epoch 66/100\n",
            "5/5 [==============================] - 0s 5ms/step - loss: 4.3437e-05\n",
            "Epoch 67/100\n",
            "5/5 [==============================] - 0s 6ms/step - loss: 5.9744e-05\n",
            "Epoch 68/100\n",
            "5/5 [==============================] - 0s 5ms/step - loss: 5.7898e-05\n",
            "Epoch 69/100\n",
            "5/5 [==============================] - 0s 5ms/step - loss: 4.6895e-05\n",
            "Epoch 70/100\n",
            "5/5 [==============================] - 0s 7ms/step - loss: 4.5760e-05\n",
            "Epoch 71/100\n",
            "5/5 [==============================] - 0s 5ms/step - loss: 3.8992e-05\n",
            "Epoch 72/100\n",
            "5/5 [==============================] - 0s 5ms/step - loss: 4.5027e-05\n",
            "Epoch 73/100\n",
            "5/5 [==============================] - 0s 5ms/step - loss: 4.1053e-05\n",
            "Epoch 74/100\n",
            "5/5 [==============================] - 0s 5ms/step - loss: 4.3125e-05\n",
            "Epoch 75/100\n",
            "5/5 [==============================] - 0s 5ms/step - loss: 3.7385e-05\n",
            "Epoch 76/100\n",
            "5/5 [==============================] - 0s 5ms/step - loss: 3.9921e-05\n",
            "Epoch 77/100\n",
            "5/5 [==============================] - 0s 8ms/step - loss: 3.8191e-05\n",
            "Epoch 78/100\n",
            "5/5 [==============================] - 0s 5ms/step - loss: 4.1788e-05\n",
            "Epoch 79/100\n",
            "5/5 [==============================] - 0s 5ms/step - loss: 3.8179e-05\n",
            "Epoch 80/100\n",
            "5/5 [==============================] - 0s 5ms/step - loss: 4.2005e-05\n",
            "Epoch 81/100\n",
            "5/5 [==============================] - 0s 5ms/step - loss: 3.6955e-05\n",
            "Epoch 82/100\n",
            "5/5 [==============================] - 0s 6ms/step - loss: 3.5857e-05\n",
            "Epoch 83/100\n",
            "5/5 [==============================] - 0s 5ms/step - loss: 3.4657e-05\n",
            "Epoch 84/100\n",
            "5/5 [==============================] - 0s 5ms/step - loss: 4.5271e-05\n",
            "Epoch 85/100\n",
            "5/5 [==============================] - 0s 5ms/step - loss: 7.3152e-05\n",
            "Epoch 86/100\n",
            "5/5 [==============================] - 0s 5ms/step - loss: 5.6646e-05\n",
            "Epoch 87/100\n",
            "5/5 [==============================] - 0s 5ms/step - loss: 3.8021e-05\n",
            "Epoch 88/100\n",
            "5/5 [==============================] - 0s 5ms/step - loss: 3.9077e-05\n",
            "Epoch 89/100\n",
            "5/5 [==============================] - 0s 5ms/step - loss: 4.2198e-05\n",
            "Epoch 90/100\n",
            "5/5 [==============================] - 0s 5ms/step - loss: 4.2190e-05\n",
            "Epoch 91/100\n",
            "5/5 [==============================] - 0s 5ms/step - loss: 4.6189e-05\n",
            "Epoch 92/100\n",
            "5/5 [==============================] - 0s 5ms/step - loss: 4.5866e-05\n",
            "Epoch 93/100\n",
            "5/5 [==============================] - 0s 5ms/step - loss: 6.7209e-05\n",
            "Epoch 94/100\n",
            "5/5 [==============================] - 0s 5ms/step - loss: 4.9961e-05\n",
            "Epoch 95/100\n",
            "5/5 [==============================] - 0s 5ms/step - loss: 5.4519e-05\n",
            "Epoch 96/100\n",
            "5/5 [==============================] - 0s 5ms/step - loss: 4.0718e-05\n",
            "Epoch 97/100\n",
            "5/5 [==============================] - 0s 6ms/step - loss: 4.3863e-05\n",
            "Epoch 98/100\n",
            "5/5 [==============================] - 0s 5ms/step - loss: 3.2962e-05\n",
            "Epoch 99/100\n",
            "5/5 [==============================] - 0s 5ms/step - loss: 3.8730e-05\n",
            "Epoch 100/100\n",
            "5/5 [==============================] - 0s 6ms/step - loss: 3.2176e-05\n"
          ],
          "name": "stdout"
        }
      ]
    },
    {
      "cell_type": "markdown",
      "metadata": {
        "id": "e5Y38aNraZwA",
        "colab_type": "text"
      },
      "source": [
        "We plot the loss performance of our model."
      ]
    },
    {
      "cell_type": "code",
      "metadata": {
        "id": "LFSPXX-RaQ-9",
        "colab_type": "code",
        "outputId": "beb5ac7c-85ab-4743-869d-7e90691879b8",
        "colab": {
          "base_uri": "https://localhost:8080/",
          "height": 435
        }
      },
      "source": [
        "_,_=plt.subplots(figsize=(16,15))\n",
        "#plt.subplot(1,1,1)\n",
        "plt.subplot(2,1,1)\n",
        "plt.title('loss')\n",
        "plt.plot(hist.history['loss'])\n",
        "\n",
        "plt.show()"
      ],
      "execution_count": 0,
      "outputs": [
        {
          "output_type": "display_data",
          "data": {
            "image/png": "[encoded data removed]",
            "text/plain": [
              "<Figure size 1152x1080 with 1 Axes>"
            ]
          },
          "metadata": {
            "tags": [],
            "needs_background": "light"
          }
        }
      ]
    },
    {
      "cell_type": "markdown",
      "metadata": {
        "id": "O1b2TO19a5Mc",
        "colab_type": "text"
      },
      "source": [
        "**We also chunk our test data and reshape it into a 3D array**"
      ]
    },
    {
      "cell_type": "code",
      "metadata": {
        "id": "yLMI-QUiSeIS",
        "colab_type": "code",
        "outputId": "1da607ee-7ca3-4151-d425-16dbec89ff08",
        "colab": {
          "base_uri": "https://localhost:8080/",
          "height": 52
        }
      },
      "source": [
        "xtest,ytest=chunk(scatestdata,3)\n",
        "print(xtest.shape)\n",
        "print(ytest.shape)"
      ],
      "execution_count": 0,
      "outputs": [
        {
          "output_type": "stream",
          "text": [
            "(14, 3)\n",
            "(14,)\n"
          ],
          "name": "stdout"
        }
      ]
    },
    {
      "cell_type": "code",
      "metadata": {
        "id": "rs5ke9ph3ZKx",
        "colab_type": "code",
        "colab": {}
      },
      "source": [
        "xtest,ytest=np.array(xtest).reshape(14,3,1),np.array(ytest)\n",
        "ypred=model.predict(xtest)"
      ],
      "execution_count": 0,
      "outputs": []
    },
    {
      "cell_type": "markdown",
      "metadata": {
        "id": "BRg3IZXcbMVV",
        "colab_type": "text"
      },
      "source": [
        "Plotting our obtained predictions"
      ]
    },
    {
      "cell_type": "code",
      "metadata": {
        "id": "fUk3NvyGeXxp",
        "colab_type": "code",
        "outputId": "c4167b72-e51e-409e-ebac-db44de1af8ae",
        "colab": {
          "base_uri": "https://localhost:8080/",
          "height": 334
        }
      },
      "source": [
        "plt.figure(figsize=(14,5))\n",
        "plt.plot(ytest,color='red',label='Real')\n",
        "plt.plot(ypred,color='blue',label='Predicted')\n",
        "#plt.title('Google Opening stock price')\n",
        "plt.xlabel('Time')\n",
        "plt.ylabel('cases')\n",
        "plt.legend()\n",
        "plt.show()\n"
      ],
      "execution_count": 0,
      "outputs": [
        {
          "output_type": "display_data",
          "data": {
            "image/png": "[encoded data removed]",
            "text/plain": [
              "<Figure size 1008x360 with 1 Axes>"
            ]
          },
          "metadata": {
            "tags": [],
            "needs_background": "light"
          }
        }
      ]
    },
    {
      "cell_type": "markdown",
      "metadata": {
        "id": "9PxNx7QDbP8l",
        "colab_type": "text"
      },
      "source": [
        "Since we defined a scaling function, we also have to define an inverse scaling function to better relate with realworld data"
      ]
    },
    {
      "cell_type": "code",
      "metadata": {
        "id": "sMm0NyRMhlEW",
        "colab_type": "code",
        "colab": {}
      },
      "source": [
        "def invsca(data,ma,mi):\n",
        "  l=[]\n",
        "  for i in range(len(data)):\n",
        "    l.append((data[i]*(ma-mi))+mi)\n",
        "  return l\n",
        "  \n",
        "invytestpred=invsca(ypred,max(testdata),min(testdata))\n",
        "invytest=invsca(ytest,max(testdata),min(testdata))"
      ],
      "execution_count": 0,
      "outputs": []
    },
    {
      "cell_type": "code",
      "metadata": {
        "id": "4snflZbIeXz5",
        "colab_type": "code",
        "outputId": "99fabd5e-3df3-45e0-a81b-99a804f9f3e6",
        "colab": {
          "base_uri": "https://localhost:8080/",
          "height": 334
        }
      },
      "source": [
        "plt.figure(figsize=(14,5))\n",
        "plt.plot(invytest,color='red',label='Real')\n",
        "plt.plot(invytestpred,color='blue',label='Predicted')\n",
        "#plt.title('Google Opening stock price')\n",
        "plt.xlabel('Time')\n",
        "plt.ylabel('cases')\n",
        "plt.legend()\n",
        "plt.show()\n"
      ],
      "execution_count": 0,
      "outputs": [
        {
          "output_type": "display_data",
          "data": {
            "image/png": "[encoded data removed]",
            "text/plain": [
              "<Figure size 1008x360 with 1 Axes>"
            ]
          },
          "metadata": {
            "tags": [],
            "needs_background": "light"
          }
        }
      ]
    },
    {
      "cell_type": "code",
      "metadata": {
        "id": "JyqJuTkMDSrv",
        "colab_type": "code",
        "outputId": "2b242632-2e4a-4fbb-95da-9ff66b4549b7",
        "colab": {
          "base_uri": "https://localhost:8080/",
          "height": 52
        }
      },
      "source": [
        "print(len(dfcu.loc['2020-04-13':]))\n",
        "print(len(invytestpred))"
      ],
      "execution_count": 0,
      "outputs": [
        {
          "output_type": "stream",
          "text": [
            "14\n",
            "14\n"
          ],
          "name": "stdout"
        }
      ]
    },
    {
      "cell_type": "markdown",
      "metadata": {
        "id": "mqgzCVDqbg8S",
        "colab_type": "text"
      },
      "source": [
        "**We define a DataFrame containing our acquired predicted data and perform necessary modifications**"
      ]
    },
    {
      "cell_type": "code",
      "metadata": {
        "id": "7lpeQiAL6unA",
        "colab_type": "code",
        "outputId": "a48c8d7e-5f77-4bce-a7bc-c500d1bbb70c",
        "colab": {
          "base_uri": "https://localhost:8080/",
          "height": 35
        }
      },
      "source": [
        "ypredf=pd.DataFrame(invytestpred)\n",
        "ypredf.columns=['cases']\n",
        "#ypredf.index=testdata.loc['2020-04-12':'2020-04-21'\t].index\n",
        "dt = pd.date_range('2020-04-12', periods=14, freq='D')\n",
        "print(len(dt))\n",
        "ypredf.index=dt"
      ],
      "execution_count": 0,
      "outputs": [
        {
          "output_type": "stream",
          "text": [
            "14\n"
          ],
          "name": "stdout"
        }
      ]
    },
    {
      "cell_type": "markdown",
      "metadata": {
        "id": "ZDZmrsksbydc",
        "colab_type": "text"
      },
      "source": [
        "## We finally visualize how our prediction went according to realworld data.\n",
        "\n",
        "### We can always improve our model and deploy for real world use."
      ]
    },
    {
      "cell_type": "code",
      "metadata": {
        "id": "HXmC1cKFeX2L",
        "colab_type": "code",
        "outputId": "8c687354-689b-4457-fdee-3706f905b370",
        "colab": {
          "base_uri": "https://localhost:8080/",
          "height": 517
        }
      },
      "source": [
        "plt.figure(figsize=(16,8))\n",
        "plt.plot(dfcu, label='Real')\n",
        "plt.plot(ypredf,label='Predicted')\n",
        "plt.title('Prediction of rise in number of COVID19 cases in India')\n",
        "plt.legend()\n"
      ],
      "execution_count": 0,
      "outputs": [
        {
          "output_type": "execute_result",
          "data": {
            "text/plain": [
              "<matplotlib.legend.Legend at 0x7f38f74d06a0>"
            ]
          },
          "metadata": {
            "tags": []
          },
          "execution_count": 24
        },
        {
          "output_type": "display_data",
          "data": {
            "image/png": "[encoded data removed]",
            "text/plain": [
              "<Figure size 1152x576 with 1 Axes>"
            ]
          },
          "metadata": {
            "tags": [],
            "needs_background": "light"
          }
        }
      ]
    },
    {
      "cell_type": "code",
      "metadata": {
        "id": "AdxQMxRuP2cF",
        "colab_type": "code",
        "colab": {}
      },
      "source": [
        ""
      ],
      "execution_count": 0,
      "outputs": []
    },
    {
      "cell_type": "code",
      "metadata": {
        "id": "JNbX7aQgeX5Z",
        "colab_type": "code",
        "colab": {}
      },
      "source": [
        "extx,lul=chunk(ypred,3)\n",
        "exty=model.predict(extx)"
      ],
      "execution_count": 0,
      "outputs": []
    },
    {
      "cell_type": "code",
      "metadata": {
        "id": "OH_KM2u_X0JH",
        "colab_type": "code",
        "outputId": "e26fd984-6b8c-4002-f2a0-fe97e56300a0",
        "colab": {
          "base_uri": "https://localhost:8080/",
          "height": 353
        }
      },
      "source": [
        "plt.figure(figsize=(14,5))\n",
        "plt.plot(invsca(lul,max(testdata),min(testdata)), label='Real')\n",
        "plt.plot(invsca(exty,max(testdata),min(testdata)),label='Predicted')\n",
        "plt.title('Prediction of rise in number of COVID19 cases in India')\n",
        "plt.legend()\n"
      ],
      "execution_count": 0,
      "outputs": [
        {
          "output_type": "execute_result",
          "data": {
            "text/plain": [
              "<matplotlib.legend.Legend at 0x7f63d6a0de80>"
            ]
          },
          "metadata": {
            "tags": []
          },
          "execution_count": 63
        },
        {
          "output_type": "display_data",
          "data": {
            "image/png": "[encoded data removed]",
            "text/plain": [
              "<Figure size 1008x360 with 1 Axes>"
            ]
          },
          "metadata": {
            "tags": [],
            "needs_background": "light"
          }
        }
      ]
    },
    {
      "cell_type": "code",
      "metadata": {
        "id": "gYvsTbVJPq51",
        "colab_type": "code",
        "outputId": "b008a153-cd35-4a9a-b055-312dd5ac5540",
        "colab": {
          "base_uri": "https://localhost:8080/",
          "height": 104
        }
      },
      "source": [
        "dt"
      ],
      "execution_count": 0,
      "outputs": [
        {
          "output_type": "execute_result",
          "data": {
            "text/plain": [
              "DatetimeIndex(['2020-04-12', '2020-04-13', '2020-04-14', '2020-04-15',\n",
              "               '2020-04-16', '2020-04-17', '2020-04-18', '2020-04-19',\n",
              "               '2020-04-20', '2020-04-21', '2020-04-22', '2020-04-23',\n",
              "               '2020-04-24'],\n",
              "              dtype='datetime64[ns]', freq='D')"
            ]
          },
          "metadata": {
            "tags": []
          },
          "execution_count": 135
        }
      ]
    },
    {
      "cell_type": "code",
      "metadata": {
        "id": "PuaEUEebPq2D",
        "colab_type": "code",
        "colab": {}
      },
      "source": [
        ""
      ],
      "execution_count": 0,
      "outputs": []
    },
    {
      "cell_type": "code",
      "metadata": {
        "id": "SXO0VdMIPqz9",
        "colab_type": "code",
        "colab": {}
      },
      "source": [
        ""
      ],
      "execution_count": 0,
      "outputs": []
    },
    {
      "cell_type": "code",
      "metadata": {
        "id": "xP8tPmCoPqsC",
        "colab_type": "code",
        "colab": {}
      },
      "source": [
        ""
      ],
      "execution_count": 0,
      "outputs": []
    },
    {
      "cell_type": "code",
      "metadata": {
        "id": "9icR0InrPqon",
        "colab_type": "code",
        "colab": {}
      },
      "source": [
        ""
      ],
      "execution_count": 0,
      "outputs": []
    },
    {
      "cell_type": "code",
      "metadata": {
        "id": "T3IxVA3tX0LV",
        "colab_type": "code",
        "colab": {}
      },
      "source": [
        "a=np.array(['bb','aaa','aa','a','b','c','d','e','f','g','h','i','j'])"
      ],
      "execution_count": 0,
      "outputs": []
    },
    {
      "cell_type": "code",
      "metadata": {
        "id": "_3aveN73hb0h",
        "colab_type": "code",
        "colab": {}
      },
      "source": [
        "def chunky(data,a):\n",
        "  x,y=[],[]\n",
        "  for i in range(a,len(data)):\n",
        "    x.append(data[i-a:i])\n",
        "    y.append(data[i])\n",
        "  return(np.array(x),np.array(y))"
      ],
      "execution_count": 0,
      "outputs": []
    },
    {
      "cell_type": "code",
      "metadata": {
        "id": "dtUtrZ3SX0Os",
        "colab_type": "code",
        "outputId": "cd632852-bfd8-4c19-adc6-44c5f8ff4109",
        "colab": {
          "base_uri": "https://localhost:8080/",
          "height": 191
        }
      },
      "source": [
        "x,y=chunky(a,3)\n",
        "print(x,y)"
      ],
      "execution_count": 0,
      "outputs": [
        {
          "output_type": "stream",
          "text": [
            "[['bb' 'aaa' 'aa']\n",
            " ['aaa' 'aa' 'a']\n",
            " ['aa' 'a' 'b']\n",
            " ['a' 'b' 'c']\n",
            " ['b' 'c' 'd']\n",
            " ['c' 'd' 'e']\n",
            " ['d' 'e' 'f']\n",
            " ['e' 'f' 'g']\n",
            " ['f' 'g' 'h']\n",
            " ['g' 'h' 'i']] ['a' 'b' 'c' 'd' 'e' 'f' 'g' 'h' 'i' 'j']\n"
          ],
          "name": "stdout"
        }
      ]
    },
    {
      "cell_type": "code",
      "metadata": {
        "id": "iBYwwzZAhbx4",
        "colab_type": "code",
        "colab": {}
      },
      "source": [
        ""
      ],
      "execution_count": 0,
      "outputs": []
    },
    {
      "cell_type": "code",
      "metadata": {
        "id": "Y6Dp6ZZnhb4G",
        "colab_type": "code",
        "colab": {}
      },
      "source": [
        ""
      ],
      "execution_count": 0,
      "outputs": []
    }
  ]
}