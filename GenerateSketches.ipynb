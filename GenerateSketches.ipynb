{
 "cells": [
  {
   "cell_type": "markdown",
   "metadata": {
    "colab_type": "text",
    "id": "view-in-github"
   },
   "source": [
    "<a href=\"https://colab.research.google.com/github/AsutoshDalei/Deep-Neural-Networks/blob/master/GenerateSketches.ipynb\" target=\"_parent\"><img src=\"https://colab.research.google.com/assets/colab-badge.svg\" alt=\"Open In Colab\"/></a>"
   ]
  },
  {
   "cell_type": "code",
   "execution_count": 1,
   "metadata": {
    "id": "guFvUuoFSrGT"
   },
   "outputs": [],
   "source": [
    "# !pip3 install torchinfo --quiet"
   ]
  },
  {
   "cell_type": "markdown",
   "metadata": {
    "id": "8js_OIIAqKxx"
   },
   "source": [
    "# Generate Sketches\n",
    "\n",
    "Humans have used sketching to depict our visual world since prehistoric times. Even today, sketching is possibly the only rendering technique readily available to all humans. This paper is the first large scale exploration of human sketches. We analyze the distribution of non-expert sketches of everyday objects such as 'teapot' or 'car'. We ask humans to sketch objects of a given category and gather 20,000 unique sketches evenly distributed over 250 object categories.\n",
    "\n",
    "https://cybertron.cg.tu-berlin.de/eitz/projects/classifysketch/"
   ]
  },
  {
   "cell_type": "code",
   "execution_count": 2,
   "metadata": {
    "id": "wkEh-AHwrsvf"
   },
   "outputs": [],
   "source": [
    "import os\n",
    "import time\n",
    "\n",
    "import pandas as pd\n",
    "import numpy as np\n",
    "import matplotlib.pyplot as plt\n",
    "%matplotlib inline\n",
    "import seaborn as sns\n",
    "from sklearn.model_selection import train_test_split\n",
    "\n",
    "import torch\n",
    "import torch.nn as nn\n",
    "from torch.utils.data import Dataset, DataLoader\n",
    "from torchinfo import summary\n",
    "from torchvision.transforms import v2\n",
    "import torchvision.transforms.functional as F\n",
    "from torchvision.io import read_image\n",
    "import torch.optim as optim"
   ]
  },
  {
   "cell_type": "code",
   "execution_count": 3,
   "metadata": {},
   "outputs": [
    {
     "name": "stdout",
     "output_type": "stream",
     "text": [
      " ==================================================================================================== \n",
      "Time Now: 2025.02.08 02:41 PM \n",
      " ====================================================================================================\n"
     ]
    }
   ],
   "source": [
    "telltimefnx = lambda :print('','='*100,f\"\\nTime Now: {pd.Timestamp.now().strftime('%Y.%m.%d %I:%M %p')}\",'\\n','='*100)\n",
    "telltimefnx()"
   ]
  },
  {
   "cell_type": "markdown",
   "metadata": {
    "id": "7vJbrE_xreGy"
   },
   "source": [
    "## Data Collection\n",
    "Fetcing and unzipping"
   ]
  },
  {
   "cell_type": "code",
   "execution_count": 4,
   "metadata": {
    "id": "6Ixm2K-MqfpY"
   },
   "outputs": [],
   "source": [
    "# !wget https://cybertron.cg.tu-berlin.de/eitz/projects/classifysketch/sketches_png.zip\n",
    "# !unzip /content/sketches_png.zip"
   ]
  },
  {
   "cell_type": "code",
   "execution_count": 5,
   "metadata": {
    "colab": {
     "base_uri": "https://localhost:8080/"
    },
    "id": "wmvOm1nHqibi",
    "outputId": "ee3ed425-b5d6-49eb-a648-1d292d46a783"
   },
   "outputs": [
    {
     "name": "stdout",
     "output_type": "stream",
     "text": [
      "filelist.txt is a file\n",
      "Number of objects sketched: 250\n",
      "Average number of images per object: 80.0\n"
     ]
    }
   ],
   "source": [
    "dataPath = \"/content/png\"\n",
    "dataPath = r\"C:\\Users\\asuto\\Desktop\\Work\\sketches_png\\png\"\n",
    "\n",
    "numImgs,sktName = [],[]\n",
    "\n",
    "hmap = {\"fileName\":[],'object':[]}\n",
    "\n",
    "for ele in os.listdir(dataPath):\n",
    "  if os.path.isdir(f\"{dataPath}/{ele}\"):\n",
    "    # print(f\"{ele} is a dir\")\n",
    "    numClassImg = len(os.listdir(f\"{dataPath}/{ele}\"))\n",
    "    numImgs.append(numClassImg)\n",
    "    sktName.append(ele)\n",
    "\n",
    "    hmap['fileName'].extend(os.listdir(f\"{dataPath}/{ele}\"))\n",
    "    hmap['object'].extend([ele]*len(os.listdir(f\"{dataPath}/{ele}\")))\n",
    "    # hmap['path'].extend()\n",
    "\n",
    "  else:\n",
    "    print(f\"{ele} is a file\")\n",
    "\n",
    "print(f\"Number of objects sketched: {len(numImgs)}\")\n",
    "\n",
    "print(f\"Average number of images per object: {sum(numImgs)/len(numImgs)}\")"
   ]
  },
  {
   "cell_type": "code",
   "execution_count": 6,
   "metadata": {
    "colab": {
     "base_uri": "https://localhost:8080/",
     "height": 242
    },
    "id": "xAGeyO8XMqUp",
    "outputId": "401251e4-e4a7-4b2b-a6f1-ce1a12e0cabd"
   },
   "outputs": [
    {
     "name": "stdout",
     "output_type": "stream",
     "text": [
      "CPU times: total: 156 ms\n",
      "Wall time: 166 ms\n"
     ]
    },
    {
     "data": {
      "text/html": [
       "<div>\n",
       "<style scoped>\n",
       "    .dataframe tbody tr th:only-of-type {\n",
       "        vertical-align: middle;\n",
       "    }\n",
       "\n",
       "    .dataframe tbody tr th {\n",
       "        vertical-align: top;\n",
       "    }\n",
       "\n",
       "    .dataframe thead th {\n",
       "        text-align: right;\n",
       "    }\n",
       "</style>\n",
       "<table border=\"1\" class=\"dataframe\">\n",
       "  <thead>\n",
       "    <tr style=\"text-align: right;\">\n",
       "      <th></th>\n",
       "      <th>fileName</th>\n",
       "      <th>object</th>\n",
       "      <th>path</th>\n",
       "    </tr>\n",
       "  </thead>\n",
       "  <tbody>\n",
       "    <tr>\n",
       "      <th>0</th>\n",
       "      <td>1.png</td>\n",
       "      <td>airplane</td>\n",
       "      <td>C:\\Users\\asuto\\Desktop\\Work\\sketches_png\\png/a...</td>\n",
       "    </tr>\n",
       "    <tr>\n",
       "      <th>1</th>\n",
       "      <td>10.png</td>\n",
       "      <td>airplane</td>\n",
       "      <td>C:\\Users\\asuto\\Desktop\\Work\\sketches_png\\png/a...</td>\n",
       "    </tr>\n",
       "    <tr>\n",
       "      <th>2</th>\n",
       "      <td>11.png</td>\n",
       "      <td>airplane</td>\n",
       "      <td>C:\\Users\\asuto\\Desktop\\Work\\sketches_png\\png/a...</td>\n",
       "    </tr>\n",
       "    <tr>\n",
       "      <th>3</th>\n",
       "      <td>12.png</td>\n",
       "      <td>airplane</td>\n",
       "      <td>C:\\Users\\asuto\\Desktop\\Work\\sketches_png\\png/a...</td>\n",
       "    </tr>\n",
       "    <tr>\n",
       "      <th>4</th>\n",
       "      <td>13.png</td>\n",
       "      <td>airplane</td>\n",
       "      <td>C:\\Users\\asuto\\Desktop\\Work\\sketches_png\\png/a...</td>\n",
       "    </tr>\n",
       "  </tbody>\n",
       "</table>\n",
       "</div>"
      ],
      "text/plain": [
       "  fileName    object                                               path\n",
       "0    1.png  airplane  C:\\Users\\asuto\\Desktop\\Work\\sketches_png\\png/a...\n",
       "1   10.png  airplane  C:\\Users\\asuto\\Desktop\\Work\\sketches_png\\png/a...\n",
       "2   11.png  airplane  C:\\Users\\asuto\\Desktop\\Work\\sketches_png\\png/a...\n",
       "3   12.png  airplane  C:\\Users\\asuto\\Desktop\\Work\\sketches_png\\png/a...\n",
       "4   13.png  airplane  C:\\Users\\asuto\\Desktop\\Work\\sketches_png\\png/a..."
      ]
     },
     "execution_count": 6,
     "metadata": {},
     "output_type": "execute_result"
    }
   ],
   "source": [
    "%%time\n",
    "data = pd.DataFrame(hmap)\n",
    "data = data.assign(path = data.apply(lambda row: f\"{dataPath}/{row['object']}/{row['fileName']}\",axis=1))\n",
    "data.head()"
   ]
  },
  {
   "cell_type": "markdown",
   "metadata": {
    "id": "hDICMdMIwVQj"
   },
   "source": [
    "---\n",
    "### Viewing Sketches"
   ]
  },
  {
   "cell_type": "code",
   "execution_count": 7,
   "metadata": {
    "colab": {
     "base_uri": "https://localhost:8080/",
     "height": 548
    },
    "id": "3HPVRICzqidl",
    "outputId": "31314165-0732-4e3a-dfe1-5a3b9d1c5e0f"
   },
   "outputs": [
    {
     "data": {
      "image/png": "[encoded data removed]",
      "text/plain": [
       "<Figure size 600x700 with 1 Axes>"
      ]
     },
     "metadata": {},
     "output_type": "display_data"
    }
   ],
   "source": [
    "sample = data.sample(1)\n",
    "\n",
    "def showSketch_init(sample):\n",
    "  plt.figure(figsize=(6,7),dpi=100)\n",
    "  img = plt.imread(sample['path'].item())\n",
    "  imgplot = plt.imshow(img, cmap=\"gray\")\n",
    "  plt.title(f\"Sample of {sample['object'].item()}\")\n",
    "  plt.show()\n",
    "\n",
    "showSketch_init(sample)"
   ]
  },
  {
   "cell_type": "code",
   "execution_count": 8,
   "metadata": {
    "colab": {
     "base_uri": "https://localhost:8080/"
    },
    "id": "rcfZfWWXtP8Z",
    "outputId": "00d347f6-7dbe-4118-f2dd-31e57a1221d7"
   },
   "outputs": [
    {
     "name": "stdout",
     "output_type": "stream",
     "text": [
      "(1111, 1111)\n"
     ]
    },
    {
     "data": {
      "text/plain": [
       "array([[1., 1., 1., ..., 1., 1., 1.],\n",
       "       [1., 1., 1., ..., 1., 1., 1.],\n",
       "       [1., 1., 1., ..., 1., 1., 1.],\n",
       "       ...,\n",
       "       [1., 1., 1., ..., 1., 1., 1.],\n",
       "       [1., 1., 1., ..., 1., 1., 1.],\n",
       "       [1., 1., 1., ..., 1., 1., 1.]], dtype=float32)"
      ]
     },
     "execution_count": 8,
     "metadata": {},
     "output_type": "execute_result"
    }
   ],
   "source": [
    "img = plt.imread(sample['path'].item())\n",
    "print(img.shape)\n",
    "img"
   ]
  },
  {
   "cell_type": "markdown",
   "metadata": {
    "id": "AMoEXStaQ4zK"
   },
   "source": [
    "## Model Plan\n",
    "* The idea is to take in one of the objects as an input and generate a sketch which corresponds to the object. Since we have 250 object classes, our input to the model would be an array of size 250. Each object would be represented by a combination of the input array.\n",
    "\n",
    "* The output of the model would be the image. In this case, an array of (1111,1111)."
   ]
  },
  {
   "cell_type": "markdown",
   "metadata": {
    "id": "lF8-nCdSSEKS"
   },
   "source": [
    "### PyTorch Dataset & Transformers"
   ]
  },
  {
   "cell_type": "code",
   "execution_count": 9,
   "metadata": {},
   "outputs": [],
   "source": [
    "resizeDims = 256\n",
    "transformFnx = v2.Compose([v2.ToImage(),\n",
    "                           v2.Resize((resizeDims,resizeDims)),\n",
    "                           v2.RandomHorizontalFlip(0.5),\n",
    "                           v2.ToDtype(torch.float32, scale=True)])"
   ]
  },
  {
   "cell_type": "code",
   "execution_count": 10,
   "metadata": {
    "id": "lKja3FMutP-9"
   },
   "outputs": [],
   "source": [
    "class datasetGen(Dataset):\n",
    "  def __init__(self,data,transforms=None):\n",
    "    self.data = data\n",
    "    self.transforms = transforms\n",
    "\n",
    "    nunq = data.object.nunique()\n",
    "    self.inpMap, ptr = {}, 0\n",
    "    for obj in sorted(data.object.unique()):\n",
    "      self.inpMap[obj] = [0]*nunq\n",
    "      self.inpMap[obj][ptr] = 1\n",
    "      ptr+=1\n",
    "\n",
    "  def __len__(self):\n",
    "    return len(self.data)\n",
    "\n",
    "  def __getitem__(self, idx):\n",
    "    row = self.data.iloc[idx]\n",
    "    obj = self.inpMap[row['object']]\n",
    "    sketch = read_image(row['path'])\n",
    "\n",
    "    if self.transforms:\n",
    "      sketch = self.transforms(sketch)\n",
    "\n",
    "    return sketch, torch.tensor(obj)\n",
    "        \n",
    "    # return {'object': obj, 'sketch': sketch}\n",
    "      \n",
    "gen = datasetGen(data=data, transforms=transformFnx)\n",
    "iterGen = iter(gen)"
   ]
  },
  {
   "cell_type": "code",
   "execution_count": 11,
   "metadata": {
    "colab": {
     "base_uri": "https://localhost:8080/",
     "height": 89
    },
    "id": "sZ5aM73ptQB1",
    "outputId": "39a3616f-cf0c-409b-93ed-acf4ef58f173"
   },
   "outputs": [
    {
     "data": {
      "text/html": [
       "<div>\n",
       "<style scoped>\n",
       "    .dataframe tbody tr th:only-of-type {\n",
       "        vertical-align: middle;\n",
       "    }\n",
       "\n",
       "    .dataframe tbody tr th {\n",
       "        vertical-align: top;\n",
       "    }\n",
       "\n",
       "    .dataframe thead th {\n",
       "        text-align: right;\n",
       "    }\n",
       "</style>\n",
       "<table border=\"1\" class=\"dataframe\">\n",
       "  <thead>\n",
       "    <tr style=\"text-align: right;\">\n",
       "      <th></th>\n",
       "      <th>fileName</th>\n",
       "      <th>object</th>\n",
       "      <th>path</th>\n",
       "    </tr>\n",
       "  </thead>\n",
       "  <tbody>\n",
       "    <tr>\n",
       "      <th>3031</th>\n",
       "      <td>3032.png</td>\n",
       "      <td>cactus</td>\n",
       "      <td>C:\\Users\\asuto\\Desktop\\Work\\sketches_png\\png/c...</td>\n",
       "    </tr>\n",
       "  </tbody>\n",
       "</table>\n",
       "</div>"
      ],
      "text/plain": [
       "      fileName  object                                               path\n",
       "3031  3032.png  cactus  C:\\Users\\asuto\\Desktop\\Work\\sketches_png\\png/c..."
      ]
     },
     "execution_count": 11,
     "metadata": {},
     "output_type": "execute_result"
    }
   ],
   "source": [
    "sample"
   ]
  },
  {
   "cell_type": "code",
   "execution_count": 12,
   "metadata": {
    "colab": {
     "base_uri": "https://localhost:8080/",
     "height": 435
    },
    "id": "BEE0RpEzYPQM",
    "outputId": "e4fbbdf3-90ac-45ca-d948-d21acd0337cb"
   },
   "outputs": [
    {
     "data": {
      "image/png": "[encoded data removed]",
      "text/plain": [
       "<Figure size 640x480 with 1 Axes>"
      ]
     },
     "metadata": {},
     "output_type": "display_data"
    }
   ],
   "source": [
    "# obj, op = next(iterGen).values()\n",
    "op, obj = next(iterGen)\n",
    "plt.imshow(op.reshape(op.shape[::-1]),cmap='gray')\n",
    "plt.show()"
   ]
  },
  {
   "cell_type": "code",
   "execution_count": 13,
   "metadata": {
    "id": "bXmwECZ-YPTT"
   },
   "outputs": [
    {
     "name": "stdout",
     "output_type": "stream",
     "text": [
      "Initial Data Length: 20000\n",
      "TrainVal Split: 16000 (80%), Test Split: 4000 (20%)\n",
      "Train Split: 11200 (56%), Val Split: 4800 (24%)\n",
      "CPU times: total: 297 ms\n",
      "Wall time: 44.4 ms\n"
     ]
    }
   ],
   "source": [
    "%%time\n",
    "print(\"Initial Data Length:\",data.shape[0])\n",
    "trainvalData, testData = train_test_split(data,test_size=0.2,stratify=data['object'])\n",
    "print(f\"TrainVal Split: {trainvalData.shape[0]} ({(trainvalData.shape[0]/data.shape[0])*100:.2g}%), Test Split: {testData.shape[0]} ({(testData.shape[0]/data.shape[0])*100:.2g}%)\")\n",
    "\n",
    "trainData, valData = train_test_split(trainvalData,test_size=0.3,stratify=trainvalData['object'])\n",
    "print(f\"Train Split: {trainData.shape[0]} ({(trainData.shape[0]/data.shape[0])*100:.2g}%), Val Split: {valData.shape[0]} ({(valData.shape[0]/data.shape[0])*100:.2g}%)\")"
   ]
  },
  {
   "cell_type": "code",
   "execution_count": 14,
   "metadata": {},
   "outputs": [
    {
     "name": "stdout",
     "output_type": "stream",
     "text": [
      "CPU times: total: 0 ns\n",
      "Wall time: 8.25 ms\n"
     ]
    }
   ],
   "source": [
    "%%time\n",
    "trainDataGen = datasetGen(data=trainData, transforms=transformFnx)\n",
    "valDataGen = datasetGen(data=valData, transforms=transformFnx)\n",
    "testDataGen = datasetGen(data=testData, transforms=transformFnx)"
   ]
  },
  {
   "cell_type": "code",
   "execution_count": 15,
   "metadata": {
    "id": "2efnT7viaik3"
   },
   "outputs": [
    {
     "name": "stdout",
     "output_type": "stream",
     "text": [
      "CPU times: total: 0 ns\n",
      "Wall time: 0 ns\n"
     ]
    }
   ],
   "source": [
    "%%time\n",
    "batch_size = 16\n",
    "\n",
    "dataLoad_train = DataLoader(trainDataGen,batch_size=batch_size,shuffle=True)\n",
    "dataLoad_val = DataLoader(valDataGen,batch_size=batch_size,shuffle=True)\n",
    "dataLoad_test = DataLoader(testDataGen,batch_size=batch_size,shuffle=True)"
   ]
  },
  {
   "cell_type": "code",
   "execution_count": null,
   "metadata": {},
   "outputs": [],
   "source": []
  },
  {
   "cell_type": "markdown",
   "metadata": {
    "id": "WNeddgjnaior"
   },
   "source": [
    "### Model Creation"
   ]
  },
  {
   "cell_type": "code",
   "execution_count": 16,
   "metadata": {},
   "outputs": [],
   "source": [
    "calcDims = lambda w,k,s=1,p=0 : int(((w-k+2*p)/s)+1)\n",
    "calcDimsTranspose = lambda w,k,p,op,s : (w-1)*s-2*p+k+op"
   ]
  },
  {
   "cell_type": "code",
   "execution_count": 18,
   "metadata": {},
   "outputs": [
    {
     "data": {
      "text/plain": [
       "487.0"
      ]
     },
     "execution_count": 18,
     "metadata": {},
     "output_type": "execute_result"
    }
   ],
   "source": [
    "# [(W−K+2P)/S]+1\n",
    "calcDims = lambda w,k,p=0,s=1 : ((w-k+2*p)/s)+1 \n",
    "\n",
    "calcDims(512, 3, 2, 1)\n",
    "calcDims(485, 3, 2, 1)"
   ]
  },
  {
   "cell_type": "code",
   "execution_count": 33,
   "metadata": {},
   "outputs": [],
   "source": [
    "class sketchModel(nn.Module):\n",
    "    def __init__(self, latentDims, numClasses):\n",
    "        super(sketchModel, self).__init__()\n",
    "\n",
    "        self.latentDims = latentDims\n",
    "        self.numClasses = numClasses\n",
    "\n",
    "        self.fc_mu = nn.Linear(1020, latentDims)\n",
    "        self.fc_logvar = nn.Linear(1020, latentDims)\n",
    "        \n",
    "        self.encoder = nn.Sequential(\n",
    "            nn.Conv2d(1, 32, kernel_size=3, stride=2, padding=1),\n",
    "            nn.ReLU(),\n",
    "            nn.Conv2d(32, 64, kernel_size=3, stride=2, padding=1),\n",
    "            nn.ReLU(),\n",
    "            nn.Conv2d(64, 12, kernel_size=3, stride=2, padding=1),\n",
    "            nn.Flatten(),\n",
    "            nn.Linear(12*32*32, 1020)\n",
    "        )\n",
    "\n",
    "        self.decoder = nn.Sequential(\n",
    "            nn.Linear(latentDims+numClasses, 128),\n",
    "            nn.ReLU(),\n",
    "            nn.Linear(128, 64*8*8),\n",
    "            nn.ReLU(),\n",
    "            nn.Unflatten(1, (64, 8, 8)),\n",
    "            nn.ConvTranspose2d(64, 82, kernel_size=3, stride=2, padding=1, output_padding=1),\n",
    "            nn.ReLU(),\n",
    "            nn.ConvTranspose2d(82, 128, kernel_size=3, stride=2, padding=1),\n",
    "            nn.ReLU(),\n",
    "            nn.ConvTranspose2d(128, 256, kernel_size=3, stride=2, padding=1, output_padding=1),\n",
    "            nn.ReLU(),\n",
    "            nn.ConvTranspose2d(256, 316, kernel_size=3, stride=2, padding=1, output_padding=1),\n",
    "            nn.ReLU(),\n",
    "            nn.ConvTranspose2d(316, 1, kernel_size=3, stride=2, padding=1, output_padding=1),\n",
    "            nn.Sigmoid()\n",
    "        )\n",
    "\n",
    "    def reparametrize(self, mu ,logvar):\n",
    "        std = torch.exp(0.5*logvar)\n",
    "        eps = torch.randn_like(std)\n",
    "        z = mu + eps*std\n",
    "        return z\n",
    "        \n",
    "    def forward(self,*inp):\n",
    "        x, y = inp\n",
    "        xe = self.encoder(x)\n",
    "        mu = self.fc_mu(xe) \n",
    "        logvar = self.fc_logvar(xe)\n",
    "        z = self.reparametrize(mu, logvar)\n",
    "        xd = torch.cat([z,y], dim=1)\n",
    "        xd = self.decoder(xd)\n",
    "    \n",
    "        return xd, mu, logvar\n",
    "        \n",
    "latent_dim = 128\n",
    "num_classes = 250\n",
    "model = sketchModel(latentDims = latent_dim, numClasses = num_classes)\n"
   ]
  },
  {
   "cell_type": "code",
   "execution_count": 34,
   "metadata": {},
   "outputs": [
    {
     "name": "stdout",
     "output_type": "stream",
     "text": [
      "==========================================================================================\n",
      "Layer (type:depth-idx)                   Output Shape              Param #\n",
      "==========================================================================================\n",
      "sketchModel                              [16, 1, 248, 248]         --\n",
      "├─Sequential: 1-1                        [16, 1020]                --\n",
      "│    └─Conv2d: 2-1                       [16, 32, 128, 128]        320\n",
      "│    └─ReLU: 2-2                         [16, 32, 128, 128]        --\n",
      "│    └─Conv2d: 2-3                       [16, 64, 64, 64]          18,496\n",
      "│    └─ReLU: 2-4                         [16, 64, 64, 64]          --\n",
      "│    └─Conv2d: 2-5                       [16, 12, 32, 32]          6,924\n",
      "│    └─Flatten: 2-6                      [16, 12288]               --\n",
      "│    └─Linear: 2-7                       [16, 1020]                12,534,780\n",
      "├─Linear: 1-2                            [16, 128]                 130,688\n",
      "├─Linear: 1-3                            [16, 128]                 130,688\n",
      "├─Sequential: 1-4                        [16, 1, 248, 248]         --\n",
      "│    └─Linear: 2-8                       [16, 128]                 48,512\n",
      "│    └─ReLU: 2-9                         [16, 128]                 --\n",
      "│    └─Linear: 2-10                      [16, 4096]                528,384\n",
      "│    └─ReLU: 2-11                        [16, 4096]                --\n",
      "│    └─Unflatten: 2-12                   [16, 64, 8, 8]            --\n",
      "│    └─ConvTranspose2d: 2-13             [16, 82, 16, 16]          47,314\n",
      "│    └─ReLU: 2-14                        [16, 82, 16, 16]          --\n",
      "│    └─ConvTranspose2d: 2-15             [16, 128, 31, 31]         94,592\n",
      "│    └─ReLU: 2-16                        [16, 128, 31, 31]         --\n",
      "│    └─ConvTranspose2d: 2-17             [16, 256, 62, 62]         295,168\n",
      "│    └─ReLU: 2-18                        [16, 256, 62, 62]         --\n",
      "│    └─ConvTranspose2d: 2-19             [16, 316, 124, 124]       728,380\n",
      "│    └─ReLU: 2-20                        [16, 316, 124, 124]       --\n",
      "│    └─ConvTranspose2d: 2-21             [16, 1, 248, 248]         2,845\n",
      "│    └─Sigmoid: 2-22                     [16, 1, 248, 248]         --\n",
      "==========================================================================================\n",
      "Total params: 14,567,091\n",
      "Trainable params: 14,567,091\n",
      "Non-trainable params: 0\n",
      "Total mult-adds (Units.GIGABYTES): 203.42\n",
      "==========================================================================================\n",
      "Input size (MB): 4.23\n",
      "Forward/backward pass size (MB): 877.13\n",
      "Params size (MB): 58.27\n",
      "Estimated Total Size (MB): 939.63\n",
      "==========================================================================================\n"
     ]
    }
   ],
   "source": [
    "_,op = next(enumerate(dataLoad_train))\n",
    "\n",
    "print(summary(model,input_data=op))"
   ]
  },
  {
   "cell_type": "code",
   "execution_count": 35,
   "metadata": {},
   "outputs": [],
   "source": [
    "def vaeLoss(genX, x, mu, logvar):\n",
    "    resizeBatch = lambda imgs,size=248: F.resize(imgs, size=size)\n",
    "    # genX_d, x_d = genX.cpu().detach(), x.cpu().detach()\n",
    "    # BCE = nn.functional.binary_cross_entropy(genX.view(-1, 1*248*248), resizeBatch(x).view(-1, 1*248*248), reduction='sum')\n",
    "    # BCE = nn.functional.binary_cross_entropy_with_logits(genX_d.view(-1, 1*248*248), resizeBatch(x_d).view(-1, 1*248*248), reduction='sum')\n",
    "    BCE = nn.functional.binary_cross_entropy_with_logits(genX.view(-1, 1*248*248), resizeBatch(x).view(-1, 1*248*248), reduction='sum')\n",
    "    KL_div = -0.5 * torch.sum(1 + logvar - mu.pow(2) - logvar.exp())\n",
    "\n",
    "    return BCE + KL_div"
   ]
  },
  {
   "cell_type": "markdown",
   "metadata": {},
   "source": [
    "### Training Section"
   ]
  },
  {
   "cell_type": "code",
   "execution_count": 36,
   "metadata": {},
   "outputs": [
    {
     "name": "stdout",
     "output_type": "stream",
     "text": [
      "Device in use: cuda\n"
     ]
    }
   ],
   "source": [
    "DEVICE = torch.device('cuda' if torch.cuda.is_available() else 'cpu')\n",
    "print(\"Device in use:\", DEVICE)\n",
    "\n",
    "DEVICE = 'cpu'\n",
    "DEVICE = 'cuda'\n",
    "\n",
    "model.to(DEVICE)\n",
    "\n",
    "learning_rate = 1e-3\n",
    "optimizer = optim.Adam(model.parameters(), lr=learning_rate)"
   ]
  },
  {
   "cell_type": "code",
   "execution_count": 38,
   "metadata": {},
   "outputs": [
    {
     "name": "stdout",
     "output_type": "stream",
     "text": [
      " ==================================================================================================== \n",
      "Time Now: 2025.02.08 03:00 PM \n",
      " ====================================================================================================\n",
      "Epoch 1/5, Loss: 325821.6107, TimeCons: 303.28\n",
      "Validation Data: 325821.6107, TimeCons: 151.09\n",
      "Epoch 2/5, Loss: 325815.1449, TimeCons: 319.70\n",
      "Validation Data: 325815.1449, TimeCons: 103.56\n",
      "Epoch 3/5, Loss: 325815.1400, TimeCons: 324.53\n",
      "Validation Data: 325815.1400, TimeCons: 103.29\n",
      "Epoch 4/5, Loss: 325815.1369, TimeCons: 326.46\n",
      "Validation Data: 325815.1369, TimeCons: 105.10\n",
      "Epoch 5/5, Loss: 325815.1358, TimeCons: 333.24\n",
      "Validation Data: 325815.1358, TimeCons: 106.48\n",
      " ==================================================================================================== \n",
      "Time Now: 2025.02.08 03:36 PM \n",
      " ====================================================================================================\n",
      "CPU times: total: 3h 22min 27s\n",
      "Wall time: 36min 16s\n"
     ]
    }
   ],
   "source": [
    "%%time\n",
    "telltimefnx()\n",
    "numEpochs = 5\n",
    "\n",
    "totLoss, totLossV = [],[]\n",
    "\n",
    "for epc in range(numEpochs):\n",
    "    stime = time.time()\n",
    "    model.train()\n",
    "    runningLoss = 0\n",
    "\n",
    "    for batch in dataLoad_train:\n",
    "        x, y = batch\n",
    "        x, y = x.to(DEVICE), y.to(DEVICE)\n",
    "        optimizer.zero_grad()\n",
    "        genImg, mu, logvar = model(x,y) \n",
    "        loss = vaeLoss(genImg, x, mu, logvar)\n",
    "        loss.backward()\n",
    "        optimizer.step()\n",
    "        runningLoss += loss.item()\n",
    "    \n",
    "    epcLoss = runningLoss/len(dataLoad_train)\n",
    "    totLoss.append(epcLoss)\n",
    "    print(f\"Epoch {epc+1}/{numEpochs}, Loss: {epcLoss:.4f}, TimeCons: {time.time()-stime:.2f}\")\n",
    "\n",
    "    model.eval()\n",
    "    runningLossV = 0\n",
    "\n",
    "    stimeVal = time.time()\n",
    "    for batchV in dataLoad_val:\n",
    "        x, y = batchV\n",
    "        x, y = x.to(DEVICE), y.to(DEVICE)\n",
    "\n",
    "        genImg, mu, logvar = model(x, y)\n",
    "        lossV = vaeLoss(genImg, x, mu, logvar)\n",
    "\n",
    "        runningLossV += lossV.item()\n",
    "\n",
    "    epcLossV = runningLoss/len(dataLoad_train)\n",
    "    totLossV.append(epcLossV)\n",
    "    print(f\"Validation Data: {epcLossV:.4f}, TimeCons: {time.time()-stimeVal:.2f}\")\n",
    "\n",
    "    \n",
    "telltimefnx()"
   ]
  },
  {
   "cell_type": "code",
   "execution_count": 74,
   "metadata": {},
   "outputs": [
    {
     "data": {
      "text/plain": [
       "tensor([[-4.9334e-01, -4.8362e-01,  9.2259e-04,  1.4973e+00,  7.0968e-01,\n",
       "          3.4194e-01, -1.7150e-01,  3.1551e-01,  9.9129e-01,  1.0895e-01,\n",
       "          1.0969e+00,  1.3375e+00, -2.2339e-01,  1.4365e+00,  4.2262e-01,\n",
       "         -4.9247e-02, -1.1936e+00, -2.4650e-01,  5.0475e-01,  6.8491e-01,\n",
       "          4.7553e-01,  4.1025e-01, -2.7936e+00,  8.1773e-02, -3.9633e-01,\n",
       "         -2.4583e-01,  2.7920e+00, -7.0722e-01, -1.2209e+00,  1.7194e+00,\n",
       "         -2.1887e+00,  2.2032e+00, -1.2410e+00,  3.0662e+00, -9.7116e-02,\n",
       "         -3.1227e-01, -1.2353e-02, -1.3534e+00,  1.1875e+00,  1.8213e-01,\n",
       "          7.3555e-01,  6.4318e-03, -1.0862e+00,  1.8000e-01, -2.0729e+00,\n",
       "         -1.4054e+00, -4.9698e-01, -1.2571e+00, -5.3220e-01,  8.7161e-01,\n",
       "         -8.5604e-01,  5.9539e-01, -6.4446e-01,  6.2339e-01,  1.7284e-01,\n",
       "         -1.3892e-01, -5.2974e-01,  1.6081e+00, -1.6618e-01,  1.4604e+00,\n",
       "         -8.1799e-01, -2.5181e-01,  8.5132e-01,  1.0185e+00, -2.7958e-01,\n",
       "         -1.0991e+00, -3.3669e-01, -2.3170e-01,  1.0287e-01, -4.1012e-01,\n",
       "          1.4660e+00,  1.4299e-01,  2.4971e-01, -2.2186e+00,  1.2264e+00,\n",
       "         -3.0381e-01,  8.8292e-01,  5.9309e-01, -6.8561e-01,  1.2914e+00,\n",
       "         -1.2399e+00,  8.8051e-01, -1.7598e-01, -2.7424e-02, -8.9742e-01,\n",
       "         -1.2879e+00, -1.2572e-02,  9.8430e-01, -1.0702e+00,  3.5829e-01,\n",
       "          1.4158e+00,  1.6927e+00, -6.7363e-01, -9.0592e-01, -1.3517e+00,\n",
       "          1.4311e+00, -7.2730e-01, -2.1176e-01, -3.1004e-01,  8.8630e-02,\n",
       "         -1.0663e+00,  3.0979e-01,  1.2747e+00, -1.4805e+00,  3.2647e-01,\n",
       "         -4.1238e-01,  7.6158e-01, -3.1876e-01,  1.0214e+00, -2.6550e-01,\n",
       "          9.2726e-01,  9.5298e-01, -4.6301e-01, -1.9135e+00,  1.2271e-01,\n",
       "         -1.0263e+00,  8.0043e-02,  4.0453e-01, -1.3311e+00,  1.5725e+00,\n",
       "         -1.9508e+00,  5.7177e-01, -1.0264e+00, -8.9232e-01, -1.3413e-01,\n",
       "         -6.4363e-01,  9.7049e-01,  1.2510e+00,  1.2289e+00,  6.1860e-01,\n",
       "         -1.6193e+00, -1.7603e-01, -4.1685e-01, -4.2119e-01, -6.4631e-01,\n",
       "         -1.1399e+00,  1.0943e+00, -3.3651e-01, -1.2277e+00, -7.3349e-01,\n",
       "          1.5913e+00,  2.4352e-01,  8.7346e-01,  9.8300e-01,  1.4407e+00,\n",
       "         -2.5839e-01,  1.9444e-01, -2.8407e+00,  6.2840e-01,  3.1755e-01,\n",
       "          3.1162e-01, -1.6368e+00, -1.0088e-01,  1.8160e-01, -1.0364e-02,\n",
       "          1.8237e+00,  4.4803e-01, -6.0284e-01,  2.3277e+00, -7.7433e-01,\n",
       "         -7.3976e-01,  1.8090e+00,  4.8075e-01,  1.0642e+00,  1.0378e+00,\n",
       "          4.9070e-01, -2.9871e-01, -9.1853e-01,  4.5013e-01,  9.3618e-01,\n",
       "         -1.4115e+00, -1.7184e-01,  1.1546e+00, -4.2676e-02, -8.2258e-01,\n",
       "         -2.0877e+00, -1.5154e-01,  5.1382e-01, -2.2390e-01,  1.4196e+00,\n",
       "         -6.4788e-02,  7.4545e-01, -2.1080e+00, -1.3327e+00, -1.6182e+00,\n",
       "          1.5060e+00, -3.3879e-01,  4.9930e-01, -1.1027e+00,  4.3559e-01,\n",
       "          1.3665e+00, -5.3708e-01, -8.0693e-01,  8.2821e-01, -1.1413e+00,\n",
       "         -4.7347e-01, -1.2018e+00,  4.3187e-02, -1.0305e+00, -1.4182e+00,\n",
       "          3.9584e-02, -1.9455e-01, -4.7363e-01,  1.7945e-01, -1.4137e+00,\n",
       "         -1.1494e+00, -4.9982e-01,  1.1393e+00,  1.5689e+00,  1.7349e+00,\n",
       "          7.8312e-01, -7.7983e-01,  9.6041e-01,  1.3389e+00, -8.1226e-01,\n",
       "         -5.8046e-01,  1.3091e+00, -1.3195e+00, -1.7422e+00,  2.1613e+00,\n",
       "         -1.8490e+00,  4.9866e-01,  2.0015e-01, -9.5662e-01, -1.8584e+00,\n",
       "         -1.2178e+00,  2.9027e-01, -3.6800e-01,  8.1149e-01,  7.0253e-01,\n",
       "          4.3321e-01,  4.8214e-01, -8.9365e-01,  7.6257e-01, -1.3475e+00,\n",
       "         -1.1794e+00, -2.3763e-01, -8.6292e-01, -1.5890e+00, -4.0447e-01,\n",
       "          9.8750e-01,  1.1474e-01,  1.1766e+00, -3.6362e-01,  1.7614e-01,\n",
       "         -5.8422e-02, -1.8748e+00, -2.9340e-01, -4.3910e-01, -1.4033e+00],\n",
       "        [ 1.0000e+00,  0.0000e+00,  0.0000e+00,  0.0000e+00,  0.0000e+00,\n",
       "          0.0000e+00,  0.0000e+00,  0.0000e+00,  0.0000e+00,  0.0000e+00,\n",
       "          0.0000e+00,  0.0000e+00,  0.0000e+00,  0.0000e+00,  0.0000e+00,\n",
       "          0.0000e+00,  0.0000e+00,  0.0000e+00,  0.0000e+00,  0.0000e+00,\n",
       "          0.0000e+00,  0.0000e+00,  0.0000e+00,  0.0000e+00,  0.0000e+00,\n",
       "          0.0000e+00,  0.0000e+00,  0.0000e+00,  0.0000e+00,  0.0000e+00,\n",
       "          0.0000e+00,  0.0000e+00,  0.0000e+00,  0.0000e+00,  0.0000e+00,\n",
       "          0.0000e+00,  0.0000e+00,  0.0000e+00,  0.0000e+00,  0.0000e+00,\n",
       "          0.0000e+00,  0.0000e+00,  0.0000e+00,  0.0000e+00,  0.0000e+00,\n",
       "          0.0000e+00,  0.0000e+00,  0.0000e+00,  0.0000e+00,  0.0000e+00,\n",
       "          0.0000e+00,  0.0000e+00,  0.0000e+00,  0.0000e+00,  0.0000e+00,\n",
       "          0.0000e+00,  0.0000e+00,  0.0000e+00,  0.0000e+00,  0.0000e+00,\n",
       "          0.0000e+00,  0.0000e+00,  0.0000e+00,  0.0000e+00,  0.0000e+00,\n",
       "          0.0000e+00,  0.0000e+00,  0.0000e+00,  0.0000e+00,  0.0000e+00,\n",
       "          0.0000e+00,  0.0000e+00,  0.0000e+00,  0.0000e+00,  0.0000e+00,\n",
       "          0.0000e+00,  0.0000e+00,  0.0000e+00,  0.0000e+00,  0.0000e+00,\n",
       "          0.0000e+00,  0.0000e+00,  0.0000e+00,  0.0000e+00,  0.0000e+00,\n",
       "          0.0000e+00,  0.0000e+00,  0.0000e+00,  0.0000e+00,  0.0000e+00,\n",
       "          0.0000e+00,  0.0000e+00,  0.0000e+00,  0.0000e+00,  0.0000e+00,\n",
       "          0.0000e+00,  0.0000e+00,  0.0000e+00,  0.0000e+00,  0.0000e+00,\n",
       "          0.0000e+00,  0.0000e+00,  0.0000e+00,  0.0000e+00,  0.0000e+00,\n",
       "          0.0000e+00,  0.0000e+00,  0.0000e+00,  0.0000e+00,  0.0000e+00,\n",
       "          0.0000e+00,  0.0000e+00,  0.0000e+00,  0.0000e+00,  0.0000e+00,\n",
       "          0.0000e+00,  0.0000e+00,  0.0000e+00,  0.0000e+00,  0.0000e+00,\n",
       "          0.0000e+00,  0.0000e+00,  0.0000e+00,  0.0000e+00,  0.0000e+00,\n",
       "          0.0000e+00,  0.0000e+00,  0.0000e+00,  0.0000e+00,  0.0000e+00,\n",
       "          0.0000e+00,  0.0000e+00,  0.0000e+00,  0.0000e+00,  0.0000e+00,\n",
       "          0.0000e+00,  0.0000e+00,  0.0000e+00,  0.0000e+00,  0.0000e+00,\n",
       "          0.0000e+00,  0.0000e+00,  0.0000e+00,  0.0000e+00,  0.0000e+00,\n",
       "          0.0000e+00,  0.0000e+00,  0.0000e+00,  0.0000e+00,  0.0000e+00,\n",
       "          0.0000e+00,  0.0000e+00,  0.0000e+00,  0.0000e+00,  0.0000e+00,\n",
       "          0.0000e+00,  0.0000e+00,  0.0000e+00,  0.0000e+00,  0.0000e+00,\n",
       "          0.0000e+00,  0.0000e+00,  0.0000e+00,  0.0000e+00,  0.0000e+00,\n",
       "          0.0000e+00,  0.0000e+00,  0.0000e+00,  0.0000e+00,  0.0000e+00,\n",
       "          0.0000e+00,  0.0000e+00,  0.0000e+00,  0.0000e+00,  0.0000e+00,\n",
       "          0.0000e+00,  0.0000e+00,  0.0000e+00,  0.0000e+00,  0.0000e+00,\n",
       "          0.0000e+00,  0.0000e+00,  0.0000e+00,  0.0000e+00,  0.0000e+00,\n",
       "          0.0000e+00,  0.0000e+00,  0.0000e+00,  0.0000e+00,  0.0000e+00,\n",
       "          0.0000e+00,  0.0000e+00,  0.0000e+00,  0.0000e+00,  0.0000e+00,\n",
       "          0.0000e+00,  0.0000e+00,  0.0000e+00,  0.0000e+00,  0.0000e+00,\n",
       "          0.0000e+00,  0.0000e+00,  0.0000e+00,  0.0000e+00,  0.0000e+00,\n",
       "          0.0000e+00,  0.0000e+00,  0.0000e+00,  0.0000e+00,  0.0000e+00,\n",
       "          0.0000e+00,  0.0000e+00,  0.0000e+00,  0.0000e+00,  0.0000e+00,\n",
       "          0.0000e+00,  0.0000e+00,  0.0000e+00,  0.0000e+00,  0.0000e+00,\n",
       "          0.0000e+00,  0.0000e+00,  0.0000e+00,  0.0000e+00,  0.0000e+00,\n",
       "          0.0000e+00,  0.0000e+00,  0.0000e+00,  0.0000e+00,  0.0000e+00,\n",
       "          0.0000e+00,  0.0000e+00,  0.0000e+00,  0.0000e+00,  0.0000e+00,\n",
       "          0.0000e+00,  0.0000e+00,  0.0000e+00,  0.0000e+00,  0.0000e+00,\n",
       "          0.0000e+00,  0.0000e+00,  0.0000e+00,  0.0000e+00,  0.0000e+00,\n",
       "          0.0000e+00,  0.0000e+00,  0.0000e+00,  0.0000e+00,  0.0000e+00]],\n",
       "       device='cuda:0')"
      ]
     },
     "execution_count": 74,
     "metadata": {},
     "output_type": "execute_result"
    }
   ],
   "source": [
    "model.eval()\n",
    "class_label = torch.tensor(trainDataGen.inpMap['airplane']).reshape([1,250]).to(DEVICE)\n",
    "torch.cat([z,class_label], dim=0)\n",
    "# model.decoder(torch.cat([z,class_label], dim=1))"
   ]
  },
  {
   "cell_type": "code",
   "execution_count": 66,
   "metadata": {},
   "outputs": [],
   "source": [
    "def generate_image(model, class_label, latent_dim=128):\n",
    "    model.eval()\n",
    "    \n",
    "    # Sample a random latent vector z\n",
    "    z = torch.randn(1, 250).to(DEVICE)\n",
    "    \n",
    "    # Generate an image conditioned on the class label\n",
    "    # class_label = torch.tensor(trainDataGen.inpMap['airplane']).to(DEVICE)\n",
    "    class_label = torch.tensor(trainDataGen.inpMap['airplane']).reshape([1,250]).to(DEVICE)\n",
    "    generated_img = model.decoder(torch.cat([z,class_label], dim=1))\n",
    "    \n",
    "    return generated_img.squeeze().cpu().detach().numpy()\n",
    "\n",
    "# Example: Generate an image for class \"cat\" (class index 3)\n",
    "# generated_image = generate_image(model, class_label='airplane')\n",
    "# plt.imshow(generated_image.transpose(1, 2, 0))\n",
    "# plt.show()"
   ]
  },
  {
   "cell_type": "code",
   "execution_count": 45,
   "metadata": {},
   "outputs": [
    {
     "data": {
      "text/plain": [
       "torch.Size([1, 250])"
      ]
     },
     "execution_count": 45,
     "metadata": {},
     "output_type": "execute_result"
    }
   ],
   "source": [
    "z = torch.randn(1, 250).size()\n",
    "z"
   ]
  },
  {
   "cell_type": "code",
   "execution_count": 60,
   "metadata": {},
   "outputs": [],
   "source": [
    "# Sample a random latent vector z\n",
    "z = torch.randn(1, 250).to(DEVICE)\n",
    "\n",
    "# Generate an image conditioned on the class label\n",
    "class_label = torch.tensor(trainDataGen.inpMap['airplane']).reshape([1,250]).to(DEVICE)"
   ]
  },
  {
   "cell_type": "code",
   "execution_count": null,
   "metadata": {},
   "outputs": [],
   "source": []
  },
  {
   "cell_type": "markdown",
   "metadata": {},
   "source": [
    "---"
   ]
  },
  {
   "cell_type": "code",
   "execution_count": null,
   "metadata": {
    "id": "GXYts2c9aiss"
   },
   "outputs": [],
   "source": [
    "class Encoder(nn.Module):\n",
    "    def __init__(self, img_channels, latent_dim, num_classes):\n",
    "        super(Encoder, self).__init__()\n",
    "        self.num_classes = num_classes\n",
    "        self.img_channels = img_channels\n",
    "        self.latent_dim = latent_dim\n",
    "        \n",
    "        # Class label embedding layer\n",
    "        self.label_embedding = nn.Embedding(num_classes, num_classes)\n",
    "        \n",
    "        # Convolutional layers\n",
    "        self.conv1 = nn.Conv2d(img_channels + num_classes, 32, kernel_size=3, stride=2, padding=1)\n",
    "        self.conv2 = nn.Conv2d(32, 64, kernel_size=3, stride=2, padding=1)\n",
    "        self.fc1 = nn.Linear(64 * 8 * 8, 128)\n",
    "        \n",
    "        # Latent variables (mean and log-variance)\n",
    "        self.fc_mu = nn.Linear(128, latent_dim)\n",
    "        self.fc_logvar = nn.Linear(128, latent_dim)\n",
    "\n",
    "    def forward(self, x, c):\n",
    "        # Embedding the class label\n",
    "        c = self.label_embedding(c)\n",
    "        c = c.view(c.size(0), c.size(1), 1, 1)  # Reshape to (batch, channels, 1, 1)\n",
    "        c = c.expand(-1, -1, x.size(2), x.size(3))  # Match the spatial dimensions of the image\n",
    "        \n",
    "        # Concatenate image and class label\n",
    "        x = torch.cat([x, c], dim=1)\n",
    "        \n",
    "        # Pass through the convolutional layers\n",
    "        x = torch.relu(self.conv1(x))\n",
    "        x = torch.relu(self.conv2(x))\n",
    "        x = x.view(x.size(0), -1)  # Flatten\n",
    "        \n",
    "        x = torch.relu(self.fc1(x))\n",
    "        \n",
    "        # Output the mean and log-variance for the latent distribution\n",
    "        mu = self.fc_mu(x)\n",
    "        logvar = self.fc_logvar(x)\n",
    "        \n",
    "        return mu, logvar\n"
   ]
  },
  {
   "cell_type": "code",
   "execution_count": null,
   "metadata": {
    "id": "GPITmW7Wqif7"
   },
   "outputs": [],
   "source": [
    "class Decoder(nn.Module):\n",
    "    def __init__(self, img_channels, latent_dim, num_classes):\n",
    "        super(Decoder, self).__init__()\n",
    "        self.num_classes = num_classes\n",
    "        self.latent_dim = latent_dim\n",
    "        self.img_channels = img_channels\n",
    "        \n",
    "        # Class label embedding\n",
    "        self.label_embedding = nn.Embedding(num_classes, num_classes)\n",
    "        \n",
    "        # Fully connected layers\n",
    "        self.fc1 = nn.Linear(latent_dim + num_classes, 128)\n",
    "        self.fc2 = nn.Linear(128, 64 * 8 * 8)\n",
    "        \n",
    "        # Convolutional layers for image reconstruction\n",
    "        self.conv1 = nn.ConvTranspose2d(64, 32, kernel_size=3, stride=2, padding=1, output_padding=1)\n",
    "        self.conv2 = nn.ConvTranspose2d(32, img_channels, kernel_size=3, stride=2, padding=1, output_padding=1)\n",
    "\n",
    "    def forward(self, z, c):\n",
    "        # Embedding the class label\n",
    "        c = self.label_embedding(c)\n",
    "        \n",
    "        # Concatenate latent vector and class label\n",
    "        x = torch.cat([z, c], dim=1)\n",
    "        \n",
    "        x = torch.relu(self.fc1(x))\n",
    "        x = torch.relu(self.fc2(x))\n",
    "        \n",
    "        x = x.view(x.size(0), 64, 8, 8)  # Reshape for convolution\n",
    "        \n",
    "        # Upsample to original image size\n",
    "        x = torch.relu(self.conv1(x))\n",
    "        img = torch.sigmoid(self.conv2(x))  # Final image reconstruction\n",
    "        return img\n"
   ]
  },
  {
   "cell_type": "code",
   "execution_count": null,
   "metadata": {
    "id": "5MZvSYzwqiii"
   },
   "outputs": [],
   "source": [
    "class CVAE(nn.Module):\n",
    "    def __init__(self, img_channels, latent_dim, num_classes):\n",
    "        super(CVAE, self).__init__()\n",
    "        self.encoder = Encoder(img_channels, latent_dim, num_classes)\n",
    "        self.decoder = Decoder(img_channels, latent_dim, num_classes)\n",
    "\n",
    "    def reparameterize(self, mu, logvar):\n",
    "        std = torch.exp(0.5*logvar)\n",
    "        eps = torch.randn_like(std)\n",
    "        z = mu + eps*std\n",
    "        return z\n",
    "\n",
    "    def forward(self, x, c):\n",
    "        # Encode\n",
    "        mu, logvar = self.encoder(x, c)\n",
    "        \n",
    "        # Reparameterize to sample z\n",
    "        z = self.reparameterize(mu, logvar)\n",
    "        \n",
    "        # Decode\n",
    "        recon_x = self.decoder(z, c)\n",
    "        \n",
    "        return recon_x, mu, logvar\n"
   ]
  },
  {
   "cell_type": "code",
   "execution_count": null,
   "metadata": {},
   "outputs": [],
   "source": [
    "def vae_loss(recon_x, x, mu, logvar):\n",
    "    # Reconstruction loss (binary cross entropy)\n",
    "    BCE = nn.functional.binary_cross_entropy(recon_x.view(-1, 32*32*3), x.view(-1, 32*32*3), reduction='sum')\n",
    "    \n",
    "    # KL divergence loss\n",
    "    # KL divergence between q(z|x) and p(z), where p(z) is a standard normal\n",
    "    # D_KL(q(z|x) || p(z)) = -0.5 * sum(1 + log(sigma^2) - mu^2 - sigma^2)\n",
    "    # where q(z|x) is the latent variable distribution (Gaussian)\n",
    "    # and p(z) is the standard normal distribution N(0, I)\n",
    "    # In this case we just calculate the element-wise sum\n",
    "    KL_div = -0.5 * torch.sum(1 + logvar - mu.pow(2) - logvar.exp())\n",
    "    \n",
    "    # Final loss\n",
    "    return BCE + KL_div\n"
   ]
  },
  {
   "cell_type": "code",
   "execution_count": null,
   "metadata": {},
   "outputs": [],
   "source": [
    "# Hyperparameters\n",
    "latent_dim = 128\n",
    "num_classes = 10  # CIFAR-10 has 10 classes\n",
    "img_channels = 3  # RGB images\n",
    "batch_size = 64\n",
    "learning_rate = 1e-3\n",
    "epochs = 10\n",
    "\n",
    "# Create the model, optimizer, and loss function\n",
    "model = CVAE(img_channels, latent_dim, num_classes)\n",
    "optimizer = optim.Adam(model.parameters(), lr=learning_rate)\n",
    "\n",
    "# Data loader (for CIFAR-10)\n",
    "transform = transforms.Compose([transforms.ToTensor(), transforms.Normalize((0.5, 0.5, 0.5), (0.5, 0.5, 0.5))])\n",
    "trainset = datasets.CIFAR10(root='./data', train=True, download=True, transform=transform)\n",
    "trainloader = DataLoader(trainset, batch_size=batch_size, shuffle=True)\n",
    "\n",
    "# Training loop\n",
    "for epoch in range(epochs):\n",
    "    model.train()\n",
    "    running_loss = 0.0\n",
    "    \n",
    "    for i, (inputs, labels) in enumerate(trainloader):\n",
    "        optimizer.zero_grad()\n",
    "        \n",
    "        # Forward pass\n",
    "        recon_batch, mu, logvar = model(inputs, labels)\n",
    "        \n",
    "        # Compute loss\n",
    "        loss = vae_loss(recon_batch, inputs, mu, logvar)\n",
    "        \n",
    "        # Backpropagation and optimization\n",
    "        loss.backward()\n",
    "        optimizer.step()\n",
    "        \n",
    "        running_loss += loss.item()\n",
    "        \n",
    "        if i % 100 == 0:\n",
    "            print(f\"Epoch [{epoch+1}/{epochs}], Step [{i}/{len(trainloader)}], Loss: {loss.item():.4f}\")\n",
    "\n",
    "    print(f\"Epoch [{epoch+1}/{epochs}], Average Loss: {running_loss / len(trainloader):.4f}\")\n",
    "\n",
    "# Save the trained model\n",
    "torch.save(model.state_dict(), 'cvae_model.pth')\n"
   ]
  },
  {
   "cell_type": "code",
   "execution_count": null,
   "metadata": {},
   "outputs": [],
   "source": [
    "def generate_image(model, class_label, latent_dim=128):\n",
    "    model.eval()\n",
    "    \n",
    "    # Sample a random latent vector z\n",
    "    z = torch.randn(1, latent_dim).to(device)\n",
    "    \n",
    "    # Generate an image conditioned on the class label\n",
    "    class_label = torch.tensor([class_label]).to(device)\n",
    "    generated_img = model.decoder(z, class_label)\n",
    "    \n",
    "    return generated_img.squeeze().cpu().detach().numpy()\n",
    "\n",
    "# Example: Generate an image for class \"cat\" (class index 3)\n",
    "generated_image = generate_image(model, class_label=3)\n",
    "plt.imshow(generated_image.transpose(1, 2, 0))\n",
    "plt.show()\n"
   ]
  }
 ],
 "metadata": {
  "colab": {
   "authorship_tag": "ABX9TyPW8QAS/NEaxnZfLXIrwZNB",
   "include_colab_link": true,
   "provenance": []
  },
  "kernelspec": {
   "display_name": "Python 3 (ipykernel)",
   "language": "python",
   "name": "python3"
  },
  "language_info": {
   "codemirror_mode": {
    "name": "ipython",
    "version": 3
   },
   "file_extension": ".py",
   "mimetype": "text/x-python",
   "name": "python",
   "nbconvert_exporter": "python",
   "pygments_lexer": "ipython3",
   "version": "3.11.10"
  }
 },
 "nbformat": 4,
 "nbformat_minor": 4
}
