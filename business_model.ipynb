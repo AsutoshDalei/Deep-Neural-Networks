{
  "nbformat": 4,
  "nbformat_minor": 0,
  "metadata": {
    "colab": {
      "name": "business model.ipynb",
      "provenance": [],
      "collapsed_sections": [],
      "authorship_tag": "ABX9TyM8lEws6soSRUzKk7rW/CmN",
      "include_colab_link": true
    },
    "kernelspec": {
      "name": "python3",
      "display_name": "Python 3"
    }
  },
  "cells": [
    {
      "cell_type": "markdown",
      "metadata": {
        "id": "view-in-github",
        "colab_type": "text"
      },
      "source": [
        "<a href=\"https://colab.research.google.com/github/AsutoshDalei/Deep-Neural-Networks/blob/master/business_model.ipynb\" target=\"_parent\"><img src=\"https://colab.research.google.com/assets/colab-badge.svg\" alt=\"Open In Colab\"/></a>"
      ]
    },
    {
      "cell_type": "code",
      "metadata": {
        "id": "jA1GWaoj1q9f",
        "colab_type": "code",
        "colab": {}
      },
      "source": [
        "import numpy as np\n",
        "from sklearn import preprocessing \n",
        "import tensorflow as tf\n",
        "import pandas as pd\n",
        "from sklearn.utils import shuffle"
      ],
      "execution_count": 0,
      "outputs": []
    },
    {
      "cell_type": "code",
      "metadata": {
        "id": "_wZ0IKwk2PQ5",
        "colab_type": "code",
        "outputId": "26786920-250b-43bd-cfa9-fef43fdd57e9",
        "colab": {
          "resources": {
            "http://localhost:8080/nbextensions/google.colab/files.js": {
              "data": "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",
              "ok": true,
              "headers": [
                [
                  "content-type",
                  "application/javascript"
                ]
              ],
              "status": 200,
              "status_text": ""
            }
          },
          "base_uri": "https://localhost:8080/",
          "height": 41
        }
      },
      "source": [
        "from google.colab import files\n",
        "import io\n",
        "uploaded = files.upload()"
      ],
      "execution_count": 0,
      "outputs": [
        {
          "output_type": "display_data",
          "data": {
            "text/html": [
              "\n",
              "     <input type=\"file\" id=\"files-d0b4f899-2e80-435a-b663-7196c3fc3138\" name=\"files[]\" multiple disabled />\n",
              "     <output id=\"result-d0b4f899-2e80-435a-b663-7196c3fc3138\">\n",
              "      Upload widget is only available when the cell has been executed in the\n",
              "      current browser session. Please rerun this cell to enable.\n",
              "      </output>\n",
              "      <script src=\"/nbextensions/google.colab/files.js\"></script> "
            ],
            "text/plain": [
              "<IPython.core.display.HTML object>"
            ]
          },
          "metadata": {
            "tags": []
          }
        }
      ]
    },
    {
      "cell_type": "code",
      "metadata": {
        "id": "adZbzoWu2V5w",
        "colab_type": "code",
        "outputId": "650e8a41-8425-4a61-8db7-df7261f7f023",
        "colab": {
          "base_uri": "https://localhost:8080/",
          "height": 309
        }
      },
      "source": [
        "df= pd.read_csv(io.BytesIO(uploaded['busidata.csv']))\n",
        "df.head()"
      ],
      "execution_count": 0,
      "outputs": [
        {
          "output_type": "execute_result",
          "data": {
            "text/html": [
              "<div>\n",
              "<style scoped>\n",
              "    .dataframe tbody tr th:only-of-type {\n",
              "        vertical-align: middle;\n",
              "    }\n",
              "\n",
              "    .dataframe tbody tr th {\n",
              "        vertical-align: top;\n",
              "    }\n",
              "\n",
              "    .dataframe thead th {\n",
              "        text-align: right;\n",
              "    }\n",
              "</style>\n",
              "<table border=\"1\" class=\"dataframe\">\n",
              "  <thead>\n",
              "    <tr style=\"text-align: right;\">\n",
              "      <th></th>\n",
              "      <th>Unnamed: 0</th>\n",
              "      <th>acousticness</th>\n",
              "      <th>danceability</th>\n",
              "      <th>duration_ms</th>\n",
              "      <th>energy</th>\n",
              "      <th>instrumentalness</th>\n",
              "      <th>key</th>\n",
              "      <th>liveness</th>\n",
              "      <th>loudness</th>\n",
              "      <th>mode</th>\n",
              "      <th>speechiness</th>\n",
              "      <th>tempo</th>\n",
              "      <th>time_signature</th>\n",
              "      <th>valence</th>\n",
              "      <th>target</th>\n",
              "      <th>song_title</th>\n",
              "      <th>artist</th>\n",
              "    </tr>\n",
              "  </thead>\n",
              "  <tbody>\n",
              "    <tr>\n",
              "      <th>0</th>\n",
              "      <td>0</td>\n",
              "      <td>0.0102</td>\n",
              "      <td>0.833</td>\n",
              "      <td>204600</td>\n",
              "      <td>0.434</td>\n",
              "      <td>0.021900</td>\n",
              "      <td>2</td>\n",
              "      <td>0.1650</td>\n",
              "      <td>-8.795</td>\n",
              "      <td>1</td>\n",
              "      <td>0.4310</td>\n",
              "      <td>150.062</td>\n",
              "      <td>4.0</td>\n",
              "      <td>0.286</td>\n",
              "      <td>1</td>\n",
              "      <td>Mask Off</td>\n",
              "      <td>Future</td>\n",
              "    </tr>\n",
              "    <tr>\n",
              "      <th>1</th>\n",
              "      <td>1</td>\n",
              "      <td>0.1990</td>\n",
              "      <td>0.743</td>\n",
              "      <td>326933</td>\n",
              "      <td>0.359</td>\n",
              "      <td>0.006110</td>\n",
              "      <td>1</td>\n",
              "      <td>0.1370</td>\n",
              "      <td>-10.401</td>\n",
              "      <td>1</td>\n",
              "      <td>0.0794</td>\n",
              "      <td>160.083</td>\n",
              "      <td>4.0</td>\n",
              "      <td>0.588</td>\n",
              "      <td>1</td>\n",
              "      <td>Redbone</td>\n",
              "      <td>Childish Gambino</td>\n",
              "    </tr>\n",
              "    <tr>\n",
              "      <th>2</th>\n",
              "      <td>2</td>\n",
              "      <td>0.0344</td>\n",
              "      <td>0.838</td>\n",
              "      <td>185707</td>\n",
              "      <td>0.412</td>\n",
              "      <td>0.000234</td>\n",
              "      <td>2</td>\n",
              "      <td>0.1590</td>\n",
              "      <td>-7.148</td>\n",
              "      <td>1</td>\n",
              "      <td>0.2890</td>\n",
              "      <td>75.044</td>\n",
              "      <td>4.0</td>\n",
              "      <td>0.173</td>\n",
              "      <td>1</td>\n",
              "      <td>Xanny Family</td>\n",
              "      <td>Future</td>\n",
              "    </tr>\n",
              "    <tr>\n",
              "      <th>3</th>\n",
              "      <td>3</td>\n",
              "      <td>0.6040</td>\n",
              "      <td>0.494</td>\n",
              "      <td>199413</td>\n",
              "      <td>0.338</td>\n",
              "      <td>0.510000</td>\n",
              "      <td>5</td>\n",
              "      <td>0.0922</td>\n",
              "      <td>-15.236</td>\n",
              "      <td>1</td>\n",
              "      <td>0.0261</td>\n",
              "      <td>86.468</td>\n",
              "      <td>4.0</td>\n",
              "      <td>0.230</td>\n",
              "      <td>1</td>\n",
              "      <td>Master Of None</td>\n",
              "      <td>Beach House</td>\n",
              "    </tr>\n",
              "    <tr>\n",
              "      <th>4</th>\n",
              "      <td>4</td>\n",
              "      <td>0.1800</td>\n",
              "      <td>0.678</td>\n",
              "      <td>392893</td>\n",
              "      <td>0.561</td>\n",
              "      <td>0.512000</td>\n",
              "      <td>5</td>\n",
              "      <td>0.4390</td>\n",
              "      <td>-11.648</td>\n",
              "      <td>0</td>\n",
              "      <td>0.0694</td>\n",
              "      <td>174.004</td>\n",
              "      <td>4.0</td>\n",
              "      <td>0.904</td>\n",
              "      <td>1</td>\n",
              "      <td>Parallel Lines</td>\n",
              "      <td>Junior Boys</td>\n",
              "    </tr>\n",
              "  </tbody>\n",
              "</table>\n",
              "</div>"
            ],
            "text/plain": [
              "   Unnamed: 0  acousticness  ...      song_title            artist\n",
              "0           0        0.0102  ...        Mask Off            Future\n",
              "1           1        0.1990  ...         Redbone  Childish Gambino\n",
              "2           2        0.0344  ...    Xanny Family            Future\n",
              "3           3        0.6040  ...  Master Of None       Beach House\n",
              "4           4        0.1800  ...  Parallel Lines       Junior Boys\n",
              "\n",
              "[5 rows x 17 columns]"
            ]
          },
          "metadata": {
            "tags": []
          },
          "execution_count": 34
        }
      ]
    },
    {
      "cell_type": "code",
      "metadata": {
        "id": "EE0w3xCo2V7j",
        "colab_type": "code",
        "colab": {}
      },
      "source": [
        "ipall=df.iloc[:,1:14]\n",
        "tarall=df.iloc[:,14]"
      ],
      "execution_count": 0,
      "outputs": []
    },
    {
      "cell_type": "code",
      "metadata": {
        "id": "skCKPfGDNmCJ",
        "colab_type": "code",
        "colab": {}
      },
      "source": [
        "ipall=shuffle(ipall)\n",
        "tarall=shuffle(tarall)"
      ],
      "execution_count": 0,
      "outputs": []
    },
    {
      "cell_type": "code",
      "metadata": {
        "id": "hN2CylLJ2WAv",
        "colab_type": "code",
        "outputId": "ac9d68f8-a26e-41c5-a12a-667f20c1c218",
        "colab": {
          "base_uri": "https://localhost:8080/",
          "height": 255
        }
      },
      "source": [
        "notar1=int(np.sum(tarall))\n",
        "notar0=0\n",
        "toremove=[]\n",
        "for i in range(int(tarall.shape[0])):\n",
        "  if tarall[i]==0:\n",
        "    notar0+=1\n",
        "    if notar0>notar1:\n",
        "      toremove.append(i)\n"
      ],
      "execution_count": 0,
      "outputs": [
        {
          "output_type": "error",
          "ename": "ValueError",
          "evalue": "ignored",
          "traceback": [
            "\u001b[0;31m---------------------------------------------------------------------------\u001b[0m",
            "\u001b[0;31mValueError\u001b[0m                                Traceback (most recent call last)",
            "\u001b[0;32m<ipython-input-38-03a03e8064c5>\u001b[0m in \u001b[0;36m<module>\u001b[0;34m()\u001b[0m\n\u001b[0;32m----> 1\u001b[0;31m \u001b[0mnotar1\u001b[0m\u001b[0;34m=\u001b[0m\u001b[0mint\u001b[0m\u001b[0;34m(\u001b[0m\u001b[0mnp\u001b[0m\u001b[0;34m.\u001b[0m\u001b[0msum\u001b[0m\u001b[0;34m(\u001b[0m\u001b[0mtarall\u001b[0m\u001b[0;34m)\u001b[0m\u001b[0;34m)\u001b[0m\u001b[0;34m\u001b[0m\u001b[0;34m\u001b[0m\u001b[0m\n\u001b[0m\u001b[1;32m      2\u001b[0m \u001b[0mnotar0\u001b[0m\u001b[0;34m=\u001b[0m\u001b[0;36m0\u001b[0m\u001b[0;34m\u001b[0m\u001b[0;34m\u001b[0m\u001b[0m\n\u001b[1;32m      3\u001b[0m \u001b[0mtoremove\u001b[0m\u001b[0;34m=\u001b[0m\u001b[0;34m[\u001b[0m\u001b[0;34m]\u001b[0m\u001b[0;34m\u001b[0m\u001b[0;34m\u001b[0m\u001b[0m\n\u001b[1;32m      4\u001b[0m \u001b[0;32mfor\u001b[0m \u001b[0mi\u001b[0m \u001b[0;32min\u001b[0m \u001b[0mrange\u001b[0m\u001b[0;34m(\u001b[0m\u001b[0mint\u001b[0m\u001b[0;34m(\u001b[0m\u001b[0mtarall\u001b[0m\u001b[0;34m.\u001b[0m\u001b[0mshape\u001b[0m\u001b[0;34m[\u001b[0m\u001b[0;36m0\u001b[0m\u001b[0;34m]\u001b[0m\u001b[0;34m)\u001b[0m\u001b[0;34m)\u001b[0m\u001b[0;34m:\u001b[0m\u001b[0;34m\u001b[0m\u001b[0;34m\u001b[0m\u001b[0m\n\u001b[1;32m      5\u001b[0m   \u001b[0;32mif\u001b[0m \u001b[0mtarall\u001b[0m\u001b[0;34m[\u001b[0m\u001b[0mi\u001b[0m\u001b[0;34m]\u001b[0m\u001b[0;34m==\u001b[0m\u001b[0;36m0\u001b[0m\u001b[0;34m:\u001b[0m\u001b[0;34m\u001b[0m\u001b[0;34m\u001b[0m\u001b[0m\n",
            "\u001b[0;31mValueError\u001b[0m: invalid literal for int() with base 10: 'Lex LucaChaka KhanThe ChainsmokersRick RossLord of WarTygaLady LeshurrHalseyCNCOVarious ArtistsRadioheadTodd TerjeBoyz II MenKate BushIfy Jerry CrusadeBreachSan HoloMötley CrüeKid CudiBryson TillerSh"
          ]
        }
      ]
    },
    {
      "cell_type": "code",
      "metadata": {
        "id": "FSZpfYAtzbj8",
        "colab_type": "code",
        "colab": {}
      },
      "source": [
        "#ipall=np.delete(ipall,toremove,axis=0)\n",
        "#tarall=np.delete(tarall,toremove,axis=0)\n",
        "ipall.drop(toremove)\n",
        "tarall.drop(toremove)"
      ],
      "execution_count": 0,
      "outputs": []
    },
    {
      "cell_type": "code",
      "metadata": {
        "id": "5XMwb6xG2WGB",
        "colab_type": "code",
        "colab": {}
      },
      "source": [
        "#scaledip=preprocessing.scale(ipall)\n",
        "#scaledtar=preprocessing.scale(tarall)\n",
        "scaledip=preprocessing.minmax_scale(ipall,(0,1))\n",
        "scaledtar=preprocessing.minmax_scale(tarall,(0,1))\n",
        "scaledip=shuffle(scaledip)\n",
        "scaledtar=shuffle(scaledtar)"
      ],
      "execution_count": 0,
      "outputs": []
    },
    {
      "cell_type": "code",
      "metadata": {
        "id": "E4Cnvdmxzasm",
        "colab_type": "code",
        "colab": {}
      },
      "source": [
        "samplescount=scaledip.shape[0]\n",
        "trainsam=int(samplescount*0.8)\n",
        "valsam=int(samplescount*0.1)\n",
        "testsam=samplescount-trainsam-valsam\n",
        "#testsam=int(samplescount*0.1)"
      ],
      "execution_count": 0,
      "outputs": []
    },
    {
      "cell_type": "code",
      "metadata": {
        "id": "Y_TXZRtT2WLH",
        "colab_type": "code",
        "colab": {}
      },
      "source": [
        "trainip=scaledip[:trainsam]\n",
        "traintar=scaledtar[:trainsam]\n",
        "\n",
        "valip=scaledip[trainsam:trainsam+valsam]\n",
        "valtar=scaledtar[trainsam:trainsam+valsam]\n",
        "\n",
        "testip=scaledip[trainsam+valsam:]\n",
        "testtar=scaledtar[trainsam+valsam:]"
      ],
      "execution_count": 0,
      "outputs": []
    },
    {
      "cell_type": "code",
      "metadata": {
        "id": "QzeNUQw5EJuU",
        "colab_type": "code",
        "colab": {}
      },
      "source": [
        "np.savez('traindat',ip=trainip,op=traintar)\n",
        "np.savez('valdat',ip=valip,op=valtar)\n",
        "np.savez('testdat',ip=testip,op=testtar)\n"
      ],
      "execution_count": 0,
      "outputs": []
    },
    {
      "cell_type": "code",
      "metadata": {
        "id": "iMKASFYrENnc",
        "colab_type": "code",
        "outputId": "e72bae13-4851-408c-d34f-2e44f5119514",
        "colab": {
          "base_uri": "https://localhost:8080/",
          "height": 55
        }
      },
      "source": [
        "nptr=np.load('traindat.npz')\n",
        "npval=np.load('valdat.npz')\n",
        "npte=np.load('testdat.npz')\n",
        "\n",
        "'''trip=tf.cast(nptr['ip'],dtype=tf.float32)\n",
        "trop=tf.cast(nptr['op'],dtype=tf.int32)\n",
        "\n",
        "valip=tf.cast(npval['ip'],dtype=tf.float32)\n",
        "valop=npval['op'].astype(np.int)\n",
        "\n",
        "teip=npte['ip'].astype(np.float)\n",
        "teop=npte['op'].astype(np.int)'''"
      ],
      "execution_count": 0,
      "outputs": [
        {
          "output_type": "execute_result",
          "data": {
            "text/plain": [
              "\"trip=tf.cast(nptr['ip'],dtype=tf.float32)\\ntrop=tf.cast(nptr['op'],dtype=tf.int32)\\n\\nvalip=tf.cast(npval['ip'],dtype=tf.float32)\\nvalop=npval['op'].astype(np.int)\\n\\nteip=npte['ip'].astype(np.float)\\nteop=npte['op'].astype(np.int)\""
            ]
          },
          "metadata": {
            "tags": []
          },
          "execution_count": 49
        }
      ]
    },
    {
      "cell_type": "code",
      "metadata": {
        "id": "bwOEznTb9mar",
        "colab_type": "code",
        "colab": {}
      },
      "source": [
        "trip,trop=nptr['ip'].astype(np.float),nptr['op'].astype(np.int)\n",
        "valip,valop=npval['ip'].astype(np.float),npval['op'].astype(np.int)\n",
        "teip,teop=npte['ip'].astype(np.float),npte['op'].astype(np.int)"
      ],
      "execution_count": 0,
      "outputs": []
    },
    {
      "cell_type": "code",
      "metadata": {
        "id": "KFu2hW7FB-fQ",
        "colab_type": "code",
        "colab": {}
      },
      "source": [
        "ipsize=10\n",
        "opsize=2\n",
        "hiddensize=50\n",
        "model=tf.keras.Sequential([\n",
        "                           tf.keras.layers.Dense(50,activation='relu'),\n",
        "                           tf.keras.layers.Dense(50,activation='relu'),\n",
        "                           tf.keras.layers.Dense(50,activation='relu'),\n",
        "                           tf.keras.layers.Dense(2,activation='softmax')\n",
        "                          ])"
      ],
      "execution_count": 0,
      "outputs": []
    },
    {
      "cell_type": "code",
      "metadata": {
        "id": "Jq6VhB8NB_ew",
        "colab_type": "code",
        "colab": {}
      },
      "source": [
        "model.compile(loss='sparse_categorical_crossentropy',optimizer='adam',metrics=['accuracy'])\n",
        "btchsize=100\n",
        "epc=100"
      ],
      "execution_count": 0,
      "outputs": []
    },
    {
      "cell_type": "code",
      "metadata": {
        "id": "9I8IQPvDB_hp",
        "colab_type": "code",
        "outputId": "c11d5179-d25a-408e-e3fd-a0e61517e8c7",
        "colab": {
          "base_uri": "https://localhost:8080/",
          "height": 1000
        }
      },
      "source": [
        "model.fit(x=trip,y=trop,epochs=epc,validation_data=(valip,valop),batch_size=btchsize)"
      ],
      "execution_count": 0,
      "outputs": [
        {
          "output_type": "stream",
          "text": [
            "Epoch 1/100\n",
            "17/17 [==============================] - 0s 8ms/step - loss: 0.6949 - accuracy: 0.4923 - val_loss: 0.6903 - val_accuracy: 0.4876\n",
            "Epoch 2/100\n",
            "17/17 [==============================] - 0s 3ms/step - loss: 0.6925 - accuracy: 0.5133 - val_loss: 0.7008 - val_accuracy: 0.5124\n",
            "Epoch 3/100\n",
            "17/17 [==============================] - 0s 4ms/step - loss: 0.6916 - accuracy: 0.5214 - val_loss: 0.6981 - val_accuracy: 0.4925\n",
            "Epoch 4/100\n",
            "17/17 [==============================] - 0s 3ms/step - loss: 0.6928 - accuracy: 0.5164 - val_loss: 0.7011 - val_accuracy: 0.4577\n",
            "Epoch 5/100\n",
            "17/17 [==============================] - 0s 4ms/step - loss: 0.6913 - accuracy: 0.5059 - val_loss: 0.6988 - val_accuracy: 0.4975\n",
            "Epoch 6/100\n",
            "17/17 [==============================] - 0s 4ms/step - loss: 0.6912 - accuracy: 0.5301 - val_loss: 0.7120 - val_accuracy: 0.4826\n",
            "Epoch 7/100\n",
            "17/17 [==============================] - 0s 4ms/step - loss: 0.6910 - accuracy: 0.5232 - val_loss: 0.6996 - val_accuracy: 0.4925\n",
            "Epoch 8/100\n",
            "17/17 [==============================] - 0s 3ms/step - loss: 0.6896 - accuracy: 0.5282 - val_loss: 0.7036 - val_accuracy: 0.4627\n",
            "Epoch 9/100\n",
            "17/17 [==============================] - 0s 3ms/step - loss: 0.6899 - accuracy: 0.5369 - val_loss: 0.6933 - val_accuracy: 0.4826\n",
            "Epoch 10/100\n",
            "17/17 [==============================] - 0s 3ms/step - loss: 0.6890 - accuracy: 0.5319 - val_loss: 0.6910 - val_accuracy: 0.4776\n",
            "Epoch 11/100\n",
            "17/17 [==============================] - 0s 3ms/step - loss: 0.6879 - accuracy: 0.5530 - val_loss: 0.7013 - val_accuracy: 0.4677\n",
            "Epoch 12/100\n",
            "17/17 [==============================] - 0s 3ms/step - loss: 0.6867 - accuracy: 0.5549 - val_loss: 0.7087 - val_accuracy: 0.4478\n",
            "Epoch 13/100\n",
            "17/17 [==============================] - 0s 3ms/step - loss: 0.6857 - accuracy: 0.5425 - val_loss: 0.7047 - val_accuracy: 0.4726\n",
            "Epoch 14/100\n",
            "17/17 [==============================] - 0s 3ms/step - loss: 0.6875 - accuracy: 0.5530 - val_loss: 0.7056 - val_accuracy: 0.4627\n",
            "Epoch 15/100\n",
            "17/17 [==============================] - 0s 3ms/step - loss: 0.6842 - accuracy: 0.5555 - val_loss: 0.7092 - val_accuracy: 0.4378\n",
            "Epoch 16/100\n",
            "17/17 [==============================] - 0s 4ms/step - loss: 0.6850 - accuracy: 0.5654 - val_loss: 0.7038 - val_accuracy: 0.4925\n",
            "Epoch 17/100\n",
            "17/17 [==============================] - 0s 3ms/step - loss: 0.6814 - accuracy: 0.5499 - val_loss: 0.7274 - val_accuracy: 0.4577\n",
            "Epoch 18/100\n",
            "17/17 [==============================] - 0s 3ms/step - loss: 0.6824 - accuracy: 0.5642 - val_loss: 0.7003 - val_accuracy: 0.4726\n",
            "Epoch 19/100\n",
            "17/17 [==============================] - 0s 4ms/step - loss: 0.6789 - accuracy: 0.5716 - val_loss: 0.7160 - val_accuracy: 0.4428\n",
            "Epoch 20/100\n",
            "17/17 [==============================] - 0s 3ms/step - loss: 0.6787 - accuracy: 0.5815 - val_loss: 0.7292 - val_accuracy: 0.4378\n",
            "Epoch 21/100\n",
            "17/17 [==============================] - 0s 3ms/step - loss: 0.6799 - accuracy: 0.5803 - val_loss: 0.7153 - val_accuracy: 0.4677\n",
            "Epoch 22/100\n",
            "17/17 [==============================] - 0s 4ms/step - loss: 0.6775 - accuracy: 0.5648 - val_loss: 0.7572 - val_accuracy: 0.4527\n",
            "Epoch 23/100\n",
            "17/17 [==============================] - 0s 3ms/step - loss: 0.6779 - accuracy: 0.5753 - val_loss: 0.7062 - val_accuracy: 0.4826\n",
            "Epoch 24/100\n",
            "17/17 [==============================] - 0s 3ms/step - loss: 0.6725 - accuracy: 0.5834 - val_loss: 0.7563 - val_accuracy: 0.4627\n",
            "Epoch 25/100\n",
            "17/17 [==============================] - 0s 4ms/step - loss: 0.6752 - accuracy: 0.5933 - val_loss: 0.7104 - val_accuracy: 0.4975\n",
            "Epoch 26/100\n",
            "17/17 [==============================] - 0s 3ms/step - loss: 0.6745 - accuracy: 0.5976 - val_loss: 0.7216 - val_accuracy: 0.4876\n",
            "Epoch 27/100\n",
            "17/17 [==============================] - 0s 3ms/step - loss: 0.6753 - accuracy: 0.5815 - val_loss: 0.7253 - val_accuracy: 0.4876\n",
            "Epoch 28/100\n",
            "17/17 [==============================] - 0s 3ms/step - loss: 0.6679 - accuracy: 0.5914 - val_loss: 0.7523 - val_accuracy: 0.4627\n",
            "Epoch 29/100\n",
            "17/17 [==============================] - 0s 3ms/step - loss: 0.6677 - accuracy: 0.5952 - val_loss: 0.7294 - val_accuracy: 0.4627\n",
            "Epoch 30/100\n",
            "17/17 [==============================] - 0s 3ms/step - loss: 0.6649 - accuracy: 0.6063 - val_loss: 0.7259 - val_accuracy: 0.4577\n",
            "Epoch 31/100\n",
            "17/17 [==============================] - 0s 3ms/step - loss: 0.6624 - accuracy: 0.6051 - val_loss: 0.7530 - val_accuracy: 0.4925\n",
            "Epoch 32/100\n",
            "17/17 [==============================] - 0s 3ms/step - loss: 0.6647 - accuracy: 0.6113 - val_loss: 0.7465 - val_accuracy: 0.4826\n",
            "Epoch 33/100\n",
            "17/17 [==============================] - 0s 4ms/step - loss: 0.6578 - accuracy: 0.5989 - val_loss: 0.7724 - val_accuracy: 0.4428\n",
            "Epoch 34/100\n",
            "17/17 [==============================] - 0s 4ms/step - loss: 0.6599 - accuracy: 0.6014 - val_loss: 0.7555 - val_accuracy: 0.4925\n",
            "Epoch 35/100\n",
            "17/17 [==============================] - 0s 3ms/step - loss: 0.6534 - accuracy: 0.6243 - val_loss: 0.7139 - val_accuracy: 0.5124\n",
            "Epoch 36/100\n",
            "17/17 [==============================] - 0s 3ms/step - loss: 0.6591 - accuracy: 0.5970 - val_loss: 0.7232 - val_accuracy: 0.5075\n",
            "Epoch 37/100\n",
            "17/17 [==============================] - 0s 3ms/step - loss: 0.6598 - accuracy: 0.6100 - val_loss: 0.7806 - val_accuracy: 0.4726\n",
            "Epoch 38/100\n",
            "17/17 [==============================] - 0s 3ms/step - loss: 0.6500 - accuracy: 0.6187 - val_loss: 0.7554 - val_accuracy: 0.4925\n",
            "Epoch 39/100\n",
            "17/17 [==============================] - 0s 3ms/step - loss: 0.6484 - accuracy: 0.6156 - val_loss: 0.7804 - val_accuracy: 0.4677\n",
            "Epoch 40/100\n",
            "17/17 [==============================] - 0s 3ms/step - loss: 0.6474 - accuracy: 0.6169 - val_loss: 0.7865 - val_accuracy: 0.5025\n",
            "Epoch 41/100\n",
            "17/17 [==============================] - 0s 3ms/step - loss: 0.6521 - accuracy: 0.6069 - val_loss: 0.7345 - val_accuracy: 0.5323\n",
            "Epoch 42/100\n",
            "17/17 [==============================] - 0s 3ms/step - loss: 0.6430 - accuracy: 0.6162 - val_loss: 0.7466 - val_accuracy: 0.4826\n",
            "Epoch 43/100\n",
            "17/17 [==============================] - 0s 3ms/step - loss: 0.6431 - accuracy: 0.6280 - val_loss: 0.7894 - val_accuracy: 0.4876\n",
            "Epoch 44/100\n",
            "17/17 [==============================] - 0s 4ms/step - loss: 0.6329 - accuracy: 0.6386 - val_loss: 0.8022 - val_accuracy: 0.4726\n",
            "Epoch 45/100\n",
            "17/17 [==============================] - 0s 4ms/step - loss: 0.6339 - accuracy: 0.6336 - val_loss: 0.7603 - val_accuracy: 0.5025\n",
            "Epoch 46/100\n",
            "17/17 [==============================] - 0s 3ms/step - loss: 0.6376 - accuracy: 0.6237 - val_loss: 0.7654 - val_accuracy: 0.5274\n",
            "Epoch 47/100\n",
            "17/17 [==============================] - 0s 3ms/step - loss: 0.6305 - accuracy: 0.6367 - val_loss: 0.7781 - val_accuracy: 0.4776\n",
            "Epoch 48/100\n",
            "17/17 [==============================] - 0s 3ms/step - loss: 0.6337 - accuracy: 0.6311 - val_loss: 0.8251 - val_accuracy: 0.4876\n",
            "Epoch 49/100\n",
            "17/17 [==============================] - 0s 3ms/step - loss: 0.6276 - accuracy: 0.6355 - val_loss: 0.7731 - val_accuracy: 0.5025\n",
            "Epoch 50/100\n",
            "17/17 [==============================] - 0s 4ms/step - loss: 0.6297 - accuracy: 0.6404 - val_loss: 0.7179 - val_accuracy: 0.5323\n",
            "Epoch 51/100\n",
            "17/17 [==============================] - 0s 3ms/step - loss: 0.6245 - accuracy: 0.6392 - val_loss: 0.7634 - val_accuracy: 0.4876\n",
            "Epoch 52/100\n",
            "17/17 [==============================] - 0s 4ms/step - loss: 0.6186 - accuracy: 0.6410 - val_loss: 0.7139 - val_accuracy: 0.5423\n",
            "Epoch 53/100\n",
            "17/17 [==============================] - 0s 4ms/step - loss: 0.6174 - accuracy: 0.6373 - val_loss: 0.7609 - val_accuracy: 0.5075\n",
            "Epoch 54/100\n",
            "17/17 [==============================] - 0s 3ms/step - loss: 0.6071 - accuracy: 0.6528 - val_loss: 0.7382 - val_accuracy: 0.5174\n",
            "Epoch 55/100\n",
            "17/17 [==============================] - 0s 3ms/step - loss: 0.6150 - accuracy: 0.6435 - val_loss: 0.7723 - val_accuracy: 0.4975\n",
            "Epoch 56/100\n",
            "17/17 [==============================] - 0s 3ms/step - loss: 0.6152 - accuracy: 0.6578 - val_loss: 0.8100 - val_accuracy: 0.4677\n",
            "Epoch 57/100\n",
            "17/17 [==============================] - 0s 3ms/step - loss: 0.6182 - accuracy: 0.6683 - val_loss: 0.7974 - val_accuracy: 0.4726\n",
            "Epoch 58/100\n",
            "17/17 [==============================] - 0s 3ms/step - loss: 0.6063 - accuracy: 0.6572 - val_loss: 0.8149 - val_accuracy: 0.4577\n",
            "Epoch 59/100\n",
            "17/17 [==============================] - 0s 3ms/step - loss: 0.6042 - accuracy: 0.6683 - val_loss: 0.8854 - val_accuracy: 0.4726\n",
            "Epoch 60/100\n",
            "17/17 [==============================] - 0s 3ms/step - loss: 0.6106 - accuracy: 0.6596 - val_loss: 0.8568 - val_accuracy: 0.4826\n",
            "Epoch 61/100\n",
            "17/17 [==============================] - 0s 3ms/step - loss: 0.6008 - accuracy: 0.6547 - val_loss: 0.7426 - val_accuracy: 0.5174\n",
            "Epoch 62/100\n",
            "17/17 [==============================] - 0s 4ms/step - loss: 0.5950 - accuracy: 0.6658 - val_loss: 0.7258 - val_accuracy: 0.5423\n",
            "Epoch 63/100\n",
            "17/17 [==============================] - 0s 3ms/step - loss: 0.5922 - accuracy: 0.6609 - val_loss: 0.7576 - val_accuracy: 0.5274\n",
            "Epoch 64/100\n",
            "17/17 [==============================] - 0s 4ms/step - loss: 0.5955 - accuracy: 0.6578 - val_loss: 0.7758 - val_accuracy: 0.4677\n",
            "Epoch 65/100\n",
            "17/17 [==============================] - 0s 4ms/step - loss: 0.5908 - accuracy: 0.6696 - val_loss: 0.7704 - val_accuracy: 0.5075\n",
            "Epoch 66/100\n",
            "17/17 [==============================] - 0s 4ms/step - loss: 0.5940 - accuracy: 0.6627 - val_loss: 0.7233 - val_accuracy: 0.5423\n",
            "Epoch 67/100\n",
            "17/17 [==============================] - 0s 3ms/step - loss: 0.5853 - accuracy: 0.6857 - val_loss: 0.7985 - val_accuracy: 0.4975\n",
            "Epoch 68/100\n",
            "17/17 [==============================] - 0s 3ms/step - loss: 0.5821 - accuracy: 0.6894 - val_loss: 0.8399 - val_accuracy: 0.4826\n",
            "Epoch 69/100\n",
            "17/17 [==============================] - 0s 3ms/step - loss: 0.5908 - accuracy: 0.6882 - val_loss: 0.8215 - val_accuracy: 0.4876\n",
            "Epoch 70/100\n",
            "17/17 [==============================] - 0s 3ms/step - loss: 0.5866 - accuracy: 0.6751 - val_loss: 0.7421 - val_accuracy: 0.5174\n",
            "Epoch 71/100\n",
            "17/17 [==============================] - 0s 3ms/step - loss: 0.5797 - accuracy: 0.6869 - val_loss: 0.7651 - val_accuracy: 0.5025\n",
            "Epoch 72/100\n",
            "17/17 [==============================] - 0s 4ms/step - loss: 0.5769 - accuracy: 0.6838 - val_loss: 0.7311 - val_accuracy: 0.5075\n",
            "Epoch 73/100\n",
            "17/17 [==============================] - 0s 3ms/step - loss: 0.5742 - accuracy: 0.6813 - val_loss: 0.7446 - val_accuracy: 0.5075\n",
            "Epoch 74/100\n",
            "17/17 [==============================] - 0s 3ms/step - loss: 0.5698 - accuracy: 0.6863 - val_loss: 0.8160 - val_accuracy: 0.4925\n",
            "Epoch 75/100\n",
            "17/17 [==============================] - 0s 3ms/step - loss: 0.5736 - accuracy: 0.6838 - val_loss: 0.7147 - val_accuracy: 0.5224\n",
            "Epoch 76/100\n",
            "17/17 [==============================] - 0s 3ms/step - loss: 0.5653 - accuracy: 0.7037 - val_loss: 0.8464 - val_accuracy: 0.4776\n",
            "Epoch 77/100\n",
            "17/17 [==============================] - 0s 3ms/step - loss: 0.5797 - accuracy: 0.6931 - val_loss: 0.7609 - val_accuracy: 0.4975\n",
            "Epoch 78/100\n",
            "17/17 [==============================] - 0s 3ms/step - loss: 0.5699 - accuracy: 0.6869 - val_loss: 0.8474 - val_accuracy: 0.4925\n",
            "Epoch 79/100\n",
            "17/17 [==============================] - 0s 3ms/step - loss: 0.5760 - accuracy: 0.6733 - val_loss: 0.7632 - val_accuracy: 0.5124\n",
            "Epoch 80/100\n",
            "17/17 [==============================] - 0s 3ms/step - loss: 0.5595 - accuracy: 0.7012 - val_loss: 0.7689 - val_accuracy: 0.5224\n",
            "Epoch 81/100\n",
            "17/17 [==============================] - 0s 4ms/step - loss: 0.5682 - accuracy: 0.6882 - val_loss: 0.8014 - val_accuracy: 0.4975\n",
            "Epoch 82/100\n",
            "17/17 [==============================] - 0s 4ms/step - loss: 0.5594 - accuracy: 0.6950 - val_loss: 0.7773 - val_accuracy: 0.5124\n",
            "Epoch 83/100\n",
            "17/17 [==============================] - 0s 3ms/step - loss: 0.5561 - accuracy: 0.6975 - val_loss: 0.7959 - val_accuracy: 0.4876\n",
            "Epoch 84/100\n",
            "17/17 [==============================] - 0s 3ms/step - loss: 0.5532 - accuracy: 0.7037 - val_loss: 0.8888 - val_accuracy: 0.4677\n",
            "Epoch 85/100\n",
            "17/17 [==============================] - 0s 3ms/step - loss: 0.5537 - accuracy: 0.7086 - val_loss: 0.7796 - val_accuracy: 0.4776\n",
            "Epoch 86/100\n",
            "17/17 [==============================] - 0s 3ms/step - loss: 0.5518 - accuracy: 0.7012 - val_loss: 0.9237 - val_accuracy: 0.4975\n",
            "Epoch 87/100\n",
            "17/17 [==============================] - 0s 3ms/step - loss: 0.5483 - accuracy: 0.6993 - val_loss: 0.9176 - val_accuracy: 0.5124\n",
            "Epoch 88/100\n",
            "17/17 [==============================] - 0s 3ms/step - loss: 0.5463 - accuracy: 0.7092 - val_loss: 0.8484 - val_accuracy: 0.4876\n",
            "Epoch 89/100\n",
            "17/17 [==============================] - 0s 4ms/step - loss: 0.5525 - accuracy: 0.7111 - val_loss: 0.8629 - val_accuracy: 0.4627\n",
            "Epoch 90/100\n",
            "17/17 [==============================] - 0s 4ms/step - loss: 0.5578 - accuracy: 0.7142 - val_loss: 0.7996 - val_accuracy: 0.5075\n",
            "Epoch 91/100\n",
            "17/17 [==============================] - 0s 4ms/step - loss: 0.5478 - accuracy: 0.7123 - val_loss: 0.8338 - val_accuracy: 0.4876\n",
            "Epoch 92/100\n",
            "17/17 [==============================] - 0s 3ms/step - loss: 0.5473 - accuracy: 0.7185 - val_loss: 0.9149 - val_accuracy: 0.4975\n",
            "Epoch 93/100\n",
            "17/17 [==============================] - 0s 3ms/step - loss: 0.5608 - accuracy: 0.7086 - val_loss: 0.8953 - val_accuracy: 0.5025\n",
            "Epoch 94/100\n",
            "17/17 [==============================] - 0s 3ms/step - loss: 0.5346 - accuracy: 0.7136 - val_loss: 0.8021 - val_accuracy: 0.4975\n",
            "Epoch 95/100\n",
            "17/17 [==============================] - 0s 3ms/step - loss: 0.5319 - accuracy: 0.7198 - val_loss: 0.8693 - val_accuracy: 0.5075\n",
            "Epoch 96/100\n",
            "17/17 [==============================] - 0s 3ms/step - loss: 0.5365 - accuracy: 0.7179 - val_loss: 0.8268 - val_accuracy: 0.4726\n",
            "Epoch 97/100\n",
            "17/17 [==============================] - 0s 4ms/step - loss: 0.5337 - accuracy: 0.7148 - val_loss: 0.7727 - val_accuracy: 0.5473\n",
            "Epoch 98/100\n",
            "17/17 [==============================] - 0s 4ms/step - loss: 0.5272 - accuracy: 0.7086 - val_loss: 0.7996 - val_accuracy: 0.5522\n",
            "Epoch 99/100\n",
            "17/17 [==============================] - 0s 3ms/step - loss: 0.5322 - accuracy: 0.7068 - val_loss: 0.7478 - val_accuracy: 0.5075\n",
            "Epoch 100/100\n",
            "17/17 [==============================] - 0s 4ms/step - loss: 0.5204 - accuracy: 0.7316 - val_loss: 0.9590 - val_accuracy: 0.4975\n"
          ],
          "name": "stdout"
        },
        {
          "output_type": "execute_result",
          "data": {
            "text/plain": [
              "<tensorflow.python.keras.callbacks.History at 0x7ff65df46080>"
            ]
          },
          "metadata": {
            "tags": []
          },
          "execution_count": 53
        }
      ]
    },
    {
      "cell_type": "code",
      "metadata": {
        "id": "jvYxpW1lB_cC",
        "colab_type": "code",
        "outputId": "58eb5a6d-b4a7-471b-c1a7-c2c86fb4bae7",
        "colab": {
          "base_uri": "https://localhost:8080/",
          "height": 35
        }
      },
      "source": [
        "trop"
      ],
      "execution_count": 0,
      "outputs": [
        {
          "output_type": "execute_result",
          "data": {
            "text/plain": [
              "array([0, 0, 0, ..., 0, 0, 0])"
            ]
          },
          "metadata": {
            "tags": []
          },
          "execution_count": 17
        }
      ]
    },
    {
      "cell_type": "code",
      "metadata": {
        "id": "2v5bKaIX2WUI",
        "colab_type": "code",
        "outputId": "f0ef7824-ccbe-4c70-f24f-144e4237c338",
        "colab": {
          "base_uri": "https://localhost:8080/",
          "height": 35
        }
      },
      "source": [
        "scaledtar/2"
      ],
      "execution_count": 0,
      "outputs": [
        {
          "output_type": "execute_result",
          "data": {
            "text/plain": [
              "array([0. , 0. , 0. , ..., 0. , 0. , 0.5])"
            ]
          },
          "metadata": {
            "tags": []
          },
          "execution_count": 18
        }
      ]
    },
    {
      "cell_type": "code",
      "metadata": {
        "id": "Bjv2db932WQw",
        "colab_type": "code",
        "colab": {}
      },
      "source": [
        ""
      ],
      "execution_count": 0,
      "outputs": []
    },
    {
      "cell_type": "code",
      "metadata": {
        "id": "0bfyQYHs2WOq",
        "colab_type": "code",
        "colab": {}
      },
      "source": [
        ""
      ],
      "execution_count": 0,
      "outputs": []
    },
    {
      "cell_type": "code",
      "metadata": {
        "id": "49hZrwMK2WJW",
        "colab_type": "code",
        "colab": {}
      },
      "source": [
        ""
      ],
      "execution_count": 0,
      "outputs": []
    },
    {
      "cell_type": "code",
      "metadata": {
        "id": "JPHnQyVc2WER",
        "colab_type": "code",
        "colab": {}
      },
      "source": [
        ""
      ],
      "execution_count": 0,
      "outputs": []
    },
    {
      "cell_type": "code",
      "metadata": {
        "id": "9ClWSfne2V-q",
        "colab_type": "code",
        "colab": {}
      },
      "source": [
        ""
      ],
      "execution_count": 0,
      "outputs": []
    },
    {
      "cell_type": "code",
      "metadata": {
        "id": "eHVmL16M2V2Q",
        "colab_type": "code",
        "colab": {}
      },
      "source": [
        ""
      ],
      "execution_count": 0,
      "outputs": []
    }
  ]
}